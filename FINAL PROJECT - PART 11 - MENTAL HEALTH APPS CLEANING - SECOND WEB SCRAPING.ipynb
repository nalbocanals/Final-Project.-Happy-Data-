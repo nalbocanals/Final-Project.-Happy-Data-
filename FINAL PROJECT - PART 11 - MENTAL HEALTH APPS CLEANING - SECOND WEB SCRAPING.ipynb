{
 "cells": [
  {
   "cell_type": "markdown",
   "metadata": {},
   "source": [
    "# PART 11 - MENTAL HEALTH APPS CLEANING - SECOND WEB SCRAPING"
   ]
  },
  {
   "cell_type": "code",
   "execution_count": 1,
   "metadata": {},
   "outputs": [],
   "source": [
    "import pandas as pd\n",
    "import warnings\n",
    "warnings.filterwarnings(\"ignore\")"
   ]
  },
  {
   "cell_type": "code",
   "execution_count": 2,
   "metadata": {},
   "outputs": [],
   "source": [
    "apps_df=pd.read_csv('/Users/nuria/Documents/datasciencecourse/FINAL PROJECT/Apps_mental_health_happiness.csv')"
   ]
  },
  {
   "cell_type": "code",
   "execution_count": 3,
   "metadata": {},
   "outputs": [
    {
     "data": {
      "text/html": [
       "<div>\n",
       "<style scoped>\n",
       "    .dataframe tbody tr th:only-of-type {\n",
       "        vertical-align: middle;\n",
       "    }\n",
       "\n",
       "    .dataframe tbody tr th {\n",
       "        vertical-align: top;\n",
       "    }\n",
       "\n",
       "    .dataframe thead th {\n",
       "        text-align: right;\n",
       "    }\n",
       "</style>\n",
       "<table border=\"1\" class=\"dataframe\">\n",
       "  <thead>\n",
       "    <tr style=\"text-align: right;\">\n",
       "      <th></th>\n",
       "      <th>App</th>\n",
       "      <th>Developer</th>\n",
       "      <th>Type</th>\n",
       "      <th>Rates</th>\n",
       "      <th>Downloads+</th>\n",
       "      <th>Last_reviews</th>\n",
       "    </tr>\n",
       "  </thead>\n",
       "  <tbody>\n",
       "    <tr>\n",
       "      <th>0</th>\n",
       "      <td>El Poder de la mente</td>\n",
       "      <td>Emprendedora apps</td>\n",
       "      <td>Estilo de vida</td>\n",
       "      <td>4.4</td>\n",
       "      <td>100.000+</td>\n",
       "      <td>Gauuu, que buena aplicación. Amo los temas de ...</td>\n",
       "    </tr>\n",
       "    <tr>\n",
       "      <th>1</th>\n",
       "      <td>Audios de Autoestima💪Motivación😄Superación❤️</td>\n",
       "      <td>DAVID B MARÍN</td>\n",
       "      <td>Educación</td>\n",
       "      <td>4.6</td>\n",
       "      <td>5.000+</td>\n",
       "      <td>Muy buenos mensajes, positivos y con mucho emp...</td>\n",
       "    </tr>\n",
       "    <tr>\n",
       "      <th>2</th>\n",
       "      <td>Goalmap: motivación, bienestar, metas personales</td>\n",
       "      <td>GOALMAP</td>\n",
       "      <td>Productividad</td>\n",
       "      <td>3.3</td>\n",
       "      <td>100.000+</td>\n",
       "      <td>Excelente aplicación para cumplir metas de háb...</td>\n",
       "    </tr>\n",
       "    <tr>\n",
       "      <th>3</th>\n",
       "      <td>Crecimiento Espiritual</td>\n",
       "      <td>Apps Bíblicas Cristianas Interesantes</td>\n",
       "      <td>Libros y obras de consulta</td>\n",
       "      <td>4.6</td>\n",
       "      <td>100.000+</td>\n",
       "      <td>Muy buena aplicasion,lo que más me gusta es qu...</td>\n",
       "    </tr>\n",
       "    <tr>\n",
       "      <th>4</th>\n",
       "      <td>Mindfulness Meditación guiada</td>\n",
       "      <td>Metta Apps</td>\n",
       "      <td>Estilo de vida</td>\n",
       "      <td>4.1</td>\n",
       "      <td>100.000+</td>\n",
       "      <td>El contenido de la app es excepcional y muy út...</td>\n",
       "    </tr>\n",
       "    <tr>\n",
       "      <th>...</th>\n",
       "      <td>...</td>\n",
       "      <td>...</td>\n",
       "      <td>...</td>\n",
       "      <td>...</td>\n",
       "      <td>...</td>\n",
       "      <td>...</td>\n",
       "    </tr>\n",
       "    <tr>\n",
       "      <th>1023</th>\n",
       "      <td>Meditación Guiada Gratis</td>\n",
       "      <td>AbacaxiApps</td>\n",
       "      <td>Salud y bienestar</td>\n",
       "      <td>4.3</td>\n",
       "      <td>10.000+</td>\n",
       "      <td>Estan muy interesantes las meditaciones guiada...</td>\n",
       "    </tr>\n",
       "    <tr>\n",
       "      <th>1024</th>\n",
       "      <td>Control y Monitor: Ansiedad, Ánimo y Autoestima</td>\n",
       "      <td>TwoCats App</td>\n",
       "      <td>Estilo de vida</td>\n",
       "      <td>4.6</td>\n",
       "      <td>1.000.000+</td>\n",
       "      <td>Esta es de las mejores cosas que me pasó, es u...</td>\n",
       "    </tr>\n",
       "    <tr>\n",
       "      <th>1025</th>\n",
       "      <td>Pixels - Estados de Ánimo y Mindfulness</td>\n",
       "      <td>Teo Vogel</td>\n",
       "      <td>Estilo de vida</td>\n",
       "      <td>4.7</td>\n",
       "      <td>500.000+</td>\n",
       "      <td>me gusta mucho la app, pero estaría bueno que ...</td>\n",
       "    </tr>\n",
       "    <tr>\n",
       "      <th>1026</th>\n",
       "      <td>Psicología Positiva Fácil</td>\n",
       "      <td>3Temes Publishers</td>\n",
       "      <td>Salud y bienestar</td>\n",
       "      <td>4.1</td>\n",
       "      <td>50.000+</td>\n",
       "      <td>letras muy pequeñas, que se hace imposible lee...</td>\n",
       "    </tr>\n",
       "    <tr>\n",
       "      <th>1027</th>\n",
       "      <td>PSY online terapia psicologia. Сhat apoyo anón...</td>\n",
       "      <td>INVOLTA INC</td>\n",
       "      <td>Salud y bienestar</td>\n",
       "      <td>4.3</td>\n",
       "      <td>500.000+</td>\n",
       "      <td>No me permite abrir la app y me gustaría segui...</td>\n",
       "    </tr>\n",
       "  </tbody>\n",
       "</table>\n",
       "<p>1028 rows × 6 columns</p>\n",
       "</div>"
      ],
      "text/plain": [
       "                                                    App  \\\n",
       "0                                  El Poder de la mente   \n",
       "1          Audios de Autoestima💪Motivación😄Superación❤️   \n",
       "2      Goalmap: motivación, bienestar, metas personales   \n",
       "3                                Crecimiento Espiritual   \n",
       "4                         Mindfulness Meditación guiada   \n",
       "...                                                 ...   \n",
       "1023                           Meditación Guiada Gratis   \n",
       "1024    Control y Monitor: Ansiedad, Ánimo y Autoestima   \n",
       "1025            Pixels - Estados de Ánimo y Mindfulness   \n",
       "1026                          Psicología Positiva Fácil   \n",
       "1027  PSY online terapia psicologia. Сhat apoyo anón...   \n",
       "\n",
       "                                  Developer                        Type  \\\n",
       "0                         Emprendedora apps              Estilo de vida   \n",
       "1                             DAVID B MARÍN                   Educación   \n",
       "2                                   GOALMAP               Productividad   \n",
       "3     Apps Bíblicas Cristianas Interesantes  Libros y obras de consulta   \n",
       "4                                Metta Apps              Estilo de vida   \n",
       "...                                     ...                         ...   \n",
       "1023                            AbacaxiApps           Salud y bienestar   \n",
       "1024                            TwoCats App              Estilo de vida   \n",
       "1025                              Teo Vogel              Estilo de vida   \n",
       "1026                      3Temes Publishers           Salud y bienestar   \n",
       "1027                            INVOLTA INC           Salud y bienestar   \n",
       "\n",
       "      Rates  Downloads+                                       Last_reviews  \n",
       "0       4.4    100.000+  Gauuu, que buena aplicación. Amo los temas de ...  \n",
       "1       4.6      5.000+  Muy buenos mensajes, positivos y con mucho emp...  \n",
       "2       3.3    100.000+  Excelente aplicación para cumplir metas de háb...  \n",
       "3       4.6    100.000+  Muy buena aplicasion,lo que más me gusta es qu...  \n",
       "4       4.1    100.000+  El contenido de la app es excepcional y muy út...  \n",
       "...     ...         ...                                                ...  \n",
       "1023    4.3     10.000+  Estan muy interesantes las meditaciones guiada...  \n",
       "1024    4.6  1.000.000+  Esta es de las mejores cosas que me pasó, es u...  \n",
       "1025    4.7    500.000+  me gusta mucho la app, pero estaría bueno que ...  \n",
       "1026    4.1     50.000+  letras muy pequeñas, que se hace imposible lee...  \n",
       "1027    4.3    500.000+  No me permite abrir la app y me gustaría segui...  \n",
       "\n",
       "[1028 rows x 6 columns]"
      ]
     },
     "execution_count": 3,
     "metadata": {},
     "output_type": "execute_result"
    }
   ],
   "source": [
    "apps_df"
   ]
  },
  {
   "cell_type": "markdown",
   "metadata": {},
   "source": [
    "##### CHECK FOR NULL VALUES"
   ]
  },
  {
   "cell_type": "code",
   "execution_count": 4,
   "metadata": {},
   "outputs": [
    {
     "name": "stdout",
     "output_type": "stream",
     "text": [
      "<class 'pandas.core.frame.DataFrame'>\n",
      "RangeIndex: 1028 entries, 0 to 1027\n",
      "Data columns (total 6 columns):\n",
      " #   Column        Non-Null Count  Dtype  \n",
      "---  ------        --------------  -----  \n",
      " 0   App           1028 non-null   object \n",
      " 1   Developer     1028 non-null   object \n",
      " 2   Type          1028 non-null   object \n",
      " 3   Rates         1028 non-null   float64\n",
      " 4   Downloads+    1028 non-null   object \n",
      " 5   Last_reviews  1026 non-null   object \n",
      "dtypes: float64(1), object(5)\n",
      "memory usage: 48.3+ KB\n"
     ]
    }
   ],
   "source": [
    "apps_df.info()"
   ]
  },
  {
   "cell_type": "markdown",
   "metadata": {},
   "source": [
    "We can see that there are two missing reviews\n",
    "- Mental health and happiness\n",
    "- Motivational\n",
    "- Self esteem\n",
    "- Personal grouth"
   ]
  },
  {
   "cell_type": "markdown",
   "metadata": {},
   "source": [
    "##### CHECK DUPLICATES"
   ]
  },
  {
   "cell_type": "code",
   "execution_count": 7,
   "metadata": {},
   "outputs": [
    {
     "data": {
      "text/plain": [
       "336"
      ]
     },
     "execution_count": 7,
     "metadata": {},
     "output_type": "execute_result"
    }
   ],
   "source": [
    "apps_df.duplicated().sum() "
   ]
  },
  {
   "cell_type": "markdown",
   "metadata": {},
   "source": [
    "There are 336 duplicated apps, that is possible because when I was web scrapping Google Play for the diffetent possible entries in the searcher some apps appeared in the different searches"
   ]
  },
  {
   "cell_type": "code",
   "execution_count": 8,
   "metadata": {},
   "outputs": [],
   "source": [
    "apps_df.drop_duplicates(inplace=True)"
   ]
  },
  {
   "cell_type": "code",
   "execution_count": 9,
   "metadata": {},
   "outputs": [
    {
     "name": "stdout",
     "output_type": "stream",
     "text": [
      "<class 'pandas.core.frame.DataFrame'>\n",
      "Int64Index: 692 entries, 0 to 1027\n",
      "Data columns (total 6 columns):\n",
      " #   Column        Non-Null Count  Dtype  \n",
      "---  ------        --------------  -----  \n",
      " 0   App           692 non-null    object \n",
      " 1   Developer     692 non-null    object \n",
      " 2   Type          692 non-null    object \n",
      " 3   Rates         692 non-null    float64\n",
      " 4   Downloads+    692 non-null    object \n",
      " 5   Last_reviews  690 non-null    object \n",
      "dtypes: float64(1), object(5)\n",
      "memory usage: 37.8+ KB\n"
     ]
    }
   ],
   "source": [
    "apps_df.info()"
   ]
  },
  {
   "cell_type": "code",
   "execution_count": 13,
   "metadata": {},
   "outputs": [
    {
     "data": {
      "text/plain": [
       "156"
      ]
     },
     "execution_count": 13,
     "metadata": {},
     "output_type": "execute_result"
    }
   ],
   "source": [
    "apps_df.App.nunique()"
   ]
  },
  {
   "cell_type": "markdown",
   "metadata": {},
   "source": [
    "I'm going to study 156 different Apps to imporive happiness and personal wellness"
   ]
  },
  {
   "cell_type": "markdown",
   "metadata": {},
   "source": [
    "##### CONVERT THE DOWNLOAD COLUMN INTO NUMERICAL VARIABLE"
   ]
  },
  {
   "cell_type": "code",
   "execution_count": 17,
   "metadata": {},
   "outputs": [],
   "source": [
    "apps_df.reset_index(drop=True,inplace=True)"
   ]
  },
  {
   "cell_type": "code",
   "execution_count": 19,
   "metadata": {},
   "outputs": [
    {
     "data": {
      "text/html": [
       "<div>\n",
       "<style scoped>\n",
       "    .dataframe tbody tr th:only-of-type {\n",
       "        vertical-align: middle;\n",
       "    }\n",
       "\n",
       "    .dataframe tbody tr th {\n",
       "        vertical-align: top;\n",
       "    }\n",
       "\n",
       "    .dataframe thead th {\n",
       "        text-align: right;\n",
       "    }\n",
       "</style>\n",
       "<table border=\"1\" class=\"dataframe\">\n",
       "  <thead>\n",
       "    <tr style=\"text-align: right;\">\n",
       "      <th></th>\n",
       "      <th>App</th>\n",
       "      <th>Developer</th>\n",
       "      <th>Type</th>\n",
       "      <th>Rates</th>\n",
       "      <th>Downloads+</th>\n",
       "      <th>Last_reviews</th>\n",
       "    </tr>\n",
       "  </thead>\n",
       "  <tbody>\n",
       "    <tr>\n",
       "      <th>0</th>\n",
       "      <td>El Poder de la mente</td>\n",
       "      <td>Emprendedora apps</td>\n",
       "      <td>Estilo de vida</td>\n",
       "      <td>4.4</td>\n",
       "      <td>100.000+</td>\n",
       "      <td>Gauuu, que buena aplicación. Amo los temas de ...</td>\n",
       "    </tr>\n",
       "    <tr>\n",
       "      <th>1</th>\n",
       "      <td>Audios de Autoestima💪Motivación😄Superación❤️</td>\n",
       "      <td>DAVID B MARÍN</td>\n",
       "      <td>Educación</td>\n",
       "      <td>4.6</td>\n",
       "      <td>5.000+</td>\n",
       "      <td>Muy buenos mensajes, positivos y con mucho emp...</td>\n",
       "    </tr>\n",
       "    <tr>\n",
       "      <th>2</th>\n",
       "      <td>Goalmap: motivación, bienestar, metas personales</td>\n",
       "      <td>GOALMAP</td>\n",
       "      <td>Productividad</td>\n",
       "      <td>3.3</td>\n",
       "      <td>100.000+</td>\n",
       "      <td>Excelente aplicación para cumplir metas de háb...</td>\n",
       "    </tr>\n",
       "    <tr>\n",
       "      <th>3</th>\n",
       "      <td>Crecimiento Espiritual</td>\n",
       "      <td>Apps Bíblicas Cristianas Interesantes</td>\n",
       "      <td>Libros y obras de consulta</td>\n",
       "      <td>4.6</td>\n",
       "      <td>100.000+</td>\n",
       "      <td>Muy buena aplicasion,lo que más me gusta es qu...</td>\n",
       "    </tr>\n",
       "    <tr>\n",
       "      <th>4</th>\n",
       "      <td>Mindfulness Meditación guiada</td>\n",
       "      <td>Metta Apps</td>\n",
       "      <td>Estilo de vida</td>\n",
       "      <td>4.1</td>\n",
       "      <td>100.000+</td>\n",
       "      <td>El contenido de la app es excepcional y muy út...</td>\n",
       "    </tr>\n",
       "  </tbody>\n",
       "</table>\n",
       "</div>"
      ],
      "text/plain": [
       "                                                App  \\\n",
       "0                              El Poder de la mente   \n",
       "1      Audios de Autoestima💪Motivación😄Superación❤️   \n",
       "2  Goalmap: motivación, bienestar, metas personales   \n",
       "3                            Crecimiento Espiritual   \n",
       "4                     Mindfulness Meditación guiada   \n",
       "\n",
       "                               Developer                        Type  Rates  \\\n",
       "0                      Emprendedora apps              Estilo de vida    4.4   \n",
       "1                          DAVID B MARÍN                   Educación    4.6   \n",
       "2                                GOALMAP               Productividad    3.3   \n",
       "3  Apps Bíblicas Cristianas Interesantes  Libros y obras de consulta    4.6   \n",
       "4                             Metta Apps              Estilo de vida    4.1   \n",
       "\n",
       "  Downloads+                                       Last_reviews  \n",
       "0   100.000+  Gauuu, que buena aplicación. Amo los temas de ...  \n",
       "1     5.000+  Muy buenos mensajes, positivos y con mucho emp...  \n",
       "2   100.000+  Excelente aplicación para cumplir metas de háb...  \n",
       "3   100.000+  Muy buena aplicasion,lo que más me gusta es qu...  \n",
       "4   100.000+  El contenido de la app es excepcional y muy út...  "
      ]
     },
     "execution_count": 19,
     "metadata": {},
     "output_type": "execute_result"
    }
   ],
   "source": [
    "apps_df.head()"
   ]
  },
  {
   "cell_type": "code",
   "execution_count": 21,
   "metadata": {},
   "outputs": [
    {
     "data": {
      "text/plain": [
       "array(['100.000+', '5.000+', '10.000+', '1.000+', '1.000.000+', '11M',\n",
       "       '500.000+', '50.000+', '5.000.000+', '10.000.000+', '100+', '500+'],\n",
       "      dtype=object)"
      ]
     },
     "execution_count": 21,
     "metadata": {},
     "output_type": "execute_result"
    }
   ],
   "source": [
    "apps_df['Downloads+'].unique()"
   ]
  },
  {
   "cell_type": "code",
   "execution_count": 22,
   "metadata": {},
   "outputs": [
    {
     "data": {
      "text/html": [
       "<div>\n",
       "<style scoped>\n",
       "    .dataframe tbody tr th:only-of-type {\n",
       "        vertical-align: middle;\n",
       "    }\n",
       "\n",
       "    .dataframe tbody tr th {\n",
       "        vertical-align: top;\n",
       "    }\n",
       "\n",
       "    .dataframe thead th {\n",
       "        text-align: right;\n",
       "    }\n",
       "</style>\n",
       "<table border=\"1\" class=\"dataframe\">\n",
       "  <thead>\n",
       "    <tr style=\"text-align: right;\">\n",
       "      <th></th>\n",
       "      <th>App</th>\n",
       "      <th>Developer</th>\n",
       "      <th>Type</th>\n",
       "      <th>Rates</th>\n",
       "      <th>Downloads+</th>\n",
       "      <th>Last_reviews</th>\n",
       "    </tr>\n",
       "  </thead>\n",
       "  <tbody>\n",
       "    <tr>\n",
       "      <th>18</th>\n",
       "      <td>Coaching Personal PRO</td>\n",
       "      <td>Metta Apps</td>\n",
       "      <td>Estilo de vida</td>\n",
       "      <td>4.9</td>\n",
       "      <td>11M</td>\n",
       "      <td>Buena</td>\n",
       "    </tr>\n",
       "    <tr>\n",
       "      <th>51</th>\n",
       "      <td>Coaching Personal PRO</td>\n",
       "      <td>Metta Apps</td>\n",
       "      <td>Estilo de vida</td>\n",
       "      <td>4.9</td>\n",
       "      <td>11M</td>\n",
       "      <td>He encontrado una gran fuente de inspiración. ...</td>\n",
       "    </tr>\n",
       "    <tr>\n",
       "      <th>105</th>\n",
       "      <td>Coaching Personal PRO</td>\n",
       "      <td>Metta Apps</td>\n",
       "      <td>Estilo de vida</td>\n",
       "      <td>4.9</td>\n",
       "      <td>11M</td>\n",
       "      <td>Excelente lo que estaba buscando. Felicitacion...</td>\n",
       "    </tr>\n",
       "    <tr>\n",
       "      <th>167</th>\n",
       "      <td>Coaching Personal PRO</td>\n",
       "      <td>Metta Apps</td>\n",
       "      <td>Estilo de vida</td>\n",
       "      <td>4.9</td>\n",
       "      <td>11M</td>\n",
       "      <td>Plantearte preguntas y auto responderse es un ...</td>\n",
       "    </tr>\n",
       "  </tbody>\n",
       "</table>\n",
       "</div>"
      ],
      "text/plain": [
       "                       App   Developer            Type  Rates Downloads+  \\\n",
       "18   Coaching Personal PRO  Metta Apps  Estilo de vida    4.9        11M   \n",
       "51   Coaching Personal PRO  Metta Apps  Estilo de vida    4.9        11M   \n",
       "105  Coaching Personal PRO  Metta Apps  Estilo de vida    4.9        11M   \n",
       "167  Coaching Personal PRO  Metta Apps  Estilo de vida    4.9        11M   \n",
       "\n",
       "                                          Last_reviews  \n",
       "18                                               Buena  \n",
       "51   He encontrado una gran fuente de inspiración. ...  \n",
       "105  Excelente lo que estaba buscando. Felicitacion...  \n",
       "167  Plantearte preguntas y auto responderse es un ...  "
      ]
     },
     "execution_count": 22,
     "metadata": {},
     "output_type": "execute_result"
    }
   ],
   "source": [
    "apps_df[apps_df['Downloads+']=='11M']"
   ]
  },
  {
   "cell_type": "code",
   "execution_count": 26,
   "metadata": {},
   "outputs": [],
   "source": [
    "apps_df.iloc[18,4]='11.000'\n",
    "apps_df.iloc[51,4]='11.000'\n",
    "apps_df.iloc[105,4]='11.000'\n",
    "apps_df.iloc[167,4]='11.000'"
   ]
  },
  {
   "cell_type": "code",
   "execution_count": 28,
   "metadata": {},
   "outputs": [],
   "source": [
    "apps_df['Downloads+'] = apps_df.loc[:,'Downloads+'].str.replace('+', '')"
   ]
  },
  {
   "cell_type": "code",
   "execution_count": 29,
   "metadata": {},
   "outputs": [
    {
     "data": {
      "text/html": [
       "<div>\n",
       "<style scoped>\n",
       "    .dataframe tbody tr th:only-of-type {\n",
       "        vertical-align: middle;\n",
       "    }\n",
       "\n",
       "    .dataframe tbody tr th {\n",
       "        vertical-align: top;\n",
       "    }\n",
       "\n",
       "    .dataframe thead th {\n",
       "        text-align: right;\n",
       "    }\n",
       "</style>\n",
       "<table border=\"1\" class=\"dataframe\">\n",
       "  <thead>\n",
       "    <tr style=\"text-align: right;\">\n",
       "      <th></th>\n",
       "      <th>App</th>\n",
       "      <th>Developer</th>\n",
       "      <th>Type</th>\n",
       "      <th>Rates</th>\n",
       "      <th>Downloads+</th>\n",
       "      <th>Last_reviews</th>\n",
       "    </tr>\n",
       "  </thead>\n",
       "  <tbody>\n",
       "    <tr>\n",
       "      <th>0</th>\n",
       "      <td>El Poder de la mente</td>\n",
       "      <td>Emprendedora apps</td>\n",
       "      <td>Estilo de vida</td>\n",
       "      <td>4.4</td>\n",
       "      <td>100.000</td>\n",
       "      <td>Gauuu, que buena aplicación. Amo los temas de ...</td>\n",
       "    </tr>\n",
       "    <tr>\n",
       "      <th>1</th>\n",
       "      <td>Audios de Autoestima💪Motivación😄Superación❤️</td>\n",
       "      <td>DAVID B MARÍN</td>\n",
       "      <td>Educación</td>\n",
       "      <td>4.6</td>\n",
       "      <td>5.000</td>\n",
       "      <td>Muy buenos mensajes, positivos y con mucho emp...</td>\n",
       "    </tr>\n",
       "    <tr>\n",
       "      <th>2</th>\n",
       "      <td>Goalmap: motivación, bienestar, metas personales</td>\n",
       "      <td>GOALMAP</td>\n",
       "      <td>Productividad</td>\n",
       "      <td>3.3</td>\n",
       "      <td>100.000</td>\n",
       "      <td>Excelente aplicación para cumplir metas de háb...</td>\n",
       "    </tr>\n",
       "    <tr>\n",
       "      <th>3</th>\n",
       "      <td>Crecimiento Espiritual</td>\n",
       "      <td>Apps Bíblicas Cristianas Interesantes</td>\n",
       "      <td>Libros y obras de consulta</td>\n",
       "      <td>4.6</td>\n",
       "      <td>100.000</td>\n",
       "      <td>Muy buena aplicasion,lo que más me gusta es qu...</td>\n",
       "    </tr>\n",
       "    <tr>\n",
       "      <th>4</th>\n",
       "      <td>Mindfulness Meditación guiada</td>\n",
       "      <td>Metta Apps</td>\n",
       "      <td>Estilo de vida</td>\n",
       "      <td>4.1</td>\n",
       "      <td>100.000</td>\n",
       "      <td>El contenido de la app es excepcional y muy út...</td>\n",
       "    </tr>\n",
       "  </tbody>\n",
       "</table>\n",
       "</div>"
      ],
      "text/plain": [
       "                                                App  \\\n",
       "0                              El Poder de la mente   \n",
       "1      Audios de Autoestima💪Motivación😄Superación❤️   \n",
       "2  Goalmap: motivación, bienestar, metas personales   \n",
       "3                            Crecimiento Espiritual   \n",
       "4                     Mindfulness Meditación guiada   \n",
       "\n",
       "                               Developer                        Type  Rates  \\\n",
       "0                      Emprendedora apps              Estilo de vida    4.4   \n",
       "1                          DAVID B MARÍN                   Educación    4.6   \n",
       "2                                GOALMAP               Productividad    3.3   \n",
       "3  Apps Bíblicas Cristianas Interesantes  Libros y obras de consulta    4.6   \n",
       "4                             Metta Apps              Estilo de vida    4.1   \n",
       "\n",
       "  Downloads+                                       Last_reviews  \n",
       "0    100.000  Gauuu, que buena aplicación. Amo los temas de ...  \n",
       "1      5.000  Muy buenos mensajes, positivos y con mucho emp...  \n",
       "2    100.000  Excelente aplicación para cumplir metas de háb...  \n",
       "3    100.000  Muy buena aplicasion,lo que más me gusta es qu...  \n",
       "4    100.000  El contenido de la app es excepcional y muy út...  "
      ]
     },
     "execution_count": 29,
     "metadata": {},
     "output_type": "execute_result"
    }
   ],
   "source": [
    "apps_df.head()"
   ]
  },
  {
   "cell_type": "code",
   "execution_count": 30,
   "metadata": {},
   "outputs": [],
   "source": [
    "apps_df['Downloads+'] = apps_df.loc[:,'Downloads+'].str.replace('.', '')"
   ]
  },
  {
   "cell_type": "code",
   "execution_count": 31,
   "metadata": {},
   "outputs": [
    {
     "data": {
      "text/html": [
       "<div>\n",
       "<style scoped>\n",
       "    .dataframe tbody tr th:only-of-type {\n",
       "        vertical-align: middle;\n",
       "    }\n",
       "\n",
       "    .dataframe tbody tr th {\n",
       "        vertical-align: top;\n",
       "    }\n",
       "\n",
       "    .dataframe thead th {\n",
       "        text-align: right;\n",
       "    }\n",
       "</style>\n",
       "<table border=\"1\" class=\"dataframe\">\n",
       "  <thead>\n",
       "    <tr style=\"text-align: right;\">\n",
       "      <th></th>\n",
       "      <th>App</th>\n",
       "      <th>Developer</th>\n",
       "      <th>Type</th>\n",
       "      <th>Rates</th>\n",
       "      <th>Downloads+</th>\n",
       "      <th>Last_reviews</th>\n",
       "    </tr>\n",
       "  </thead>\n",
       "  <tbody>\n",
       "    <tr>\n",
       "      <th>0</th>\n",
       "      <td>El Poder de la mente</td>\n",
       "      <td>Emprendedora apps</td>\n",
       "      <td>Estilo de vida</td>\n",
       "      <td>4.4</td>\n",
       "      <td>100000</td>\n",
       "      <td>Gauuu, que buena aplicación. Amo los temas de ...</td>\n",
       "    </tr>\n",
       "    <tr>\n",
       "      <th>1</th>\n",
       "      <td>Audios de Autoestima💪Motivación😄Superación❤️</td>\n",
       "      <td>DAVID B MARÍN</td>\n",
       "      <td>Educación</td>\n",
       "      <td>4.6</td>\n",
       "      <td>5000</td>\n",
       "      <td>Muy buenos mensajes, positivos y con mucho emp...</td>\n",
       "    </tr>\n",
       "    <tr>\n",
       "      <th>2</th>\n",
       "      <td>Goalmap: motivación, bienestar, metas personales</td>\n",
       "      <td>GOALMAP</td>\n",
       "      <td>Productividad</td>\n",
       "      <td>3.3</td>\n",
       "      <td>100000</td>\n",
       "      <td>Excelente aplicación para cumplir metas de háb...</td>\n",
       "    </tr>\n",
       "    <tr>\n",
       "      <th>3</th>\n",
       "      <td>Crecimiento Espiritual</td>\n",
       "      <td>Apps Bíblicas Cristianas Interesantes</td>\n",
       "      <td>Libros y obras de consulta</td>\n",
       "      <td>4.6</td>\n",
       "      <td>100000</td>\n",
       "      <td>Muy buena aplicasion,lo que más me gusta es qu...</td>\n",
       "    </tr>\n",
       "    <tr>\n",
       "      <th>4</th>\n",
       "      <td>Mindfulness Meditación guiada</td>\n",
       "      <td>Metta Apps</td>\n",
       "      <td>Estilo de vida</td>\n",
       "      <td>4.1</td>\n",
       "      <td>100000</td>\n",
       "      <td>El contenido de la app es excepcional y muy út...</td>\n",
       "    </tr>\n",
       "  </tbody>\n",
       "</table>\n",
       "</div>"
      ],
      "text/plain": [
       "                                                App  \\\n",
       "0                              El Poder de la mente   \n",
       "1      Audios de Autoestima💪Motivación😄Superación❤️   \n",
       "2  Goalmap: motivación, bienestar, metas personales   \n",
       "3                            Crecimiento Espiritual   \n",
       "4                     Mindfulness Meditación guiada   \n",
       "\n",
       "                               Developer                        Type  Rates  \\\n",
       "0                      Emprendedora apps              Estilo de vida    4.4   \n",
       "1                          DAVID B MARÍN                   Educación    4.6   \n",
       "2                                GOALMAP               Productividad    3.3   \n",
       "3  Apps Bíblicas Cristianas Interesantes  Libros y obras de consulta    4.6   \n",
       "4                             Metta Apps              Estilo de vida    4.1   \n",
       "\n",
       "  Downloads+                                       Last_reviews  \n",
       "0     100000  Gauuu, que buena aplicación. Amo los temas de ...  \n",
       "1       5000  Muy buenos mensajes, positivos y con mucho emp...  \n",
       "2     100000  Excelente aplicación para cumplir metas de háb...  \n",
       "3     100000  Muy buena aplicasion,lo que más me gusta es qu...  \n",
       "4     100000  El contenido de la app es excepcional y muy út...  "
      ]
     },
     "execution_count": 31,
     "metadata": {},
     "output_type": "execute_result"
    }
   ],
   "source": [
    "apps_df.head()"
   ]
  },
  {
   "cell_type": "code",
   "execution_count": 32,
   "metadata": {},
   "outputs": [],
   "source": [
    "apps_df['Downloads+']=apps_df['Downloads+'].astype(int)"
   ]
  },
  {
   "cell_type": "code",
   "execution_count": 33,
   "metadata": {},
   "outputs": [
    {
     "name": "stdout",
     "output_type": "stream",
     "text": [
      "<class 'pandas.core.frame.DataFrame'>\n",
      "RangeIndex: 692 entries, 0 to 691\n",
      "Data columns (total 6 columns):\n",
      " #   Column        Non-Null Count  Dtype  \n",
      "---  ------        --------------  -----  \n",
      " 0   App           692 non-null    object \n",
      " 1   Developer     692 non-null    object \n",
      " 2   Type          692 non-null    object \n",
      " 3   Rates         692 non-null    float64\n",
      " 4   Downloads+    692 non-null    int64  \n",
      " 5   Last_reviews  690 non-null    object \n",
      "dtypes: float64(1), int64(1), object(4)\n",
      "memory usage: 32.6+ KB\n"
     ]
    }
   ],
   "source": [
    "apps_df.info()"
   ]
  },
  {
   "cell_type": "code",
   "execution_count": 34,
   "metadata": {},
   "outputs": [],
   "source": [
    "apps_df.to_csv('Apps_happiness_mental_health_cleaned_def.csv',index=False)"
   ]
  }
 ],
 "metadata": {
  "kernelspec": {
   "display_name": "Python 3",
   "language": "python",
   "name": "python3"
  },
  "language_info": {
   "codemirror_mode": {
    "name": "ipython",
    "version": 3
   },
   "file_extension": ".py",
   "mimetype": "text/x-python",
   "name": "python",
   "nbconvert_exporter": "python",
   "pygments_lexer": "ipython3",
   "version": "3.8.2"
  }
 },
 "nbformat": 4,
 "nbformat_minor": 4
}
