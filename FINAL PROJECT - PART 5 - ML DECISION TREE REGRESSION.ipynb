{
 "cells": [
  {
   "cell_type": "markdown",
   "metadata": {},
   "source": [
    "# PART 5 - ML DECISSION TREE REGRESSION"
   ]
  },
  {
   "cell_type": "code",
   "execution_count": 1,
   "metadata": {},
   "outputs": [],
   "source": [
    "import pandas as pd\n",
    "import warnings\n",
    "warnings.filterwarnings(\"ignore\")\n",
    "\n",
    "import numpy as np"
   ]
  },
  {
   "cell_type": "code",
   "execution_count": 2,
   "metadata": {},
   "outputs": [],
   "source": [
    "happy_df=pd.read_csv('/Users/nuria/Documents/datasciencecourse/FINAL PROJECT/Happiness_df ready for ML.csv')"
   ]
  },
  {
   "cell_type": "code",
   "execution_count": 3,
   "metadata": {},
   "outputs": [],
   "source": [
    "happy_df.drop(columns='Unnamed: 0',inplace=True)"
   ]
  },
  {
   "cell_type": "code",
   "execution_count": 4,
   "metadata": {},
   "outputs": [
    {
     "data": {
      "text/html": [
       "<div>\n",
       "<style scoped>\n",
       "    .dataframe tbody tr th:only-of-type {\n",
       "        vertical-align: middle;\n",
       "    }\n",
       "\n",
       "    .dataframe tbody tr th {\n",
       "        vertical-align: top;\n",
       "    }\n",
       "\n",
       "    .dataframe thead th {\n",
       "        text-align: right;\n",
       "    }\n",
       "</style>\n",
       "<table border=\"1\" class=\"dataframe\">\n",
       "  <thead>\n",
       "    <tr style=\"text-align: right;\">\n",
       "      <th></th>\n",
       "      <th>Happines_score</th>\n",
       "      <th>GDP</th>\n",
       "      <th>Social_support</th>\n",
       "      <th>Life_exp_score</th>\n",
       "      <th>Freedom</th>\n",
       "      <th>Generosity</th>\n",
       "      <th>Gov_trust</th>\n",
       "      <th>Life_exp_age</th>\n",
       "    </tr>\n",
       "  </thead>\n",
       "  <tbody>\n",
       "    <tr>\n",
       "      <th>0</th>\n",
       "      <td>7.5370</td>\n",
       "      <td>1.616463</td>\n",
       "      <td>1.533524</td>\n",
       "      <td>0.796667</td>\n",
       "      <td>0.635423</td>\n",
       "      <td>0.362012</td>\n",
       "      <td>0.315964</td>\n",
       "      <td>73.099998</td>\n",
       "    </tr>\n",
       "    <tr>\n",
       "      <th>1</th>\n",
       "      <td>7.5220</td>\n",
       "      <td>1.482383</td>\n",
       "      <td>1.551122</td>\n",
       "      <td>0.792566</td>\n",
       "      <td>0.626007</td>\n",
       "      <td>0.355280</td>\n",
       "      <td>0.400770</td>\n",
       "      <td>72.099998</td>\n",
       "    </tr>\n",
       "    <tr>\n",
       "      <th>2</th>\n",
       "      <td>7.5040</td>\n",
       "      <td>1.480633</td>\n",
       "      <td>1.610574</td>\n",
       "      <td>0.833552</td>\n",
       "      <td>0.627163</td>\n",
       "      <td>0.475540</td>\n",
       "      <td>0.153527</td>\n",
       "      <td>73.000000</td>\n",
       "    </tr>\n",
       "    <tr>\n",
       "      <th>3</th>\n",
       "      <td>7.4940</td>\n",
       "      <td>1.564980</td>\n",
       "      <td>1.516912</td>\n",
       "      <td>0.858131</td>\n",
       "      <td>0.620071</td>\n",
       "      <td>0.290549</td>\n",
       "      <td>0.367007</td>\n",
       "      <td>73.800003</td>\n",
       "    </tr>\n",
       "    <tr>\n",
       "      <th>4</th>\n",
       "      <td>7.4690</td>\n",
       "      <td>1.443572</td>\n",
       "      <td>1.540247</td>\n",
       "      <td>0.809158</td>\n",
       "      <td>0.617951</td>\n",
       "      <td>0.245483</td>\n",
       "      <td>0.382612</td>\n",
       "      <td>71.800003</td>\n",
       "    </tr>\n",
       "    <tr>\n",
       "      <th>...</th>\n",
       "      <td>...</td>\n",
       "      <td>...</td>\n",
       "      <td>...</td>\n",
       "      <td>...</td>\n",
       "      <td>...</td>\n",
       "      <td>...</td>\n",
       "      <td>...</td>\n",
       "      <td>...</td>\n",
       "    </tr>\n",
       "    <tr>\n",
       "      <th>615</th>\n",
       "      <td>3.4759</td>\n",
       "      <td>0.041072</td>\n",
       "      <td>0.000000</td>\n",
       "      <td>0.000000</td>\n",
       "      <td>0.292814</td>\n",
       "      <td>0.253513</td>\n",
       "      <td>0.028265</td>\n",
       "      <td>45.200001</td>\n",
       "    </tr>\n",
       "    <tr>\n",
       "      <th>616</th>\n",
       "      <td>3.3123</td>\n",
       "      <td>0.343243</td>\n",
       "      <td>0.522876</td>\n",
       "      <td>0.572383</td>\n",
       "      <td>0.604088</td>\n",
       "      <td>0.235705</td>\n",
       "      <td>0.485542</td>\n",
       "      <td>61.098846</td>\n",
       "    </tr>\n",
       "    <tr>\n",
       "      <th>617</th>\n",
       "      <td>3.2992</td>\n",
       "      <td>0.425564</td>\n",
       "      <td>1.047835</td>\n",
       "      <td>0.375038</td>\n",
       "      <td>0.377405</td>\n",
       "      <td>0.151349</td>\n",
       "      <td>0.080929</td>\n",
       "      <td>55.617260</td>\n",
       "    </tr>\n",
       "    <tr>\n",
       "      <th>618</th>\n",
       "      <td>2.8166</td>\n",
       "      <td>0.289083</td>\n",
       "      <td>0.553279</td>\n",
       "      <td>0.208809</td>\n",
       "      <td>0.065609</td>\n",
       "      <td>0.209935</td>\n",
       "      <td>0.111157</td>\n",
       "      <td>51.000000</td>\n",
       "    </tr>\n",
       "    <tr>\n",
       "      <th>619</th>\n",
       "      <td>2.5669</td>\n",
       "      <td>0.300706</td>\n",
       "      <td>0.356434</td>\n",
       "      <td>0.266052</td>\n",
       "      <td>0.000000</td>\n",
       "      <td>0.135235</td>\n",
       "      <td>0.001226</td>\n",
       "      <td>52.590000</td>\n",
       "    </tr>\n",
       "  </tbody>\n",
       "</table>\n",
       "<p>620 rows × 8 columns</p>\n",
       "</div>"
      ],
      "text/plain": [
       "     Happines_score       GDP  Social_support  Life_exp_score   Freedom  \\\n",
       "0            7.5370  1.616463        1.533524        0.796667  0.635423   \n",
       "1            7.5220  1.482383        1.551122        0.792566  0.626007   \n",
       "2            7.5040  1.480633        1.610574        0.833552  0.627163   \n",
       "3            7.4940  1.564980        1.516912        0.858131  0.620071   \n",
       "4            7.4690  1.443572        1.540247        0.809158  0.617951   \n",
       "..              ...       ...             ...             ...       ...   \n",
       "615          3.4759  0.041072        0.000000        0.000000  0.292814   \n",
       "616          3.3123  0.343243        0.522876        0.572383  0.604088   \n",
       "617          3.2992  0.425564        1.047835        0.375038  0.377405   \n",
       "618          2.8166  0.289083        0.553279        0.208809  0.065609   \n",
       "619          2.5669  0.300706        0.356434        0.266052  0.000000   \n",
       "\n",
       "     Generosity  Gov_trust  Life_exp_age  \n",
       "0      0.362012   0.315964     73.099998  \n",
       "1      0.355280   0.400770     72.099998  \n",
       "2      0.475540   0.153527     73.000000  \n",
       "3      0.290549   0.367007     73.800003  \n",
       "4      0.245483   0.382612     71.800003  \n",
       "..          ...        ...           ...  \n",
       "615    0.253513   0.028265     45.200001  \n",
       "616    0.235705   0.485542     61.098846  \n",
       "617    0.151349   0.080929     55.617260  \n",
       "618    0.209935   0.111157     51.000000  \n",
       "619    0.135235   0.001226     52.590000  \n",
       "\n",
       "[620 rows x 8 columns]"
      ]
     },
     "execution_count": 4,
     "metadata": {},
     "output_type": "execute_result"
    }
   ],
   "source": [
    "happy_df"
   ]
  },
  {
   "cell_type": "markdown",
   "metadata": {},
   "source": [
    "OPTION 1.1  \n",
    "- Raw data\n",
    "- Without treating outliers\n"
   ]
  },
  {
   "cell_type": "code",
   "execution_count": 5,
   "metadata": {},
   "outputs": [],
   "source": [
    "from sklearn.metrics import mean_squared_error\n",
    "from sklearn.model_selection import cross_val_score\n",
    "from sklearn import metrics\n",
    "from sklearn.metrics import r2_score\n",
    "\n",
    "def print_score(clf, X_train, y_train, X_test, y_test,train=True):\n",
    "    \"\"\"\n",
    "    Function created to evaluate the performance of the model, calculating MAE, MSE, RMSE and R2\n",
    "    inputs: clf-> model to assess\n",
    "            X_train, X_test\n",
    "            y_train, y_test\n",
    "            train -> Boolean index. If True just show the results regarding the TRAIN set, if False show TEST\n",
    "    \"\"\"\n",
    "    \n",
    "    \n",
    "    if train:\n",
    "        pred = clf.predict(X_train)\n",
    "        print(\"Train Result:\\n===========================================\")\n",
    "        MAE_train = metrics.mean_absolute_error(y_train, pred)\n",
    "        MSE_train = metrics.mean_squared_error(y_train, pred)\n",
    "        RMSE_train = np.sqrt(metrics.mean_squared_error(y_train, pred))\n",
    "        R2_train = r2_score(y_train, pred)\n",
    "        \n",
    "        print(f\"MAE: {MAE_train:.4f}\\n\")\n",
    "        print(f\"MSE: {MSE_train:.4f}\\n\")\n",
    "        print(f\"RMSE: {RMSE_train:.4f}\\n\")\n",
    "        print(f\"R^2: {R2_train:.4f}\\n\")\n",
    "        print('================================================================')\n",
    "        cv_scores = cross_val_score(clf, X_train, \n",
    "                            y_train,cv=10, scoring='r2') # Let's define the K and the \n",
    "\n",
    "        print('Cross Validation R2_score for train set: {}'.format(cv_scores.round(2)))\n",
    "        print(\"\\nAverage 10-Fold CV R2_score for train set: {}\".format(np.mean(cv_scores).round(3)))\n",
    "        print()   \n",
    "        \n",
    "        \n",
    "    elif train==False:\n",
    "        pred = clf.predict(X_test)\n",
    "        print(\"Test Result:\\n===========================================\")        \n",
    "        MAE_test = metrics.mean_absolute_error(y_test, pred)\n",
    "        MSE_test = metrics.mean_squared_error(y_test, pred)\n",
    "        RMSE_test = np.sqrt(metrics.mean_squared_error(y_test, pred))\n",
    "        R2_test = r2_score(y_test, pred)\n",
    "        \n",
    "        print(f\"MAE: {MAE_test:.4f}\\n\")\n",
    "        print(f\"MSE: {MSE_test:.4f}\\n\")\n",
    "        print(f\"RMSE: {RMSE_test:.4f}\\n\")\n",
    "        print(f\"R^2: {R2_test:.4f}\\n\")\n",
    "        \n",
    "        cv_scores2 = cross_val_score(clf, X_test, \n",
    "                            y_test,cv=10, scoring='r2')\n",
    "        print('Cross Validation R2_score for test set: {}'.format(cv_scores2.round(2)))\n",
    "        print(\"\\nAverage 10-Fold CV R2_score for test set: {}\".format(np.mean(cv_scores2).round(3)))\n",
    "        print()\n",
    "        \n",
    "        "
   ]
  },
  {
   "cell_type": "code",
   "execution_count": 6,
   "metadata": {},
   "outputs": [],
   "source": [
    "# select target variable\n",
    "y=happy_df.Life_exp_age\n",
    "X=happy_df.drop(columns='Life_exp_age')"
   ]
  },
  {
   "cell_type": "code",
   "execution_count": 7,
   "metadata": {},
   "outputs": [
    {
     "data": {
      "text/plain": [
       "(620,)"
      ]
     },
     "execution_count": 7,
     "metadata": {},
     "output_type": "execute_result"
    }
   ],
   "source": [
    "y.shape"
   ]
  },
  {
   "cell_type": "code",
   "execution_count": 8,
   "metadata": {},
   "outputs": [
    {
     "data": {
      "text/plain": [
       "(620, 7)"
      ]
     },
     "execution_count": 8,
     "metadata": {},
     "output_type": "execute_result"
    }
   ],
   "source": [
    "X.shape"
   ]
  },
  {
   "cell_type": "code",
   "execution_count": 9,
   "metadata": {},
   "outputs": [],
   "source": [
    "from sklearn.model_selection import train_test_split\n",
    "\n",
    "#split the train and test sets\n",
    "X_train, X_test, y_train, y_test=train_test_split(X,y,test_size=0.33,random_state=42)"
   ]
  },
  {
   "cell_type": "code",
   "execution_count": 10,
   "metadata": {},
   "outputs": [],
   "source": [
    "#instantiate the model\n",
    "from sklearn.tree import DecisionTreeRegressor\n",
    "Dec_Tree_regressor = DecisionTreeRegressor(random_state=42) #random state try 0 or 42"
   ]
  },
  {
   "cell_type": "code",
   "execution_count": 11,
   "metadata": {},
   "outputs": [
    {
     "data": {
      "text/plain": [
       "DecisionTreeRegressor(random_state=42)"
      ]
     },
     "execution_count": 11,
     "metadata": {},
     "output_type": "execute_result"
    }
   ],
   "source": [
    "#fit the model\n",
    "Dec_Tree_regressor.fit(X_train,y_train)"
   ]
  },
  {
   "cell_type": "code",
   "execution_count": 12,
   "metadata": {},
   "outputs": [
    {
     "name": "stdout",
     "output_type": "stream",
     "text": [
      "Train Result:\n",
      "===========================================\n",
      "MAE: 0.0000\n",
      "\n",
      "MSE: 0.0000\n",
      "\n",
      "RMSE: 0.0000\n",
      "\n",
      "R^2: 1.0000\n",
      "\n",
      "================================================================\n",
      "Cross Validation R2_score for train set: [0.88 0.92 0.83 0.83 0.85 0.82 0.81 0.84 0.76 0.87]\n",
      "\n",
      "Average 10-Fold CV R2_score for train set: 0.841\n",
      "\n",
      "Test Result:\n",
      "===========================================\n",
      "MAE: 2.0387\n",
      "\n",
      "MSE: 10.9534\n",
      "\n",
      "RMSE: 3.3096\n",
      "\n",
      "R^2: 0.7662\n",
      "\n",
      "Cross Validation R2_score for test set: [0.9  0.84 0.83 0.77 0.84 0.85 0.85 0.8  0.48 0.86]\n",
      "\n",
      "Average 10-Fold CV R2_score for test set: 0.802\n",
      "\n"
     ]
    }
   ],
   "source": [
    "print_score(Dec_Tree_regressor, X_train, y_train, X_test, y_test, train=True)\n",
    "print_score(Dec_Tree_regressor, X_train, y_train, X_test, y_test, train=False)\n"
   ]
  },
  {
   "cell_type": "code",
   "execution_count": 13,
   "metadata": {},
   "outputs": [],
   "source": [
    "y_pred1=Dec_Tree_regressor.predict(X_test)"
   ]
  },
  {
   "cell_type": "code",
   "execution_count": 14,
   "metadata": {},
   "outputs": [],
   "source": [
    "df1=pd.DataFrame({'Real':y_test,'Pred_Dec_Tree_Raw':y_pred1})"
   ]
  },
  {
   "cell_type": "code",
   "execution_count": 15,
   "metadata": {},
   "outputs": [],
   "source": [
    "df1.reset_index(inplace=True)"
   ]
  },
  {
   "cell_type": "code",
   "execution_count": 16,
   "metadata": {},
   "outputs": [],
   "source": [
    "df1.drop(columns='index',inplace=True)"
   ]
  },
  {
   "cell_type": "code",
   "execution_count": 17,
   "metadata": {},
   "outputs": [
    {
     "data": {
      "text/html": [
       "<div>\n",
       "<style scoped>\n",
       "    .dataframe tbody tr th:only-of-type {\n",
       "        vertical-align: middle;\n",
       "    }\n",
       "\n",
       "    .dataframe tbody tr th {\n",
       "        vertical-align: top;\n",
       "    }\n",
       "\n",
       "    .dataframe thead th {\n",
       "        text-align: right;\n",
       "    }\n",
       "</style>\n",
       "<table border=\"1\" class=\"dataframe\">\n",
       "  <thead>\n",
       "    <tr style=\"text-align: right;\">\n",
       "      <th></th>\n",
       "      <th>Real</th>\n",
       "      <th>Pred_Dec_Tree_Raw</th>\n",
       "    </tr>\n",
       "  </thead>\n",
       "  <tbody>\n",
       "    <tr>\n",
       "      <th>0</th>\n",
       "      <td>74.180000</td>\n",
       "      <td>63.299999</td>\n",
       "    </tr>\n",
       "    <tr>\n",
       "      <th>1</th>\n",
       "      <td>66.006149</td>\n",
       "      <td>65.905174</td>\n",
       "    </tr>\n",
       "    <tr>\n",
       "      <th>2</th>\n",
       "      <td>68.300003</td>\n",
       "      <td>65.699997</td>\n",
       "    </tr>\n",
       "    <tr>\n",
       "      <th>3</th>\n",
       "      <td>61.099998</td>\n",
       "      <td>60.500000</td>\n",
       "    </tr>\n",
       "    <tr>\n",
       "      <th>4</th>\n",
       "      <td>63.799999</td>\n",
       "      <td>59.903549</td>\n",
       "    </tr>\n",
       "    <tr>\n",
       "      <th>...</th>\n",
       "      <td>...</td>\n",
       "      <td>...</td>\n",
       "    </tr>\n",
       "    <tr>\n",
       "      <th>200</th>\n",
       "      <td>66.400002</td>\n",
       "      <td>64.609962</td>\n",
       "    </tr>\n",
       "    <tr>\n",
       "      <th>201</th>\n",
       "      <td>64.808945</td>\n",
       "      <td>62.000000</td>\n",
       "    </tr>\n",
       "    <tr>\n",
       "      <th>202</th>\n",
       "      <td>67.000000</td>\n",
       "      <td>67.952736</td>\n",
       "    </tr>\n",
       "    <tr>\n",
       "      <th>203</th>\n",
       "      <td>72.099998</td>\n",
       "      <td>66.699997</td>\n",
       "    </tr>\n",
       "    <tr>\n",
       "      <th>204</th>\n",
       "      <td>55.500000</td>\n",
       "      <td>54.467800</td>\n",
       "    </tr>\n",
       "  </tbody>\n",
       "</table>\n",
       "<p>205 rows × 2 columns</p>\n",
       "</div>"
      ],
      "text/plain": [
       "          Real  Pred_Dec_Tree_Raw\n",
       "0    74.180000          63.299999\n",
       "1    66.006149          65.905174\n",
       "2    68.300003          65.699997\n",
       "3    61.099998          60.500000\n",
       "4    63.799999          59.903549\n",
       "..         ...                ...\n",
       "200  66.400002          64.609962\n",
       "201  64.808945          62.000000\n",
       "202  67.000000          67.952736\n",
       "203  72.099998          66.699997\n",
       "204  55.500000          54.467800\n",
       "\n",
       "[205 rows x 2 columns]"
      ]
     },
     "execution_count": 17,
     "metadata": {},
     "output_type": "execute_result"
    }
   ],
   "source": [
    "df1"
   ]
  },
  {
   "cell_type": "markdown",
   "metadata": {},
   "source": [
    "OPTION 1.2\n",
    "\n",
    "- Hypertuning the decision tree regression\n",
    "- Raw data"
   ]
  },
  {
   "cell_type": "code",
   "execution_count": 24,
   "metadata": {},
   "outputs": [],
   "source": [
    "y=happy_df.Life_exp_age\n",
    "X=happy_df.drop(columns='Life_exp_age')"
   ]
  },
  {
   "cell_type": "code",
   "execution_count": 25,
   "metadata": {},
   "outputs": [],
   "source": [
    "# split the datat\n",
    "X_train, X_test, y_train, y_test=train_test_split(X,y,test_size=0.33,random_state=42)"
   ]
  },
  {
   "cell_type": "code",
   "execution_count": 26,
   "metadata": {},
   "outputs": [],
   "source": [
    "\n",
    "from sklearn.model_selection import GridSearchCV\n",
    "params = {\n",
    "    \"criterion\":(\"mse\", \"friedman_mse\", \"mae\"), \n",
    "    \"splitter\":(\"best\", \"random\"), \n",
    "    \"max_depth\":(list(range(1, 20))), \n",
    "    \"min_samples_split\":[2, 3, 4] \n",
    "}\n",
    "\n",
    "\n",
    "model = DecisionTreeRegressor(random_state=42)\n",
    "grid_search_cv = GridSearchCV(model, params, n_jobs=-1, verbose=1, cv=10)#cross valid 10\n"
   ]
  },
  {
   "cell_type": "code",
   "execution_count": 27,
   "metadata": {},
   "outputs": [
    {
     "name": "stdout",
     "output_type": "stream",
     "text": [
      "Fitting 10 folds for each of 342 candidates, totalling 3420 fits\n"
     ]
    },
    {
     "name": "stderr",
     "output_type": "stream",
     "text": [
      "[Parallel(n_jobs=-1)]: Using backend LokyBackend with 4 concurrent workers.\n",
      "[Parallel(n_jobs=-1)]: Done  68 tasks      | elapsed:    2.1s\n",
      "[Parallel(n_jobs=-1)]: Done 2380 tasks      | elapsed:    8.1s\n",
      "[Parallel(n_jobs=-1)]: Done 3420 out of 3420 | elapsed:   13.5s finished\n"
     ]
    },
    {
     "data": {
      "text/plain": [
       "GridSearchCV(cv=10, estimator=DecisionTreeRegressor(random_state=42), n_jobs=-1,\n",
       "             param_grid={'criterion': ('mse', 'friedman_mse', 'mae'),\n",
       "                         'max_depth': [1, 2, 3, 4, 5, 6, 7, 8, 9, 10, 11, 12,\n",
       "                                       13, 14, 15, 16, 17, 18, 19],\n",
       "                         'min_samples_split': [2, 3, 4],\n",
       "                         'splitter': ('best', 'random')},\n",
       "             verbose=1)"
      ]
     },
     "execution_count": 27,
     "metadata": {},
     "output_type": "execute_result"
    }
   ],
   "source": [
    "grid_search_cv.fit(X_train, y_train)"
   ]
  },
  {
   "cell_type": "code",
   "execution_count": 28,
   "metadata": {},
   "outputs": [
    {
     "data": {
      "text/plain": [
       "DecisionTreeRegressor(max_depth=6, min_samples_split=3, random_state=42)"
      ]
     },
     "execution_count": 28,
     "metadata": {},
     "output_type": "execute_result"
    }
   ],
   "source": [
    "grid_search_cv.best_estimator_"
   ]
  },
  {
   "cell_type": "code",
   "execution_count": 29,
   "metadata": {},
   "outputs": [],
   "source": [
    "Dec_Tree_reg=DecisionTreeRegressor(ccp_alpha=0.0, criterion='mse', max_depth=6,\n",
    "                      max_features=None, max_leaf_nodes=None,\n",
    "                      min_impurity_decrease=0.0, min_impurity_split=None,\n",
    "                      min_samples_leaf=1, min_samples_split=3,\n",
    "                      min_weight_fraction_leaf=0.0, presort='deprecated',\n",
    "                      random_state=42, splitter='best')"
   ]
  },
  {
   "cell_type": "code",
   "execution_count": 30,
   "metadata": {},
   "outputs": [
    {
     "data": {
      "text/plain": [
       "DecisionTreeRegressor(max_depth=6, min_samples_split=3, random_state=42)"
      ]
     },
     "execution_count": 30,
     "metadata": {},
     "output_type": "execute_result"
    }
   ],
   "source": [
    "Dec_Tree_reg.fit(X_train, y_train)"
   ]
  },
  {
   "cell_type": "code",
   "execution_count": 31,
   "metadata": {},
   "outputs": [
    {
     "name": "stdout",
     "output_type": "stream",
     "text": [
      "Train Result:\n",
      "===========================================\n",
      "MAE: 0.9427\n",
      "\n",
      "MSE: 1.7788\n",
      "\n",
      "RMSE: 1.3337\n",
      "\n",
      "R^2: 0.9654\n",
      "\n",
      "================================================================\n",
      "Cross Validation R2_score for train set: [0.9  0.95 0.93 0.83 0.88 0.94 0.83 0.92 0.83 0.88]\n",
      "\n",
      "Average 10-Fold CV R2_score for train set: 0.887\n",
      "\n",
      "Test Result:\n",
      "===========================================\n",
      "MAE: 1.8740\n",
      "\n",
      "MSE: 10.4678\n",
      "\n",
      "RMSE: 3.2354\n",
      "\n",
      "R^2: 0.7765\n",
      "\n",
      "Cross Validation R2_score for test set: [0.8  0.49 0.88 0.73 0.89 0.81 0.92 0.82 0.54 0.9 ]\n",
      "\n",
      "Average 10-Fold CV R2_score for test set: 0.779\n",
      "\n"
     ]
    }
   ],
   "source": [
    "print_score(Dec_Tree_reg, X_train, y_train, X_test, y_test, train=True)\n",
    "print_score(Dec_Tree_reg, X_train, y_train, X_test, y_test, train=False)"
   ]
  },
  {
   "cell_type": "code",
   "execution_count": 32,
   "metadata": {},
   "outputs": [],
   "source": [
    "ypred2=Dec_Tree_reg.predict(X_test)"
   ]
  },
  {
   "cell_type": "code",
   "execution_count": 33,
   "metadata": {},
   "outputs": [],
   "source": [
    "df2=pd.DataFrame({'Real2':y_test,'Pred_Dec_Tree_tune':ypred2})"
   ]
  },
  {
   "cell_type": "code",
   "execution_count": 34,
   "metadata": {},
   "outputs": [],
   "source": [
    "df2.reset_index(inplace=True)\n",
    "df2.drop(columns='index',inplace=True)"
   ]
  },
  {
   "cell_type": "code",
   "execution_count": 35,
   "metadata": {},
   "outputs": [
    {
     "data": {
      "text/html": [
       "<div>\n",
       "<style scoped>\n",
       "    .dataframe tbody tr th:only-of-type {\n",
       "        vertical-align: middle;\n",
       "    }\n",
       "\n",
       "    .dataframe tbody tr th {\n",
       "        vertical-align: top;\n",
       "    }\n",
       "\n",
       "    .dataframe thead th {\n",
       "        text-align: right;\n",
       "    }\n",
       "</style>\n",
       "<table border=\"1\" class=\"dataframe\">\n",
       "  <thead>\n",
       "    <tr style=\"text-align: right;\">\n",
       "      <th></th>\n",
       "      <th>Real2</th>\n",
       "      <th>Pred_Dec_Tree_tune</th>\n",
       "    </tr>\n",
       "  </thead>\n",
       "  <tbody>\n",
       "    <tr>\n",
       "      <th>0</th>\n",
       "      <td>74.180000</td>\n",
       "      <td>60.925522</td>\n",
       "    </tr>\n",
       "    <tr>\n",
       "      <th>1</th>\n",
       "      <td>66.006149</td>\n",
       "      <td>67.018950</td>\n",
       "    </tr>\n",
       "    <tr>\n",
       "      <th>2</th>\n",
       "      <td>68.300003</td>\n",
       "      <td>67.018950</td>\n",
       "    </tr>\n",
       "    <tr>\n",
       "      <th>3</th>\n",
       "      <td>61.099998</td>\n",
       "      <td>61.049999</td>\n",
       "    </tr>\n",
       "    <tr>\n",
       "      <th>4</th>\n",
       "      <td>63.799999</td>\n",
       "      <td>60.261275</td>\n",
       "    </tr>\n",
       "    <tr>\n",
       "      <th>...</th>\n",
       "      <td>...</td>\n",
       "      <td>...</td>\n",
       "    </tr>\n",
       "    <tr>\n",
       "      <th>200</th>\n",
       "      <td>66.400002</td>\n",
       "      <td>67.018950</td>\n",
       "    </tr>\n",
       "    <tr>\n",
       "      <th>201</th>\n",
       "      <td>64.808945</td>\n",
       "      <td>65.031568</td>\n",
       "    </tr>\n",
       "    <tr>\n",
       "      <th>202</th>\n",
       "      <td>67.000000</td>\n",
       "      <td>68.230725</td>\n",
       "    </tr>\n",
       "    <tr>\n",
       "      <th>203</th>\n",
       "      <td>72.099998</td>\n",
       "      <td>67.018950</td>\n",
       "    </tr>\n",
       "    <tr>\n",
       "      <th>204</th>\n",
       "      <td>55.500000</td>\n",
       "      <td>55.182542</td>\n",
       "    </tr>\n",
       "  </tbody>\n",
       "</table>\n",
       "<p>205 rows × 2 columns</p>\n",
       "</div>"
      ],
      "text/plain": [
       "         Real2  Pred_Dec_Tree_tune\n",
       "0    74.180000           60.925522\n",
       "1    66.006149           67.018950\n",
       "2    68.300003           67.018950\n",
       "3    61.099998           61.049999\n",
       "4    63.799999           60.261275\n",
       "..         ...                 ...\n",
       "200  66.400002           67.018950\n",
       "201  64.808945           65.031568\n",
       "202  67.000000           68.230725\n",
       "203  72.099998           67.018950\n",
       "204  55.500000           55.182542\n",
       "\n",
       "[205 rows x 2 columns]"
      ]
     },
     "execution_count": 35,
     "metadata": {},
     "output_type": "execute_result"
    }
   ],
   "source": [
    "df2"
   ]
  },
  {
   "cell_type": "markdown",
   "metadata": {},
   "source": [
    "Using this model we can see that the model seems to be a little overfitting. Because we are getting very good results in the training but not as good in the test. "
   ]
  },
  {
   "cell_type": "markdown",
   "metadata": {},
   "source": [
    "OPTION 2\n",
    "\n",
    "- Solve the overfitting problem\n",
    "- To avoid overfitting I will select less features for my model\n"
   ]
  },
  {
   "cell_type": "code",
   "execution_count": 36,
   "metadata": {},
   "outputs": [
    {
     "data": {
      "text/html": [
       "<div>\n",
       "<style scoped>\n",
       "    .dataframe tbody tr th:only-of-type {\n",
       "        vertical-align: middle;\n",
       "    }\n",
       "\n",
       "    .dataframe tbody tr th {\n",
       "        vertical-align: top;\n",
       "    }\n",
       "\n",
       "    .dataframe thead th {\n",
       "        text-align: right;\n",
       "    }\n",
       "</style>\n",
       "<table border=\"1\" class=\"dataframe\">\n",
       "  <thead>\n",
       "    <tr style=\"text-align: right;\">\n",
       "      <th></th>\n",
       "      <th>Happines_score</th>\n",
       "      <th>GDP</th>\n",
       "      <th>Social_support</th>\n",
       "      <th>Life_exp_score</th>\n",
       "      <th>Freedom</th>\n",
       "      <th>Generosity</th>\n",
       "      <th>Gov_trust</th>\n",
       "      <th>Life_exp_age</th>\n",
       "    </tr>\n",
       "  </thead>\n",
       "  <tbody>\n",
       "    <tr>\n",
       "      <th>0</th>\n",
       "      <td>7.537</td>\n",
       "      <td>1.616463</td>\n",
       "      <td>1.533524</td>\n",
       "      <td>0.796667</td>\n",
       "      <td>0.635423</td>\n",
       "      <td>0.362012</td>\n",
       "      <td>0.315964</td>\n",
       "      <td>73.099998</td>\n",
       "    </tr>\n",
       "  </tbody>\n",
       "</table>\n",
       "</div>"
      ],
      "text/plain": [
       "   Happines_score       GDP  Social_support  Life_exp_score   Freedom  \\\n",
       "0           7.537  1.616463        1.533524        0.796667  0.635423   \n",
       "\n",
       "   Generosity  Gov_trust  Life_exp_age  \n",
       "0    0.362012   0.315964     73.099998  "
      ]
     },
     "execution_count": 36,
     "metadata": {},
     "output_type": "execute_result"
    }
   ],
   "source": [
    "happy_df.head(1)"
   ]
  },
  {
   "cell_type": "code",
   "execution_count": 37,
   "metadata": {},
   "outputs": [],
   "source": [
    "y=happy_df.Life_exp_age\n",
    "X=happy_df.GDP"
   ]
  },
  {
   "cell_type": "code",
   "execution_count": 38,
   "metadata": {},
   "outputs": [
    {
     "data": {
      "text/plain": [
       "(620,)"
      ]
     },
     "execution_count": 38,
     "metadata": {},
     "output_type": "execute_result"
    }
   ],
   "source": [
    "y.shape"
   ]
  },
  {
   "cell_type": "code",
   "execution_count": 39,
   "metadata": {},
   "outputs": [
    {
     "data": {
      "text/plain": [
       "(620,)"
      ]
     },
     "execution_count": 39,
     "metadata": {},
     "output_type": "execute_result"
    }
   ],
   "source": [
    "X.shape"
   ]
  },
  {
   "cell_type": "code",
   "execution_count": 40,
   "metadata": {},
   "outputs": [],
   "source": [
    "X_train, X_test, y_train, y_test=train_test_split(X,y,test_size=0.33,random_state=42)"
   ]
  },
  {
   "cell_type": "code",
   "execution_count": 41,
   "metadata": {},
   "outputs": [],
   "source": [
    "#because I'm working with only one feature I have to reshape my data\n",
    "y_train =  np.array(y_train).reshape(-1, 1) \n",
    "X_train = np.array(X_train).reshape(-1, 1) \n",
    "\n",
    "y_test =  np.array(y_test).reshape(-1, 1)  \n",
    "X_test = np.array(X_test).reshape(-1, 1) "
   ]
  },
  {
   "cell_type": "code",
   "execution_count": 42,
   "metadata": {},
   "outputs": [],
   "source": [
    "params = {\n",
    "    \"criterion\":(\"mse\", \"friedman_mse\", \"mae\"), \n",
    "    \"splitter\":(\"best\", \"random\"), \n",
    "    \"max_depth\":(list(range(1, 20))), \n",
    "    \"min_samples_split\":[2, 3, 4] \n",
    "}\n",
    "\n",
    "\n",
    "model = DecisionTreeRegressor(random_state=42)\n",
    "grid_search_cv = GridSearchCV(model, params, n_jobs=-1, verbose=1, cv=10)#cross valid 10\n"
   ]
  },
  {
   "cell_type": "code",
   "execution_count": 43,
   "metadata": {},
   "outputs": [
    {
     "name": "stdout",
     "output_type": "stream",
     "text": [
      "Fitting 10 folds for each of 342 candidates, totalling 3420 fits\n"
     ]
    },
    {
     "name": "stderr",
     "output_type": "stream",
     "text": [
      "[Parallel(n_jobs=-1)]: Using backend LokyBackend with 4 concurrent workers.\n",
      "[Parallel(n_jobs=-1)]: Done 312 tasks      | elapsed:    0.6s\n",
      "[Parallel(n_jobs=-1)]: Done 3420 out of 3420 | elapsed:    3.8s finished\n"
     ]
    },
    {
     "data": {
      "text/plain": [
       "GridSearchCV(cv=10, estimator=DecisionTreeRegressor(random_state=42), n_jobs=-1,\n",
       "             param_grid={'criterion': ('mse', 'friedman_mse', 'mae'),\n",
       "                         'max_depth': [1, 2, 3, 4, 5, 6, 7, 8, 9, 10, 11, 12,\n",
       "                                       13, 14, 15, 16, 17, 18, 19],\n",
       "                         'min_samples_split': [2, 3, 4],\n",
       "                         'splitter': ('best', 'random')},\n",
       "             verbose=1)"
      ]
     },
     "execution_count": 43,
     "metadata": {},
     "output_type": "execute_result"
    }
   ],
   "source": [
    "grid_search_cv.fit(X_train,y_train)"
   ]
  },
  {
   "cell_type": "code",
   "execution_count": 44,
   "metadata": {},
   "outputs": [
    {
     "data": {
      "text/plain": [
       "DecisionTreeRegressor(max_depth=6, min_samples_split=3, random_state=42,\n",
       "                      splitter='random')"
      ]
     },
     "execution_count": 44,
     "metadata": {},
     "output_type": "execute_result"
    }
   ],
   "source": [
    "grid_search_cv.best_estimator_"
   ]
  },
  {
   "cell_type": "code",
   "execution_count": 45,
   "metadata": {},
   "outputs": [],
   "source": [
    "DecTreeReg=DecisionTreeRegressor(ccp_alpha=0.0, criterion='mse', max_depth=6,\n",
    "                      max_features=None, max_leaf_nodes=None,\n",
    "                      min_impurity_decrease=0.0, min_impurity_split=None,\n",
    "                      min_samples_leaf=1, min_samples_split=3,\n",
    "                      min_weight_fraction_leaf=0.0, presort='deprecated',\n",
    "                      random_state=42, splitter='random')"
   ]
  },
  {
   "cell_type": "code",
   "execution_count": 46,
   "metadata": {},
   "outputs": [
    {
     "data": {
      "text/plain": [
       "DecisionTreeRegressor(max_depth=6, min_samples_split=3, random_state=42,\n",
       "                      splitter='random')"
      ]
     },
     "execution_count": 46,
     "metadata": {},
     "output_type": "execute_result"
    }
   ],
   "source": [
    "DecTreeReg.fit(X_train,y_train)"
   ]
  },
  {
   "cell_type": "code",
   "execution_count": 47,
   "metadata": {},
   "outputs": [
    {
     "name": "stdout",
     "output_type": "stream",
     "text": [
      "Train Result:\n",
      "===========================================\n",
      "MAE: 3.0720\n",
      "\n",
      "MSE: 16.4845\n",
      "\n",
      "RMSE: 4.0601\n",
      "\n",
      "R^2: 0.6790\n",
      "\n",
      "================================================================\n",
      "Cross Validation R2_score for train set: [0.57 0.56 0.6  0.59 0.66 0.7  0.64 0.64 0.66 0.56]\n",
      "\n",
      "Average 10-Fold CV R2_score for train set: 0.62\n",
      "\n",
      "Test Result:\n",
      "===========================================\n",
      "MAE: 3.1189\n",
      "\n",
      "MSE: 16.1183\n",
      "\n",
      "RMSE: 4.0148\n",
      "\n",
      "R^2: 0.6559\n",
      "\n",
      "Cross Validation R2_score for test set: [0.48 0.81 0.81 0.77 0.55 0.84 0.55 0.71 0.22 0.39]\n",
      "\n",
      "Average 10-Fold CV R2_score for test set: 0.613\n",
      "\n"
     ]
    }
   ],
   "source": [
    "print_score(DecTreeReg, X_train, y_train, X_test, y_test, train=True)\n",
    "print_score(DecTreeReg, X_train, y_train, X_test, y_test, train=False)"
   ]
  },
  {
   "cell_type": "code",
   "execution_count": 48,
   "metadata": {},
   "outputs": [],
   "source": [
    "y_pred=DecTreeReg.predict(X_test)"
   ]
  },
  {
   "cell_type": "code",
   "execution_count": 49,
   "metadata": {},
   "outputs": [],
   "source": [
    "y_pred = np.array(y_pred).reshape(-1, 1)"
   ]
  },
  {
   "cell_type": "code",
   "execution_count": 50,
   "metadata": {},
   "outputs": [
    {
     "data": {
      "text/plain": [
       "numpy.ndarray"
      ]
     },
     "execution_count": 50,
     "metadata": {},
     "output_type": "execute_result"
    }
   ],
   "source": [
    "type(y_pred)"
   ]
  },
  {
   "cell_type": "code",
   "execution_count": 51,
   "metadata": {},
   "outputs": [
    {
     "data": {
      "text/html": [
       "<div>\n",
       "<style scoped>\n",
       "    .dataframe tbody tr th:only-of-type {\n",
       "        vertical-align: middle;\n",
       "    }\n",
       "\n",
       "    .dataframe tbody tr th {\n",
       "        vertical-align: top;\n",
       "    }\n",
       "\n",
       "    .dataframe thead th {\n",
       "        text-align: right;\n",
       "    }\n",
       "</style>\n",
       "<table border=\"1\" class=\"dataframe\">\n",
       "  <thead>\n",
       "    <tr style=\"text-align: right;\">\n",
       "      <th></th>\n",
       "      <th>Real2</th>\n",
       "      <th>Pred_Dec_Tree_tune</th>\n",
       "    </tr>\n",
       "  </thead>\n",
       "  <tbody>\n",
       "    <tr>\n",
       "      <th>0</th>\n",
       "      <td>74.180000</td>\n",
       "      <td>66.085408</td>\n",
       "    </tr>\n",
       "    <tr>\n",
       "      <th>1</th>\n",
       "      <td>66.006149</td>\n",
       "      <td>66.085408</td>\n",
       "    </tr>\n",
       "    <tr>\n",
       "      <th>2</th>\n",
       "      <td>68.300003</td>\n",
       "      <td>69.712529</td>\n",
       "    </tr>\n",
       "    <tr>\n",
       "      <th>3</th>\n",
       "      <td>61.099998</td>\n",
       "      <td>55.250000</td>\n",
       "    </tr>\n",
       "    <tr>\n",
       "      <th>4</th>\n",
       "      <td>63.799999</td>\n",
       "      <td>58.724662</td>\n",
       "    </tr>\n",
       "    <tr>\n",
       "      <th>...</th>\n",
       "      <td>...</td>\n",
       "      <td>...</td>\n",
       "    </tr>\n",
       "    <tr>\n",
       "      <th>200</th>\n",
       "      <td>66.400002</td>\n",
       "      <td>66.085408</td>\n",
       "    </tr>\n",
       "    <tr>\n",
       "      <th>201</th>\n",
       "      <td>64.808945</td>\n",
       "      <td>63.413588</td>\n",
       "    </tr>\n",
       "    <tr>\n",
       "      <th>202</th>\n",
       "      <td>67.000000</td>\n",
       "      <td>62.241735</td>\n",
       "    </tr>\n",
       "    <tr>\n",
       "      <th>203</th>\n",
       "      <td>72.099998</td>\n",
       "      <td>71.882676</td>\n",
       "    </tr>\n",
       "    <tr>\n",
       "      <th>204</th>\n",
       "      <td>55.500000</td>\n",
       "      <td>58.724662</td>\n",
       "    </tr>\n",
       "  </tbody>\n",
       "</table>\n",
       "<p>205 rows × 2 columns</p>\n",
       "</div>"
      ],
      "text/plain": [
       "         Real2  Pred_Dec_Tree_tune\n",
       "0    74.180000           66.085408\n",
       "1    66.006149           66.085408\n",
       "2    68.300003           69.712529\n",
       "3    61.099998           55.250000\n",
       "4    63.799999           58.724662\n",
       "..         ...                 ...\n",
       "200  66.400002           66.085408\n",
       "201  64.808945           63.413588\n",
       "202  67.000000           62.241735\n",
       "203  72.099998           71.882676\n",
       "204  55.500000           58.724662\n",
       "\n",
       "[205 rows x 2 columns]"
      ]
     },
     "execution_count": 51,
     "metadata": {},
     "output_type": "execute_result"
    }
   ],
   "source": [
    "df3 = pd.DataFrame({'Real2': y_test[:, 0],'Pred_Dec_Tree_tune': y_pred[:, 0]})\n",
    "df3"
   ]
  },
  {
   "cell_type": "markdown",
   "metadata": {},
   "source": [
    "OPTION 3\n",
    "\n",
    "- Now that I don't have Overfitting I will try to add another variable to get better metrics\n",
    "- To avoid overfitting I will select less features for my model\n"
   ]
  },
  {
   "cell_type": "code",
   "execution_count": 52,
   "metadata": {},
   "outputs": [],
   "source": [
    "y=happy_df.Life_exp_age\n",
    "X=happy_df[['GDP','Happines_score']]"
   ]
  },
  {
   "cell_type": "code",
   "execution_count": 53,
   "metadata": {},
   "outputs": [
    {
     "data": {
      "text/plain": [
       "(620,)"
      ]
     },
     "execution_count": 53,
     "metadata": {},
     "output_type": "execute_result"
    }
   ],
   "source": [
    "y.shape"
   ]
  },
  {
   "cell_type": "code",
   "execution_count": 54,
   "metadata": {},
   "outputs": [
    {
     "data": {
      "text/plain": [
       "(620, 2)"
      ]
     },
     "execution_count": 54,
     "metadata": {},
     "output_type": "execute_result"
    }
   ],
   "source": [
    "X.shape"
   ]
  },
  {
   "cell_type": "code",
   "execution_count": 55,
   "metadata": {},
   "outputs": [],
   "source": [
    "#split the data\n",
    "X_train, X_test, y_train, y_test=train_test_split(X,y,test_size=0.33,random_state=42)"
   ]
  },
  {
   "cell_type": "code",
   "execution_count": 56,
   "metadata": {},
   "outputs": [],
   "source": [
    "params = {\n",
    "    \"criterion\":(\"mse\", \"friedman_mse\", \"mae\"), \n",
    "    \"splitter\":(\"best\", \"random\"), \n",
    "    \"max_depth\":(list(range(1, 20))), \n",
    "    \"min_samples_split\":[2, 3, 4] \n",
    "}\n",
    "\n",
    "\n",
    "model = DecisionTreeRegressor(random_state=42)\n",
    "grid_search_cv = GridSearchCV(model, params, n_jobs=-1, verbose=1, cv=10)#cross valid 10"
   ]
  },
  {
   "cell_type": "code",
   "execution_count": 57,
   "metadata": {},
   "outputs": [
    {
     "name": "stdout",
     "output_type": "stream",
     "text": [
      "Fitting 10 folds for each of 342 candidates, totalling 3420 fits\n"
     ]
    },
    {
     "name": "stderr",
     "output_type": "stream",
     "text": [
      "[Parallel(n_jobs=-1)]: Using backend LokyBackend with 4 concurrent workers.\n",
      "[Parallel(n_jobs=-1)]: Done 312 tasks      | elapsed:    1.1s\n",
      "[Parallel(n_jobs=-1)]: Done 3420 out of 3420 | elapsed:   12.5s finished\n"
     ]
    },
    {
     "data": {
      "text/plain": [
       "GridSearchCV(cv=10, estimator=DecisionTreeRegressor(random_state=42), n_jobs=-1,\n",
       "             param_grid={'criterion': ('mse', 'friedman_mse', 'mae'),\n",
       "                         'max_depth': [1, 2, 3, 4, 5, 6, 7, 8, 9, 10, 11, 12,\n",
       "                                       13, 14, 15, 16, 17, 18, 19],\n",
       "                         'min_samples_split': [2, 3, 4],\n",
       "                         'splitter': ('best', 'random')},\n",
       "             verbose=1)"
      ]
     },
     "execution_count": 57,
     "metadata": {},
     "output_type": "execute_result"
    }
   ],
   "source": [
    "grid_search_cv.fit(X_train,y_train)"
   ]
  },
  {
   "cell_type": "code",
   "execution_count": 58,
   "metadata": {},
   "outputs": [
    {
     "data": {
      "text/plain": [
       "DecisionTreeRegressor(criterion='friedman_mse', max_depth=5, random_state=42,\n",
       "                      splitter='random')"
      ]
     },
     "execution_count": 58,
     "metadata": {},
     "output_type": "execute_result"
    }
   ],
   "source": [
    "grid_search_cv.best_estimator_"
   ]
  },
  {
   "cell_type": "code",
   "execution_count": 59,
   "metadata": {},
   "outputs": [],
   "source": [
    "Dec_Tree_regre=DecisionTreeRegressor(ccp_alpha=0.0, criterion='mse', max_depth=7,\n",
    "                      max_features=None, max_leaf_nodes=None,\n",
    "                      min_impurity_decrease=0.0, min_impurity_split=None,\n",
    "                      min_samples_leaf=1, min_samples_split=4,\n",
    "                      min_weight_fraction_leaf=0.0, presort='deprecated',\n",
    "                      random_state=42, splitter='random')"
   ]
  },
  {
   "cell_type": "code",
   "execution_count": 60,
   "metadata": {},
   "outputs": [
    {
     "data": {
      "text/plain": [
       "DecisionTreeRegressor(max_depth=7, min_samples_split=4, random_state=42,\n",
       "                      splitter='random')"
      ]
     },
     "execution_count": 60,
     "metadata": {},
     "output_type": "execute_result"
    }
   ],
   "source": [
    "Dec_Tree_regre.fit(X_train,y_train)"
   ]
  },
  {
   "cell_type": "code",
   "execution_count": 61,
   "metadata": {},
   "outputs": [
    {
     "name": "stdout",
     "output_type": "stream",
     "text": [
      "Train Result:\n",
      "===========================================\n",
      "MAE: 2.5362\n",
      "\n",
      "MSE: 12.5092\n",
      "\n",
      "RMSE: 3.5368\n",
      "\n",
      "R^2: 0.7564\n",
      "\n",
      "================================================================\n",
      "Cross Validation R2_score for train set: [0.57 0.65 0.65 0.68 0.76 0.67 0.71 0.64 0.71 0.59]\n",
      "\n",
      "Average 10-Fold CV R2_score for train set: 0.663\n",
      "\n",
      "Test Result:\n",
      "===========================================\n",
      "MAE: 2.7195\n",
      "\n",
      "MSE: 13.4640\n",
      "\n",
      "RMSE: 3.6693\n",
      "\n",
      "R^2: 0.7126\n",
      "\n",
      "Cross Validation R2_score for test set: [0.69 0.63 0.84 0.74 0.76 0.83 0.39 0.8  0.49 0.61]\n",
      "\n",
      "Average 10-Fold CV R2_score for test set: 0.679\n",
      "\n"
     ]
    }
   ],
   "source": [
    "print_score(Dec_Tree_regre, X_train, y_train, X_test, y_test, train=True)\n",
    "print_score(Dec_Tree_regre, X_train, y_train, X_test, y_test, train=False)"
   ]
  },
  {
   "cell_type": "code",
   "execution_count": 62,
   "metadata": {},
   "outputs": [],
   "source": [
    "y_pred4=Dec_Tree_regre.predict(X_test)"
   ]
  },
  {
   "cell_type": "code",
   "execution_count": 63,
   "metadata": {},
   "outputs": [],
   "source": [
    "df4=pd.DataFrame({'Real':y_test,'Pred_Dec_Tree_grind2feat':y_pred4})"
   ]
  },
  {
   "cell_type": "code",
   "execution_count": 64,
   "metadata": {},
   "outputs": [],
   "source": [
    "df4.reset_index(inplace=True)\n",
    "df4.drop(columns='index',inplace=True)"
   ]
  },
  {
   "cell_type": "code",
   "execution_count": 65,
   "metadata": {},
   "outputs": [
    {
     "data": {
      "text/html": [
       "<div>\n",
       "<style scoped>\n",
       "    .dataframe tbody tr th:only-of-type {\n",
       "        vertical-align: middle;\n",
       "    }\n",
       "\n",
       "    .dataframe tbody tr th {\n",
       "        vertical-align: top;\n",
       "    }\n",
       "\n",
       "    .dataframe thead th {\n",
       "        text-align: right;\n",
       "    }\n",
       "</style>\n",
       "<table border=\"1\" class=\"dataframe\">\n",
       "  <thead>\n",
       "    <tr style=\"text-align: right;\">\n",
       "      <th></th>\n",
       "      <th>Real</th>\n",
       "      <th>Pred_Dec_Tree_grind2feat</th>\n",
       "    </tr>\n",
       "  </thead>\n",
       "  <tbody>\n",
       "    <tr>\n",
       "      <th>0</th>\n",
       "      <td>74.180000</td>\n",
       "      <td>66.650002</td>\n",
       "    </tr>\n",
       "    <tr>\n",
       "      <th>1</th>\n",
       "      <td>66.006149</td>\n",
       "      <td>59.750591</td>\n",
       "    </tr>\n",
       "    <tr>\n",
       "      <th>2</th>\n",
       "      <td>68.300003</td>\n",
       "      <td>67.353384</td>\n",
       "    </tr>\n",
       "    <tr>\n",
       "      <th>3</th>\n",
       "      <td>61.099998</td>\n",
       "      <td>56.265980</td>\n",
       "    </tr>\n",
       "    <tr>\n",
       "      <th>4</th>\n",
       "      <td>63.799999</td>\n",
       "      <td>56.720844</td>\n",
       "    </tr>\n",
       "    <tr>\n",
       "      <th>...</th>\n",
       "      <td>...</td>\n",
       "      <td>...</td>\n",
       "    </tr>\n",
       "    <tr>\n",
       "      <th>200</th>\n",
       "      <td>66.400002</td>\n",
       "      <td>66.995039</td>\n",
       "    </tr>\n",
       "    <tr>\n",
       "      <th>201</th>\n",
       "      <td>64.808945</td>\n",
       "      <td>65.515579</td>\n",
       "    </tr>\n",
       "    <tr>\n",
       "      <th>202</th>\n",
       "      <td>67.000000</td>\n",
       "      <td>63.943874</td>\n",
       "    </tr>\n",
       "    <tr>\n",
       "      <th>203</th>\n",
       "      <td>72.099998</td>\n",
       "      <td>68.025000</td>\n",
       "    </tr>\n",
       "    <tr>\n",
       "      <th>204</th>\n",
       "      <td>55.500000</td>\n",
       "      <td>56.720844</td>\n",
       "    </tr>\n",
       "  </tbody>\n",
       "</table>\n",
       "<p>205 rows × 2 columns</p>\n",
       "</div>"
      ],
      "text/plain": [
       "          Real  Pred_Dec_Tree_grind2feat\n",
       "0    74.180000                 66.650002\n",
       "1    66.006149                 59.750591\n",
       "2    68.300003                 67.353384\n",
       "3    61.099998                 56.265980\n",
       "4    63.799999                 56.720844\n",
       "..         ...                       ...\n",
       "200  66.400002                 66.995039\n",
       "201  64.808945                 65.515579\n",
       "202  67.000000                 63.943874\n",
       "203  72.099998                 68.025000\n",
       "204  55.500000                 56.720844\n",
       "\n",
       "[205 rows x 2 columns]"
      ]
     },
     "execution_count": 65,
     "metadata": {},
     "output_type": "execute_result"
    }
   ],
   "source": [
    "df4"
   ]
  },
  {
   "cell_type": "markdown",
   "metadata": {},
   "source": [
    "OPTION 5\n",
    "- Getting more features"
   ]
  },
  {
   "cell_type": "code",
   "execution_count": 66,
   "metadata": {},
   "outputs": [],
   "source": [
    "y=happy_df.Life_exp_age\n",
    "X=happy_df[['GDP','Happines_score','Social_support']]"
   ]
  },
  {
   "cell_type": "code",
   "execution_count": 67,
   "metadata": {},
   "outputs": [],
   "source": [
    "X_train, X_test, y_train, y_test=train_test_split(X,y,test_size=0.33,random_state=42)"
   ]
  },
  {
   "cell_type": "code",
   "execution_count": 68,
   "metadata": {},
   "outputs": [],
   "source": [
    "params = {\n",
    "    \"criterion\":(\"mse\", \"friedman_mse\", \"mae\"), \n",
    "    \"splitter\":(\"best\", \"random\"), \n",
    "    \"max_depth\":(list(range(1, 20))), \n",
    "    \"min_samples_split\":[2, 3, 4] \n",
    "}\n",
    "\n",
    "\n",
    "model = DecisionTreeRegressor(random_state=42)\n",
    "grid_search_cv = GridSearchCV(model, params, n_jobs=-1, verbose=1, cv=10)#cross valid 10"
   ]
  },
  {
   "cell_type": "code",
   "execution_count": 69,
   "metadata": {},
   "outputs": [
    {
     "name": "stdout",
     "output_type": "stream",
     "text": [
      "Fitting 10 folds for each of 342 candidates, totalling 3420 fits\n"
     ]
    },
    {
     "name": "stderr",
     "output_type": "stream",
     "text": [
      "[Parallel(n_jobs=-1)]: Using backend LokyBackend with 4 concurrent workers.\n",
      "[Parallel(n_jobs=-1)]: Done 280 tasks      | elapsed:    1.0s\n",
      "[Parallel(n_jobs=-1)]: Done 2680 tasks      | elapsed:    7.9s\n",
      "[Parallel(n_jobs=-1)]: Done 3420 out of 3420 | elapsed:   11.4s finished\n"
     ]
    },
    {
     "data": {
      "text/plain": [
       "GridSearchCV(cv=10, estimator=DecisionTreeRegressor(random_state=42), n_jobs=-1,\n",
       "             param_grid={'criterion': ('mse', 'friedman_mse', 'mae'),\n",
       "                         'max_depth': [1, 2, 3, 4, 5, 6, 7, 8, 9, 10, 11, 12,\n",
       "                                       13, 14, 15, 16, 17, 18, 19],\n",
       "                         'min_samples_split': [2, 3, 4],\n",
       "                         'splitter': ('best', 'random')},\n",
       "             verbose=1)"
      ]
     },
     "execution_count": 69,
     "metadata": {},
     "output_type": "execute_result"
    }
   ],
   "source": [
    "grid_search_cv.fit(X_train,y_train)"
   ]
  },
  {
   "cell_type": "code",
   "execution_count": 70,
   "metadata": {},
   "outputs": [
    {
     "data": {
      "text/plain": [
       "DecisionTreeRegressor(criterion='friedman_mse', max_depth=8, random_state=42,\n",
       "                      splitter='random')"
      ]
     },
     "execution_count": 70,
     "metadata": {},
     "output_type": "execute_result"
    }
   ],
   "source": [
    "grid_search_cv.best_estimator_"
   ]
  },
  {
   "cell_type": "code",
   "execution_count": 71,
   "metadata": {},
   "outputs": [],
   "source": [
    "Dec_tree_reg=DecisionTreeRegressor(ccp_alpha=0.0, criterion='friedman_mse', max_depth=6,\n",
    "                      max_features=None, max_leaf_nodes=None,\n",
    "                      min_impurity_decrease=0.0, min_impurity_split=None,\n",
    "                      min_samples_leaf=1, min_samples_split=2,\n",
    "                      min_weight_fraction_leaf=0.0, presort='deprecated',\n",
    "                      random_state=42, splitter='random')"
   ]
  },
  {
   "cell_type": "code",
   "execution_count": 72,
   "metadata": {},
   "outputs": [
    {
     "data": {
      "text/plain": [
       "DecisionTreeRegressor(criterion='friedman_mse', max_depth=6, random_state=42,\n",
       "                      splitter='random')"
      ]
     },
     "execution_count": 72,
     "metadata": {},
     "output_type": "execute_result"
    }
   ],
   "source": [
    "Dec_tree_reg.fit(X_train,y_train)"
   ]
  },
  {
   "cell_type": "code",
   "execution_count": 73,
   "metadata": {},
   "outputs": [
    {
     "name": "stdout",
     "output_type": "stream",
     "text": [
      "Train Result:\n",
      "===========================================\n",
      "MAE: 2.4718\n",
      "\n",
      "MSE: 12.7282\n",
      "\n",
      "RMSE: 3.5677\n",
      "\n",
      "R^2: 0.7521\n",
      "\n",
      "================================================================\n",
      "Cross Validation R2_score for train set: [0.78 0.65 0.52 0.66 0.79 0.68 0.63 0.78 0.71 0.5 ]\n",
      "\n",
      "Average 10-Fold CV R2_score for train set: 0.672\n",
      "\n",
      "Test Result:\n",
      "===========================================\n",
      "MAE: 2.4377\n",
      "\n",
      "MSE: 12.2564\n",
      "\n",
      "RMSE: 3.5009\n",
      "\n",
      "R^2: 0.7384\n",
      "\n",
      "Cross Validation R2_score for test set: [0.69 0.76 0.88 0.57 0.74 0.63 0.79 0.85 0.54 0.51]\n",
      "\n",
      "Average 10-Fold CV R2_score for test set: 0.697\n",
      "\n"
     ]
    }
   ],
   "source": [
    "print_score(Dec_tree_reg, X_train, y_train, X_test, y_test, train=True)\n",
    "print_score(Dec_tree_reg, X_train, y_train, X_test, y_test, train=False)"
   ]
  },
  {
   "cell_type": "code",
   "execution_count": 74,
   "metadata": {},
   "outputs": [],
   "source": [
    "y_pred5=Dec_tree_reg.predict(X_test)"
   ]
  },
  {
   "cell_type": "code",
   "execution_count": 75,
   "metadata": {},
   "outputs": [],
   "source": [
    "df5=pd.DataFrame({'Real':y_test,'Pred_Dec_Tree_grind3feat':y_pred5})"
   ]
  },
  {
   "cell_type": "code",
   "execution_count": 76,
   "metadata": {},
   "outputs": [],
   "source": [
    "df5.reset_index(inplace=True)\n",
    "df5.drop(columns='index',inplace=True)"
   ]
  },
  {
   "cell_type": "code",
   "execution_count": 77,
   "metadata": {},
   "outputs": [
    {
     "data": {
      "text/html": [
       "<div>\n",
       "<style scoped>\n",
       "    .dataframe tbody tr th:only-of-type {\n",
       "        vertical-align: middle;\n",
       "    }\n",
       "\n",
       "    .dataframe tbody tr th {\n",
       "        vertical-align: top;\n",
       "    }\n",
       "\n",
       "    .dataframe thead th {\n",
       "        text-align: right;\n",
       "    }\n",
       "</style>\n",
       "<table border=\"1\" class=\"dataframe\">\n",
       "  <thead>\n",
       "    <tr style=\"text-align: right;\">\n",
       "      <th></th>\n",
       "      <th>Real</th>\n",
       "      <th>Pred_Dec_Tree_grind3feat</th>\n",
       "    </tr>\n",
       "  </thead>\n",
       "  <tbody>\n",
       "    <tr>\n",
       "      <th>0</th>\n",
       "      <td>74.180000</td>\n",
       "      <td>65.500000</td>\n",
       "    </tr>\n",
       "    <tr>\n",
       "      <th>1</th>\n",
       "      <td>66.006149</td>\n",
       "      <td>65.927512</td>\n",
       "    </tr>\n",
       "    <tr>\n",
       "      <th>2</th>\n",
       "      <td>68.300003</td>\n",
       "      <td>67.081996</td>\n",
       "    </tr>\n",
       "    <tr>\n",
       "      <th>3</th>\n",
       "      <td>61.099998</td>\n",
       "      <td>56.626162</td>\n",
       "    </tr>\n",
       "    <tr>\n",
       "      <th>4</th>\n",
       "      <td>63.799999</td>\n",
       "      <td>57.650630</td>\n",
       "    </tr>\n",
       "    <tr>\n",
       "      <th>...</th>\n",
       "      <td>...</td>\n",
       "      <td>...</td>\n",
       "    </tr>\n",
       "    <tr>\n",
       "      <th>200</th>\n",
       "      <td>66.400002</td>\n",
       "      <td>67.580307</td>\n",
       "    </tr>\n",
       "    <tr>\n",
       "      <th>201</th>\n",
       "      <td>64.808945</td>\n",
       "      <td>62.180720</td>\n",
       "    </tr>\n",
       "    <tr>\n",
       "      <th>202</th>\n",
       "      <td>67.000000</td>\n",
       "      <td>68.297068</td>\n",
       "    </tr>\n",
       "    <tr>\n",
       "      <th>203</th>\n",
       "      <td>72.099998</td>\n",
       "      <td>71.861896</td>\n",
       "    </tr>\n",
       "    <tr>\n",
       "      <th>204</th>\n",
       "      <td>55.500000</td>\n",
       "      <td>53.867764</td>\n",
       "    </tr>\n",
       "  </tbody>\n",
       "</table>\n",
       "<p>205 rows × 2 columns</p>\n",
       "</div>"
      ],
      "text/plain": [
       "          Real  Pred_Dec_Tree_grind3feat\n",
       "0    74.180000                 65.500000\n",
       "1    66.006149                 65.927512\n",
       "2    68.300003                 67.081996\n",
       "3    61.099998                 56.626162\n",
       "4    63.799999                 57.650630\n",
       "..         ...                       ...\n",
       "200  66.400002                 67.580307\n",
       "201  64.808945                 62.180720\n",
       "202  67.000000                 68.297068\n",
       "203  72.099998                 71.861896\n",
       "204  55.500000                 53.867764\n",
       "\n",
       "[205 rows x 2 columns]"
      ]
     },
     "execution_count": 77,
     "metadata": {},
     "output_type": "execute_result"
    }
   ],
   "source": [
    "df5"
   ]
  },
  {
   "cell_type": "markdown",
   "metadata": {},
   "source": [
    "OPTION 6"
   ]
  },
  {
   "cell_type": "code",
   "execution_count": 78,
   "metadata": {},
   "outputs": [],
   "source": [
    "y=happy_df.Life_exp_age\n",
    "X=happy_df[['GDP','Happines_score','Social_support','Gov_trust','Freedom']]"
   ]
  },
  {
   "cell_type": "code",
   "execution_count": 79,
   "metadata": {},
   "outputs": [],
   "source": [
    "X_train, X_test, y_train, y_test=train_test_split(X,y,test_size=0.33,random_state=42)"
   ]
  },
  {
   "cell_type": "code",
   "execution_count": 80,
   "metadata": {},
   "outputs": [],
   "source": [
    "params = {\n",
    "    \"criterion\":(\"mse\", \"friedman_mse\", \"mae\"), \n",
    "    \"splitter\":(\"best\", \"random\"), \n",
    "    \"max_depth\":(list(range(1, 20))), \n",
    "    \"min_samples_split\":[2, 3, 4] \n",
    "}\n",
    "\n",
    "\n",
    "model = DecisionTreeRegressor(random_state=42)\n",
    "grid_search_cv = GridSearchCV(model, params, n_jobs=-1, verbose=1, cv=10)#cross valid 10"
   ]
  },
  {
   "cell_type": "code",
   "execution_count": 81,
   "metadata": {},
   "outputs": [
    {
     "name": "stdout",
     "output_type": "stream",
     "text": [
      "Fitting 10 folds for each of 342 candidates, totalling 3420 fits\n"
     ]
    },
    {
     "name": "stderr",
     "output_type": "stream",
     "text": [
      "[Parallel(n_jobs=-1)]: Using backend LokyBackend with 4 concurrent workers.\n",
      "[Parallel(n_jobs=-1)]: Done 280 tasks      | elapsed:    0.9s\n",
      "[Parallel(n_jobs=-1)]: Done 2680 tasks      | elapsed:    9.0s\n",
      "[Parallel(n_jobs=-1)]: Done 3420 out of 3420 | elapsed:   14.8s finished\n"
     ]
    },
    {
     "data": {
      "text/plain": [
       "GridSearchCV(cv=10, estimator=DecisionTreeRegressor(random_state=42), n_jobs=-1,\n",
       "             param_grid={'criterion': ('mse', 'friedman_mse', 'mae'),\n",
       "                         'max_depth': [1, 2, 3, 4, 5, 6, 7, 8, 9, 10, 11, 12,\n",
       "                                       13, 14, 15, 16, 17, 18, 19],\n",
       "                         'min_samples_split': [2, 3, 4],\n",
       "                         'splitter': ('best', 'random')},\n",
       "             verbose=1)"
      ]
     },
     "execution_count": 81,
     "metadata": {},
     "output_type": "execute_result"
    }
   ],
   "source": [
    "grid_search_cv.fit(X_train,y_train)"
   ]
  },
  {
   "cell_type": "code",
   "execution_count": 82,
   "metadata": {},
   "outputs": [
    {
     "data": {
      "text/plain": [
       "DecisionTreeRegressor(criterion='friedman_mse', max_depth=8, random_state=42,\n",
       "                      splitter='random')"
      ]
     },
     "execution_count": 82,
     "metadata": {},
     "output_type": "execute_result"
    }
   ],
   "source": [
    "grid_search_cv.best_estimator_"
   ]
  },
  {
   "cell_type": "code",
   "execution_count": 83,
   "metadata": {},
   "outputs": [],
   "source": [
    "DecTreReg=DecisionTreeRegressor(ccp_alpha=0.0, criterion='mse', max_depth=8,\n",
    "                      max_features=None, max_leaf_nodes=None,\n",
    "                      min_impurity_decrease=0.0, min_impurity_split=None,\n",
    "                      min_samples_leaf=1, min_samples_split=2,\n",
    "                      min_weight_fraction_leaf=0.0, presort='deprecated',\n",
    "                      random_state=42, splitter='random')"
   ]
  },
  {
   "cell_type": "code",
   "execution_count": 84,
   "metadata": {},
   "outputs": [
    {
     "data": {
      "text/plain": [
       "DecisionTreeRegressor(max_depth=8, random_state=42, splitter='random')"
      ]
     },
     "execution_count": 84,
     "metadata": {},
     "output_type": "execute_result"
    }
   ],
   "source": [
    "DecTreReg.fit(X_train,y_train)"
   ]
  },
  {
   "cell_type": "code",
   "execution_count": 85,
   "metadata": {},
   "outputs": [
    {
     "name": "stdout",
     "output_type": "stream",
     "text": [
      "Train Result:\n",
      "===========================================\n",
      "MAE: 1.6476\n",
      "\n",
      "MSE: 6.4803\n",
      "\n",
      "RMSE: 2.5457\n",
      "\n",
      "R^2: 0.8738\n",
      "\n",
      "================================================================\n",
      "Cross Validation R2_score for train set: [0.73 0.71 0.74 0.53 0.86 0.71 0.79 0.72 0.73 0.58]\n",
      "\n",
      "Average 10-Fold CV R2_score for train set: 0.711\n",
      "\n",
      "Test Result:\n",
      "===========================================\n",
      "MAE: 2.4140\n",
      "\n",
      "MSE: 12.2722\n",
      "\n",
      "RMSE: 3.5032\n",
      "\n",
      "R^2: 0.7380\n",
      "\n",
      "Cross Validation R2_score for test set: [0.79 0.35 0.88 0.59 0.71 0.79 0.45 0.89 0.53 0.75]\n",
      "\n",
      "Average 10-Fold CV R2_score for test set: 0.673\n",
      "\n"
     ]
    }
   ],
   "source": [
    "print_score(DecTreReg, X_train, y_train, X_test, y_test, train=True)\n",
    "print_score(DecTreReg, X_train, y_train, X_test, y_test, train=False)"
   ]
  },
  {
   "cell_type": "code",
   "execution_count": 86,
   "metadata": {},
   "outputs": [],
   "source": [
    "y_pred6=DecTreReg.predict(X_test)"
   ]
  },
  {
   "cell_type": "code",
   "execution_count": 87,
   "metadata": {},
   "outputs": [],
   "source": [
    "df6=pd.DataFrame({'Real':y_test,'Pred_Dec_Tree_grind5feat':y_pred6})"
   ]
  },
  {
   "cell_type": "code",
   "execution_count": 88,
   "metadata": {},
   "outputs": [],
   "source": [
    "df6.reset_index(inplace=True)\n",
    "df6.drop(columns='index',inplace=True)"
   ]
  },
  {
   "cell_type": "code",
   "execution_count": 89,
   "metadata": {},
   "outputs": [
    {
     "data": {
      "text/html": [
       "<div>\n",
       "<style scoped>\n",
       "    .dataframe tbody tr th:only-of-type {\n",
       "        vertical-align: middle;\n",
       "    }\n",
       "\n",
       "    .dataframe tbody tr th {\n",
       "        vertical-align: top;\n",
       "    }\n",
       "\n",
       "    .dataframe thead th {\n",
       "        text-align: right;\n",
       "    }\n",
       "</style>\n",
       "<table border=\"1\" class=\"dataframe\">\n",
       "  <thead>\n",
       "    <tr style=\"text-align: right;\">\n",
       "      <th></th>\n",
       "      <th>Real</th>\n",
       "      <th>Pred_Dec_Tree_grind5feat</th>\n",
       "    </tr>\n",
       "  </thead>\n",
       "  <tbody>\n",
       "    <tr>\n",
       "      <th>0</th>\n",
       "      <td>74.180000</td>\n",
       "      <td>69.599998</td>\n",
       "    </tr>\n",
       "    <tr>\n",
       "      <th>1</th>\n",
       "      <td>66.006149</td>\n",
       "      <td>66.000000</td>\n",
       "    </tr>\n",
       "    <tr>\n",
       "      <th>2</th>\n",
       "      <td>68.300003</td>\n",
       "      <td>68.848938</td>\n",
       "    </tr>\n",
       "    <tr>\n",
       "      <th>3</th>\n",
       "      <td>61.099998</td>\n",
       "      <td>57.559215</td>\n",
       "    </tr>\n",
       "    <tr>\n",
       "      <th>4</th>\n",
       "      <td>63.799999</td>\n",
       "      <td>57.527982</td>\n",
       "    </tr>\n",
       "    <tr>\n",
       "      <th>...</th>\n",
       "      <td>...</td>\n",
       "      <td>...</td>\n",
       "    </tr>\n",
       "    <tr>\n",
       "      <th>200</th>\n",
       "      <td>66.400002</td>\n",
       "      <td>66.481040</td>\n",
       "    </tr>\n",
       "    <tr>\n",
       "      <th>201</th>\n",
       "      <td>64.808945</td>\n",
       "      <td>65.172553</td>\n",
       "    </tr>\n",
       "    <tr>\n",
       "      <th>202</th>\n",
       "      <td>67.000000</td>\n",
       "      <td>62.066020</td>\n",
       "    </tr>\n",
       "    <tr>\n",
       "      <th>203</th>\n",
       "      <td>72.099998</td>\n",
       "      <td>72.592324</td>\n",
       "    </tr>\n",
       "    <tr>\n",
       "      <th>204</th>\n",
       "      <td>55.500000</td>\n",
       "      <td>53.919675</td>\n",
       "    </tr>\n",
       "  </tbody>\n",
       "</table>\n",
       "<p>205 rows × 2 columns</p>\n",
       "</div>"
      ],
      "text/plain": [
       "          Real  Pred_Dec_Tree_grind5feat\n",
       "0    74.180000                 69.599998\n",
       "1    66.006149                 66.000000\n",
       "2    68.300003                 68.848938\n",
       "3    61.099998                 57.559215\n",
       "4    63.799999                 57.527982\n",
       "..         ...                       ...\n",
       "200  66.400002                 66.481040\n",
       "201  64.808945                 65.172553\n",
       "202  67.000000                 62.066020\n",
       "203  72.099998                 72.592324\n",
       "204  55.500000                 53.919675\n",
       "\n",
       "[205 rows x 2 columns]"
      ]
     },
     "execution_count": 89,
     "metadata": {},
     "output_type": "execute_result"
    }
   ],
   "source": [
    "df6"
   ]
  },
  {
   "cell_type": "markdown",
   "metadata": {},
   "source": [
    "PLOT THE PREDICTIONS OBTAINED:\n",
    "- I'm going to plot the real values and the predicted next to it to see what option is the closest one to the real\n"
   ]
  },
  {
   "cell_type": "code",
   "execution_count": 90,
   "metadata": {},
   "outputs": [],
   "source": [
    "#concat the 6 datasets \n",
    "df_predictions=df1.copy()"
   ]
  },
  {
   "cell_type": "code",
   "execution_count": 91,
   "metadata": {},
   "outputs": [],
   "source": [
    "df_predictions['Pred_op2']=df2.Pred_Dec_Tree_tune"
   ]
  },
  {
   "cell_type": "code",
   "execution_count": 92,
   "metadata": {},
   "outputs": [],
   "source": [
    "df_predictions['Pred_op3']=df3.Pred_Dec_Tree_tune"
   ]
  },
  {
   "cell_type": "code",
   "execution_count": 93,
   "metadata": {},
   "outputs": [],
   "source": [
    "df_predictions['Pred_op4']=df4.Pred_Dec_Tree_grind2feat\n",
    "df_predictions['Pred_op5']=df5.Pred_Dec_Tree_grind3feat\n",
    "df_predictions['Pred_op6']=df6.Pred_Dec_Tree_grind5feat"
   ]
  },
  {
   "cell_type": "code",
   "execution_count": 94,
   "metadata": {},
   "outputs": [],
   "source": [
    "df_predictions.rename(columns={'Pred_op2':'Pred_grid_allfeat','Pred_op3':'Pred_grid_one_feat',\n",
    "                       'Pred_op4':'Pref_grid_2feat','Pred_op5':'Pref_grid_3feat',\n",
    "                       'Pred_op6':'Pref_grid_5feat'},inplace=True)"
   ]
  },
  {
   "cell_type": "code",
   "execution_count": 95,
   "metadata": {},
   "outputs": [
    {
     "data": {
      "image/png": "[encoded data removed]",
      "text/plain": [
       "<Figure size 1152x720 with 1 Axes>"
      ]
     },
     "metadata": {
      "needs_background": "light"
     },
     "output_type": "display_data"
    }
   ],
   "source": [
    "import matplotlib.pyplot as plt\n",
    "df_predictions_plot = df_predictions.head(15)#get the 15 first predictions\n",
    "df_predictions_plot.plot(kind='bar',figsize=(16,10))\n",
    "plt.grid(which='major', linestyle='-', linewidth='0.5', color='black')\n",
    "plt.grid(which='minor', linestyle=':', linewidth='0.5', color='black')\n",
    "ax = plt.subplot(111)\n",
    "ax.legend(bbox_to_anchor=(1, 1.00))\n",
    "plt.show()\n",
    "\n"
   ]
  },
  {
   "cell_type": "markdown",
   "metadata": {},
   "source": [
    "With this graph we can observe that the worst predictions are done when using Decission Tree Regression with less features in the features group, in this case with one and two features (red and purple bars)"
   ]
  },
  {
   "cell_type": "code",
   "execution_count": 96,
   "metadata": {},
   "outputs": [],
   "source": [
    "df6.to_csv('Best prediction decission tree.csv', index=False)"
   ]
  }
 ],
 "metadata": {
  "kernelspec": {
   "display_name": "Python 3",
   "language": "python",
   "name": "python3"
  },
  "language_info": {
   "codemirror_mode": {
    "name": "ipython",
    "version": 3
   },
   "file_extension": ".py",
   "mimetype": "text/x-python",
   "name": "python",
   "nbconvert_exporter": "python",
   "pygments_lexer": "ipython3",
   "version": "3.8.2"
  }
 },
 "nbformat": 4,
 "nbformat_minor": 4
}
