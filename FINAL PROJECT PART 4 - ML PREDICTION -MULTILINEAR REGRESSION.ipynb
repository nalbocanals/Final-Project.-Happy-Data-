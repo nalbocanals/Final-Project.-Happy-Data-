{
 "cells": [
  {
   "cell_type": "markdown",
   "metadata": {},
   "source": [
    "# FINAL PROJECT PART 4\n",
    "MODEL BUILDING\n",
    "### MULTILINEAR REGRESSION"
   ]
  },
  {
   "cell_type": "markdown",
   "metadata": {},
   "source": [
    "   - The models I'm going to perform are:\n",
    "        - Multilinear regression - Final Project part 4\n",
    "        - Decission Tree Classifier - Final Project part 5\n",
    "        - Random Forest - Final Project part 6\n",
    "        - XGBOOST regression - Final project part 7"
   ]
  },
  {
   "cell_type": "code",
   "execution_count": 1,
   "metadata": {},
   "outputs": [
    {
     "data": {
      "text/html": [
       "        <script type=\"text/javascript\">\n",
       "        window.PlotlyConfig = {MathJaxConfig: 'local'};\n",
       "        if (window.MathJax) {MathJax.Hub.Config({SVG: {font: \"STIX-Web\"}});}\n",
       "        if (typeof require !== 'undefined') {\n",
       "        require.undef(\"plotly\");\n",
       "        requirejs.config({\n",
       "            paths: {\n",
       "                'plotly': ['https://cdn.plot.ly/plotly-latest.min']\n",
       "            }\n",
       "        });\n",
       "        require(['plotly'], function(Plotly) {\n",
       "            window._Plotly = Plotly;\n",
       "        });\n",
       "        }\n",
       "        </script>\n",
       "        "
      ]
     },
     "metadata": {},
     "output_type": "display_data"
    }
   ],
   "source": [
    "import pandas as pd\n",
    "import warnings\n",
    "warnings.filterwarnings(\"ignore\")\n",
    "\n",
    "import numpy as np\n",
    "\n",
    "import matplotlib.pyplot as plt\n",
    "import seaborn as sns\n",
    "from IPython.display import display\n",
    "from sklearn.model_selection import train_test_split\n",
    "\n",
    "%matplotlib inline\n",
    "\n",
    "import plotly.offline as py\n",
    "import plotly.graph_objs as go\n",
    "import plotly.tools as tls\n",
    "py.init_notebook_mode(connected=True)\n",
    "\n",
    "\n",
    "\n",
    "import sys\n",
    "sys.path.insert(0, '/Users/nuria/Documents/datasciencecourse/functions')\n",
    "from Functions_EDA_ import *\n",
    "\n"
   ]
  },
  {
   "cell_type": "code",
   "execution_count": 2,
   "metadata": {},
   "outputs": [],
   "source": [
    "happy_df=pd.read_csv('/Users/nuria/Documents/datasciencecourse/FINAL PROJECT/Happiness_df ready for ML.csv')"
   ]
  },
  {
   "cell_type": "code",
   "execution_count": 3,
   "metadata": {},
   "outputs": [
    {
     "data": {
      "text/html": [
       "<div>\n",
       "<style scoped>\n",
       "    .dataframe tbody tr th:only-of-type {\n",
       "        vertical-align: middle;\n",
       "    }\n",
       "\n",
       "    .dataframe tbody tr th {\n",
       "        vertical-align: top;\n",
       "    }\n",
       "\n",
       "    .dataframe thead th {\n",
       "        text-align: right;\n",
       "    }\n",
       "</style>\n",
       "<table border=\"1\" class=\"dataframe\">\n",
       "  <thead>\n",
       "    <tr style=\"text-align: right;\">\n",
       "      <th></th>\n",
       "      <th>Unnamed: 0</th>\n",
       "      <th>Happines_score</th>\n",
       "      <th>GDP</th>\n",
       "      <th>Social_support</th>\n",
       "      <th>Life_exp_score</th>\n",
       "      <th>Freedom</th>\n",
       "      <th>Generosity</th>\n",
       "      <th>Gov_trust</th>\n",
       "      <th>Life_exp_age</th>\n",
       "    </tr>\n",
       "  </thead>\n",
       "  <tbody>\n",
       "    <tr>\n",
       "      <th>0</th>\n",
       "      <td>0</td>\n",
       "      <td>7.5370</td>\n",
       "      <td>1.616463</td>\n",
       "      <td>1.533524</td>\n",
       "      <td>0.796667</td>\n",
       "      <td>0.635423</td>\n",
       "      <td>0.362012</td>\n",
       "      <td>0.315964</td>\n",
       "      <td>73.099998</td>\n",
       "    </tr>\n",
       "    <tr>\n",
       "      <th>1</th>\n",
       "      <td>1</td>\n",
       "      <td>7.5220</td>\n",
       "      <td>1.482383</td>\n",
       "      <td>1.551122</td>\n",
       "      <td>0.792566</td>\n",
       "      <td>0.626007</td>\n",
       "      <td>0.355280</td>\n",
       "      <td>0.400770</td>\n",
       "      <td>72.099998</td>\n",
       "    </tr>\n",
       "    <tr>\n",
       "      <th>2</th>\n",
       "      <td>2</td>\n",
       "      <td>7.5040</td>\n",
       "      <td>1.480633</td>\n",
       "      <td>1.610574</td>\n",
       "      <td>0.833552</td>\n",
       "      <td>0.627163</td>\n",
       "      <td>0.475540</td>\n",
       "      <td>0.153527</td>\n",
       "      <td>73.000000</td>\n",
       "    </tr>\n",
       "    <tr>\n",
       "      <th>3</th>\n",
       "      <td>3</td>\n",
       "      <td>7.4940</td>\n",
       "      <td>1.564980</td>\n",
       "      <td>1.516912</td>\n",
       "      <td>0.858131</td>\n",
       "      <td>0.620071</td>\n",
       "      <td>0.290549</td>\n",
       "      <td>0.367007</td>\n",
       "      <td>73.800003</td>\n",
       "    </tr>\n",
       "    <tr>\n",
       "      <th>4</th>\n",
       "      <td>4</td>\n",
       "      <td>7.4690</td>\n",
       "      <td>1.443572</td>\n",
       "      <td>1.540247</td>\n",
       "      <td>0.809158</td>\n",
       "      <td>0.617951</td>\n",
       "      <td>0.245483</td>\n",
       "      <td>0.382612</td>\n",
       "      <td>71.800003</td>\n",
       "    </tr>\n",
       "    <tr>\n",
       "      <th>...</th>\n",
       "      <td>...</td>\n",
       "      <td>...</td>\n",
       "      <td>...</td>\n",
       "      <td>...</td>\n",
       "      <td>...</td>\n",
       "      <td>...</td>\n",
       "      <td>...</td>\n",
       "      <td>...</td>\n",
       "      <td>...</td>\n",
       "    </tr>\n",
       "    <tr>\n",
       "      <th>615</th>\n",
       "      <td>615</td>\n",
       "      <td>3.4759</td>\n",
       "      <td>0.041072</td>\n",
       "      <td>0.000000</td>\n",
       "      <td>0.000000</td>\n",
       "      <td>0.292814</td>\n",
       "      <td>0.253513</td>\n",
       "      <td>0.028265</td>\n",
       "      <td>45.200001</td>\n",
       "    </tr>\n",
       "    <tr>\n",
       "      <th>616</th>\n",
       "      <td>616</td>\n",
       "      <td>3.3123</td>\n",
       "      <td>0.343243</td>\n",
       "      <td>0.522876</td>\n",
       "      <td>0.572383</td>\n",
       "      <td>0.604088</td>\n",
       "      <td>0.235705</td>\n",
       "      <td>0.485542</td>\n",
       "      <td>61.098846</td>\n",
       "    </tr>\n",
       "    <tr>\n",
       "      <th>617</th>\n",
       "      <td>617</td>\n",
       "      <td>3.2992</td>\n",
       "      <td>0.425564</td>\n",
       "      <td>1.047835</td>\n",
       "      <td>0.375038</td>\n",
       "      <td>0.377405</td>\n",
       "      <td>0.151349</td>\n",
       "      <td>0.080929</td>\n",
       "      <td>55.617260</td>\n",
       "    </tr>\n",
       "    <tr>\n",
       "      <th>618</th>\n",
       "      <td>618</td>\n",
       "      <td>2.8166</td>\n",
       "      <td>0.289083</td>\n",
       "      <td>0.553279</td>\n",
       "      <td>0.208809</td>\n",
       "      <td>0.065609</td>\n",
       "      <td>0.209935</td>\n",
       "      <td>0.111157</td>\n",
       "      <td>51.000000</td>\n",
       "    </tr>\n",
       "    <tr>\n",
       "      <th>619</th>\n",
       "      <td>619</td>\n",
       "      <td>2.5669</td>\n",
       "      <td>0.300706</td>\n",
       "      <td>0.356434</td>\n",
       "      <td>0.266052</td>\n",
       "      <td>0.000000</td>\n",
       "      <td>0.135235</td>\n",
       "      <td>0.001226</td>\n",
       "      <td>52.590000</td>\n",
       "    </tr>\n",
       "  </tbody>\n",
       "</table>\n",
       "<p>620 rows × 9 columns</p>\n",
       "</div>"
      ],
      "text/plain": [
       "     Unnamed: 0  Happines_score       GDP  Social_support  Life_exp_score  \\\n",
       "0             0          7.5370  1.616463        1.533524        0.796667   \n",
       "1             1          7.5220  1.482383        1.551122        0.792566   \n",
       "2             2          7.5040  1.480633        1.610574        0.833552   \n",
       "3             3          7.4940  1.564980        1.516912        0.858131   \n",
       "4             4          7.4690  1.443572        1.540247        0.809158   \n",
       "..          ...             ...       ...             ...             ...   \n",
       "615         615          3.4759  0.041072        0.000000        0.000000   \n",
       "616         616          3.3123  0.343243        0.522876        0.572383   \n",
       "617         617          3.2992  0.425564        1.047835        0.375038   \n",
       "618         618          2.8166  0.289083        0.553279        0.208809   \n",
       "619         619          2.5669  0.300706        0.356434        0.266052   \n",
       "\n",
       "      Freedom  Generosity  Gov_trust  Life_exp_age  \n",
       "0    0.635423    0.362012   0.315964     73.099998  \n",
       "1    0.626007    0.355280   0.400770     72.099998  \n",
       "2    0.627163    0.475540   0.153527     73.000000  \n",
       "3    0.620071    0.290549   0.367007     73.800003  \n",
       "4    0.617951    0.245483   0.382612     71.800003  \n",
       "..        ...         ...        ...           ...  \n",
       "615  0.292814    0.253513   0.028265     45.200001  \n",
       "616  0.604088    0.235705   0.485542     61.098846  \n",
       "617  0.377405    0.151349   0.080929     55.617260  \n",
       "618  0.065609    0.209935   0.111157     51.000000  \n",
       "619  0.000000    0.135235   0.001226     52.590000  \n",
       "\n",
       "[620 rows x 9 columns]"
      ]
     },
     "execution_count": 3,
     "metadata": {},
     "output_type": "execute_result"
    }
   ],
   "source": [
    "happy_df"
   ]
  },
  {
   "cell_type": "code",
   "execution_count": 4,
   "metadata": {},
   "outputs": [],
   "source": [
    "happy_df.drop(columns='Unnamed: 0',inplace=True)"
   ]
  },
  {
   "cell_type": "code",
   "execution_count": 5,
   "metadata": {},
   "outputs": [
    {
     "data": {
      "text/html": [
       "<div>\n",
       "<style scoped>\n",
       "    .dataframe tbody tr th:only-of-type {\n",
       "        vertical-align: middle;\n",
       "    }\n",
       "\n",
       "    .dataframe tbody tr th {\n",
       "        vertical-align: top;\n",
       "    }\n",
       "\n",
       "    .dataframe thead th {\n",
       "        text-align: right;\n",
       "    }\n",
       "</style>\n",
       "<table border=\"1\" class=\"dataframe\">\n",
       "  <thead>\n",
       "    <tr style=\"text-align: right;\">\n",
       "      <th></th>\n",
       "      <th>Happines_score</th>\n",
       "      <th>GDP</th>\n",
       "      <th>Social_support</th>\n",
       "      <th>Life_exp_score</th>\n",
       "      <th>Freedom</th>\n",
       "      <th>Generosity</th>\n",
       "      <th>Gov_trust</th>\n",
       "      <th>Life_exp_age</th>\n",
       "    </tr>\n",
       "  </thead>\n",
       "  <tbody>\n",
       "    <tr>\n",
       "      <th>0</th>\n",
       "      <td>7.5370</td>\n",
       "      <td>1.616463</td>\n",
       "      <td>1.533524</td>\n",
       "      <td>0.796667</td>\n",
       "      <td>0.635423</td>\n",
       "      <td>0.362012</td>\n",
       "      <td>0.315964</td>\n",
       "      <td>73.099998</td>\n",
       "    </tr>\n",
       "    <tr>\n",
       "      <th>1</th>\n",
       "      <td>7.5220</td>\n",
       "      <td>1.482383</td>\n",
       "      <td>1.551122</td>\n",
       "      <td>0.792566</td>\n",
       "      <td>0.626007</td>\n",
       "      <td>0.355280</td>\n",
       "      <td>0.400770</td>\n",
       "      <td>72.099998</td>\n",
       "    </tr>\n",
       "    <tr>\n",
       "      <th>2</th>\n",
       "      <td>7.5040</td>\n",
       "      <td>1.480633</td>\n",
       "      <td>1.610574</td>\n",
       "      <td>0.833552</td>\n",
       "      <td>0.627163</td>\n",
       "      <td>0.475540</td>\n",
       "      <td>0.153527</td>\n",
       "      <td>73.000000</td>\n",
       "    </tr>\n",
       "    <tr>\n",
       "      <th>3</th>\n",
       "      <td>7.4940</td>\n",
       "      <td>1.564980</td>\n",
       "      <td>1.516912</td>\n",
       "      <td>0.858131</td>\n",
       "      <td>0.620071</td>\n",
       "      <td>0.290549</td>\n",
       "      <td>0.367007</td>\n",
       "      <td>73.800003</td>\n",
       "    </tr>\n",
       "    <tr>\n",
       "      <th>4</th>\n",
       "      <td>7.4690</td>\n",
       "      <td>1.443572</td>\n",
       "      <td>1.540247</td>\n",
       "      <td>0.809158</td>\n",
       "      <td>0.617951</td>\n",
       "      <td>0.245483</td>\n",
       "      <td>0.382612</td>\n",
       "      <td>71.800003</td>\n",
       "    </tr>\n",
       "    <tr>\n",
       "      <th>...</th>\n",
       "      <td>...</td>\n",
       "      <td>...</td>\n",
       "      <td>...</td>\n",
       "      <td>...</td>\n",
       "      <td>...</td>\n",
       "      <td>...</td>\n",
       "      <td>...</td>\n",
       "      <td>...</td>\n",
       "    </tr>\n",
       "    <tr>\n",
       "      <th>615</th>\n",
       "      <td>3.4759</td>\n",
       "      <td>0.041072</td>\n",
       "      <td>0.000000</td>\n",
       "      <td>0.000000</td>\n",
       "      <td>0.292814</td>\n",
       "      <td>0.253513</td>\n",
       "      <td>0.028265</td>\n",
       "      <td>45.200001</td>\n",
       "    </tr>\n",
       "    <tr>\n",
       "      <th>616</th>\n",
       "      <td>3.3123</td>\n",
       "      <td>0.343243</td>\n",
       "      <td>0.522876</td>\n",
       "      <td>0.572383</td>\n",
       "      <td>0.604088</td>\n",
       "      <td>0.235705</td>\n",
       "      <td>0.485542</td>\n",
       "      <td>61.098846</td>\n",
       "    </tr>\n",
       "    <tr>\n",
       "      <th>617</th>\n",
       "      <td>3.2992</td>\n",
       "      <td>0.425564</td>\n",
       "      <td>1.047835</td>\n",
       "      <td>0.375038</td>\n",
       "      <td>0.377405</td>\n",
       "      <td>0.151349</td>\n",
       "      <td>0.080929</td>\n",
       "      <td>55.617260</td>\n",
       "    </tr>\n",
       "    <tr>\n",
       "      <th>618</th>\n",
       "      <td>2.8166</td>\n",
       "      <td>0.289083</td>\n",
       "      <td>0.553279</td>\n",
       "      <td>0.208809</td>\n",
       "      <td>0.065609</td>\n",
       "      <td>0.209935</td>\n",
       "      <td>0.111157</td>\n",
       "      <td>51.000000</td>\n",
       "    </tr>\n",
       "    <tr>\n",
       "      <th>619</th>\n",
       "      <td>2.5669</td>\n",
       "      <td>0.300706</td>\n",
       "      <td>0.356434</td>\n",
       "      <td>0.266052</td>\n",
       "      <td>0.000000</td>\n",
       "      <td>0.135235</td>\n",
       "      <td>0.001226</td>\n",
       "      <td>52.590000</td>\n",
       "    </tr>\n",
       "  </tbody>\n",
       "</table>\n",
       "<p>620 rows × 8 columns</p>\n",
       "</div>"
      ],
      "text/plain": [
       "     Happines_score       GDP  Social_support  Life_exp_score   Freedom  \\\n",
       "0            7.5370  1.616463        1.533524        0.796667  0.635423   \n",
       "1            7.5220  1.482383        1.551122        0.792566  0.626007   \n",
       "2            7.5040  1.480633        1.610574        0.833552  0.627163   \n",
       "3            7.4940  1.564980        1.516912        0.858131  0.620071   \n",
       "4            7.4690  1.443572        1.540247        0.809158  0.617951   \n",
       "..              ...       ...             ...             ...       ...   \n",
       "615          3.4759  0.041072        0.000000        0.000000  0.292814   \n",
       "616          3.3123  0.343243        0.522876        0.572383  0.604088   \n",
       "617          3.2992  0.425564        1.047835        0.375038  0.377405   \n",
       "618          2.8166  0.289083        0.553279        0.208809  0.065609   \n",
       "619          2.5669  0.300706        0.356434        0.266052  0.000000   \n",
       "\n",
       "     Generosity  Gov_trust  Life_exp_age  \n",
       "0      0.362012   0.315964     73.099998  \n",
       "1      0.355280   0.400770     72.099998  \n",
       "2      0.475540   0.153527     73.000000  \n",
       "3      0.290549   0.367007     73.800003  \n",
       "4      0.245483   0.382612     71.800003  \n",
       "..          ...        ...           ...  \n",
       "615    0.253513   0.028265     45.200001  \n",
       "616    0.235705   0.485542     61.098846  \n",
       "617    0.151349   0.080929     55.617260  \n",
       "618    0.209935   0.111157     51.000000  \n",
       "619    0.135235   0.001226     52.590000  \n",
       "\n",
       "[620 rows x 8 columns]"
      ]
     },
     "execution_count": 5,
     "metadata": {},
     "output_type": "execute_result"
    }
   ],
   "source": [
    "happy_df"
   ]
  },
  {
   "cell_type": "markdown",
   "metadata": {},
   "source": [
    "##### Option 1:"
   ]
  },
  {
   "cell_type": "code",
   "execution_count": 6,
   "metadata": {},
   "outputs": [],
   "source": [
    "SEED = 7\n",
    "np.random.seed(SEED)"
   ]
  },
  {
   "cell_type": "code",
   "execution_count": 7,
   "metadata": {},
   "outputs": [],
   "source": [
    "from pandas import set_option\n",
    "from sklearn.model_selection import train_test_split\n",
    "from sklearn.model_selection import KFold\n",
    "from sklearn.model_selection import StratifiedKFold\n",
    "from sklearn.model_selection import cross_val_score\n",
    "from sklearn.model_selection import GridSearchCV\n",
    "from sklearn.svm import SVC"
   ]
  },
  {
   "cell_type": "markdown",
   "metadata": {},
   "source": [
    "### OPTION 1: MULTILINEAR REGRESSION"
   ]
  },
  {
   "cell_type": "markdown",
   "metadata": {},
   "source": [
    "OPTION 1.1. \n",
    "    - RAW DATA\n",
    "    - WITHOUT TREATING OUTLIERS\n",
    "    - DATA NOT SCALED"
   ]
  },
  {
   "cell_type": "code",
   "execution_count": 8,
   "metadata": {},
   "outputs": [],
   "source": [
    "#GET THE TARGET VARIABLE\n",
    "y=happy_df.Life_exp_age\n",
    "X=happy_df.drop(columns='Life_exp_age')"
   ]
  },
  {
   "cell_type": "code",
   "execution_count": 9,
   "metadata": {},
   "outputs": [],
   "source": [
    "#SPLIT THE DATA \n",
    "X_train, X_test, y_train, y_test=train_test_split(X,y,test_size=0.33,random_state=42)"
   ]
  },
  {
   "cell_type": "code",
   "execution_count": 10,
   "metadata": {},
   "outputs": [],
   "source": [
    "#INSTANTIATE THE MODEL\n",
    "from sklearn.linear_model import LinearRegression\n",
    "\n",
    "mReg=LinearRegression()"
   ]
  },
  {
   "cell_type": "code",
   "execution_count": 11,
   "metadata": {},
   "outputs": [
    {
     "data": {
      "text/plain": [
       "LinearRegression()"
      ]
     },
     "execution_count": 11,
     "metadata": {},
     "output_type": "execute_result"
    }
   ],
   "source": [
    "#fit the model with the training set\n",
    "\n",
    "mReg.fit(X_train, y_train)"
   ]
  },
  {
   "cell_type": "code",
   "execution_count": 12,
   "metadata": {},
   "outputs": [
    {
     "name": "stdout",
     "output_type": "stream",
     "text": [
      "Intercept of the lineal model 46.77913470340308\n"
     ]
    }
   ],
   "source": [
    "# Intercept of the model\n",
    "print(\"Intercept of the lineal model\",mReg.intercept_)"
   ]
  },
  {
   "cell_type": "code",
   "execution_count": 13,
   "metadata": {},
   "outputs": [
    {
     "name": "stdout",
     "output_type": "stream",
     "text": [
      "The coefficient for the model are: [-0.08255721  4.44743704  0.11501201 20.56506079 -0.72374864  4.05213238\n",
      "  2.72001315]\n"
     ]
    }
   ],
   "source": [
    "#Coefficients of the model\n",
    "print(\"The coefficient for the model are:\", mReg.coef_)"
   ]
  },
  {
   "cell_type": "code",
   "execution_count": 14,
   "metadata": {},
   "outputs": [],
   "source": [
    "# Evaluation of the model"
   ]
  },
  {
   "cell_type": "code",
   "execution_count": 15,
   "metadata": {},
   "outputs": [],
   "source": [
    "from sklearn.metrics import mean_squared_error\n",
    "from sklearn.model_selection import cross_val_score\n",
    "from sklearn import metrics\n",
    "from sklearn.metrics import r2_score"
   ]
  },
  {
   "cell_type": "code",
   "execution_count": 16,
   "metadata": {},
   "outputs": [],
   "source": [
    "#dataframe where I'm going to store all the metrics for my models\n",
    "\n",
    "def print_score(clf, X_train, y_train, X_test, y_test,train=True):\n",
    "    \"\"\"\n",
    "    Function created to evaluate the performance of the model, calculating MAE, MSE, RMSE and R2\n",
    "    inputs: clf-> model to assess\n",
    "            X_train, X_test\n",
    "            y_train, y_test\n",
    "            train -> Boolean index. If True just show the results regarding the TRAIN set, if False show TEST\n",
    "    \"\"\"\n",
    "    \n",
    "    \n",
    "    if train:\n",
    "        pred = clf.predict(X_train)\n",
    "        print(\"Train Result:\\n===========================================\")\n",
    "        MAE_train = metrics.mean_absolute_error(y_train, pred)\n",
    "        MSE_train = metrics.mean_squared_error(y_train, pred)\n",
    "        RMSE_train = np.sqrt(metrics.mean_squared_error(y_train, pred))\n",
    "        R2_train = r2_score(y_train, pred)\n",
    "        \n",
    "        print(f\"MAE: {MAE_train:.4f}\\n\")\n",
    "        print(f\"MSE: {MSE_train:.4f}\\n\")\n",
    "        print(f\"RMSE: {RMSE_train:.4f}\\n\")\n",
    "        print(f\"R^2: {R2_train:.4f}\\n\")\n",
    "        print('================================================================')\n",
    "        cv_scores = cross_val_score(clf, X_train, \n",
    "                            y_train,cv=10, scoring='r2') # Let's define the K and the \n",
    "\n",
    "        print('Cross Validation R2_score for train set: {}'.format(cv_scores.round(2)))\n",
    "        print(\"\\nAverage 10-Fold CV R2_score for train set: {}\".format(np.mean(cv_scores).round(3)))\n",
    "        print()   \n",
    "        \n",
    "        \n",
    "    elif train==False:\n",
    "        pred = clf.predict(X_test)\n",
    "        print(\"Test Result:\\n===========================================\")        \n",
    "        MAE_test = metrics.mean_absolute_error(y_test, pred)\n",
    "        MSE_test = metrics.mean_squared_error(y_test, pred)\n",
    "        RMSE_test = np.sqrt(metrics.mean_squared_error(y_test, pred))\n",
    "        R2_test = r2_score(y_test, pred)\n",
    "        \n",
    "        print(f\"MAE: {MAE_test:.4f}\\n\")\n",
    "        print(f\"MSE: {MSE_test:.4f}\\n\")\n",
    "        print(f\"RMSE: {RMSE_test:.4f}\\n\")\n",
    "        print(f\"R^2: {R2_test:.4f}\\n\")\n",
    "        \n",
    "        cv_scores2 = cross_val_score(clf, X_test, \n",
    "                            y_test,cv=10, scoring='r2')\n",
    "        print('Cross Validation R2_score for test set: {}'.format(cv_scores2.round(2)))\n",
    "        print(\"\\nAverage 10-Fold CV R2_score for test set: {}\".format(np.mean(cv_scores2).round(3)))\n",
    "        print()\n",
    "        \n",
    "        "
   ]
  },
  {
   "cell_type": "code",
   "execution_count": 17,
   "metadata": {},
   "outputs": [
    {
     "name": "stdout",
     "output_type": "stream",
     "text": [
      "Train Result:\n",
      "===========================================\n",
      "MAE: 1.6637\n",
      "\n",
      "MSE: 5.3413\n",
      "\n",
      "RMSE: 2.3111\n",
      "\n",
      "R^2: 0.8960\n",
      "\n",
      "================================================================\n",
      "Cross Validation R2_score for train set: [0.87 0.92 0.9  0.89 0.9  0.88 0.89 0.94 0.85 0.8 ]\n",
      "\n",
      "Average 10-Fold CV R2_score for train set: 0.885\n",
      "\n",
      "Test Result:\n",
      "===========================================\n",
      "MAE: 1.6438\n",
      "\n",
      "MSE: 5.5438\n",
      "\n",
      "RMSE: 2.3545\n",
      "\n",
      "R^2: 0.8817\n",
      "\n",
      "Cross Validation R2_score for test set: [0.64 0.89 0.93 0.78 0.89 0.96 0.92 0.9  0.85 0.91]\n",
      "\n",
      "Average 10-Fold CV R2_score for test set: 0.868\n",
      "\n"
     ]
    }
   ],
   "source": [
    "print_score(mReg, X_train, y_train, X_test, y_test, train=True)\n",
    "print_score(mReg, X_train, y_train, X_test, y_test, train=False)\n"
   ]
  },
  {
   "cell_type": "code",
   "execution_count": 18,
   "metadata": {},
   "outputs": [
    {
     "name": "stdout",
     "output_type": "stream",
     "text": [
      "Max. value for the target variable: 80.16\n",
      "Min. value for the target variable: 45.2\n"
     ]
    }
   ],
   "source": [
    "#Check the range for the target variable to see the if the MAE is hight or not\n",
    "print(\"Max. value for the target variable:\",y.max())\n",
    "print(\"Min. value for the target variable:\",round(y.min(),2))"
   ]
  },
  {
   "cell_type": "code",
   "execution_count": 19,
   "metadata": {},
   "outputs": [],
   "source": [
    "y_pred=mReg.predict(X_test)"
   ]
  },
  {
   "cell_type": "code",
   "execution_count": 20,
   "metadata": {},
   "outputs": [
    {
     "data": {
      "text/html": [
       "<div>\n",
       "<style scoped>\n",
       "    .dataframe tbody tr th:only-of-type {\n",
       "        vertical-align: middle;\n",
       "    }\n",
       "\n",
       "    .dataframe tbody tr th {\n",
       "        vertical-align: top;\n",
       "    }\n",
       "\n",
       "    .dataframe thead th {\n",
       "        text-align: right;\n",
       "    }\n",
       "</style>\n",
       "<table border=\"1\" class=\"dataframe\">\n",
       "  <thead>\n",
       "    <tr style=\"text-align: right;\">\n",
       "      <th></th>\n",
       "      <th>Real_Value</th>\n",
       "      <th>Predicted_value_LR</th>\n",
       "    </tr>\n",
       "  </thead>\n",
       "  <tbody>\n",
       "    <tr>\n",
       "      <th>49</th>\n",
       "      <td>74.180000</td>\n",
       "      <td>60.547202</td>\n",
       "    </tr>\n",
       "    <tr>\n",
       "      <th>584</th>\n",
       "      <td>66.006149</td>\n",
       "      <td>67.769890</td>\n",
       "    </tr>\n",
       "    <tr>\n",
       "      <th>82</th>\n",
       "      <td>68.300003</td>\n",
       "      <td>66.102487</td>\n",
       "    </tr>\n",
       "    <tr>\n",
       "      <th>305</th>\n",
       "      <td>61.099998</td>\n",
       "      <td>57.861212</td>\n",
       "    </tr>\n",
       "    <tr>\n",
       "      <th>109</th>\n",
       "      <td>63.799999</td>\n",
       "      <td>60.746936</td>\n",
       "    </tr>\n",
       "    <tr>\n",
       "      <th>...</th>\n",
       "      <td>...</td>\n",
       "      <td>...</td>\n",
       "    </tr>\n",
       "    <tr>\n",
       "      <th>182</th>\n",
       "      <td>66.400002</td>\n",
       "      <td>65.013604</td>\n",
       "    </tr>\n",
       "    <tr>\n",
       "      <th>495</th>\n",
       "      <td>64.808945</td>\n",
       "      <td>64.771538</td>\n",
       "    </tr>\n",
       "    <tr>\n",
       "      <th>411</th>\n",
       "      <td>67.000000</td>\n",
       "      <td>67.520169</td>\n",
       "    </tr>\n",
       "    <tr>\n",
       "      <th>18</th>\n",
       "      <td>72.099998</td>\n",
       "      <td>71.721267</td>\n",
       "    </tr>\n",
       "    <tr>\n",
       "      <th>428</th>\n",
       "      <td>55.500000</td>\n",
       "      <td>56.734517</td>\n",
       "    </tr>\n",
       "  </tbody>\n",
       "</table>\n",
       "<p>205 rows × 2 columns</p>\n",
       "</div>"
      ],
      "text/plain": [
       "     Real_Value  Predicted_value_LR\n",
       "49    74.180000           60.547202\n",
       "584   66.006149           67.769890\n",
       "82    68.300003           66.102487\n",
       "305   61.099998           57.861212\n",
       "109   63.799999           60.746936\n",
       "..          ...                 ...\n",
       "182   66.400002           65.013604\n",
       "495   64.808945           64.771538\n",
       "411   67.000000           67.520169\n",
       "18    72.099998           71.721267\n",
       "428   55.500000           56.734517\n",
       "\n",
       "[205 rows x 2 columns]"
      ]
     },
     "execution_count": 20,
     "metadata": {},
     "output_type": "execute_result"
    }
   ],
   "source": [
    "df_result=pd.DataFrame({'Real_Value':y_test,'Predicted_value_LR':y_pred})\n",
    "df_result"
   ]
  },
  {
   "cell_type": "markdown",
   "metadata": {},
   "source": [
    "OPTION 1.2. \n",
    "    - TARGET VARIABLE TRANFORMED WITH LOGARITMIC, this variable is a little skewned and it \n",
    "      can improve its result\n",
    "    - WITHOUT TREATING OUTLIERS\n",
    "    - DATA NOT SCALED"
   ]
  },
  {
   "cell_type": "code",
   "execution_count": 21,
   "metadata": {},
   "outputs": [],
   "source": [
    "#GET THE TARGET VARIABLE\n",
    "y=happy_df.Life_exp_age\n",
    "X=happy_df.drop(columns='Life_exp_age')"
   ]
  },
  {
   "cell_type": "code",
   "execution_count": 22,
   "metadata": {},
   "outputs": [
    {
     "data": {
      "text/plain": [
       "<matplotlib.axes._subplots.AxesSubplot at 0x11d6018b0>"
      ]
     },
     "execution_count": 22,
     "metadata": {},
     "output_type": "execute_result"
    },
    {
     "data": {
      "image/png": "[encoded data removed]",
      "text/plain": [
       "<Figure size 432x288 with 1 Axes>"
      ]
     },
     "metadata": {
      "needs_background": "light"
     },
     "output_type": "display_data"
    }
   ],
   "source": [
    "y.hist()"
   ]
  },
  {
   "cell_type": "code",
   "execution_count": 23,
   "metadata": {},
   "outputs": [],
   "source": [
    "# Log transformation of the target variable\n",
    "from sklearn.preprocessing import StandardScaler\n",
    "\n",
    "y=np.log(y)"
   ]
  },
  {
   "cell_type": "code",
   "execution_count": 24,
   "metadata": {},
   "outputs": [
    {
     "data": {
      "text/plain": [
       "<matplotlib.axes._subplots.AxesSubplot at 0x10af478e0>"
      ]
     },
     "execution_count": 24,
     "metadata": {},
     "output_type": "execute_result"
    },
    {
     "data": {
      "image/png": "[encoded data removed]",
      "text/plain": [
       "<Figure size 432x288 with 1 Axes>"
      ]
     },
     "metadata": {
      "needs_background": "light"
     },
     "output_type": "display_data"
    }
   ],
   "source": [
    "y.hist()"
   ]
  },
  {
   "cell_type": "code",
   "execution_count": 25,
   "metadata": {},
   "outputs": [],
   "source": [
    "#split\n",
    "X_train, X_test, y_train, y_test=train_test_split(X,y,test_size=0.33,random_state=42)"
   ]
  },
  {
   "cell_type": "code",
   "execution_count": 26,
   "metadata": {},
   "outputs": [],
   "source": [
    "#instantitate the model\n",
    "mReg=LinearRegression()"
   ]
  },
  {
   "cell_type": "code",
   "execution_count": 27,
   "metadata": {},
   "outputs": [
    {
     "data": {
      "text/plain": [
       "LinearRegression()"
      ]
     },
     "execution_count": 27,
     "metadata": {},
     "output_type": "execute_result"
    }
   ],
   "source": [
    "mReg.fit(X_train, y_train)"
   ]
  },
  {
   "cell_type": "code",
   "execution_count": 28,
   "metadata": {},
   "outputs": [
    {
     "name": "stdout",
     "output_type": "stream",
     "text": [
      "Intercept of the lineal model 3.8738414919555453\n",
      "The coefficient for the model are: [-0.00359458  0.06614241  0.00943286  0.34375704 -0.0033148   0.06644351\n",
      "  0.02019744]\n"
     ]
    }
   ],
   "source": [
    "print(\"Intercept of the lineal model\",mReg.intercept_)\n",
    "print(\"The coefficient for the model are:\", mReg.coef_)"
   ]
  },
  {
   "cell_type": "code",
   "execution_count": 29,
   "metadata": {},
   "outputs": [
    {
     "name": "stdout",
     "output_type": "stream",
     "text": [
      "Train Result:\n",
      "===========================================\n",
      "MAE: 0.0276\n",
      "\n",
      "MSE: 0.0015\n",
      "\n",
      "RMSE: 0.0382\n",
      "\n",
      "R^2: 0.8915\n",
      "\n",
      "================================================================\n",
      "Cross Validation R2_score for train set: [0.87 0.91 0.9  0.87 0.89 0.87 0.89 0.94 0.86 0.8 ]\n",
      "\n",
      "Average 10-Fold CV R2_score for train set: 0.88\n",
      "\n",
      "Test Result:\n",
      "===========================================\n",
      "MAE: 0.0267\n",
      "\n",
      "MSE: 0.0015\n",
      "\n",
      "RMSE: 0.0381\n",
      "\n",
      "R^2: 0.8781\n",
      "\n",
      "Cross Validation R2_score for test set: [0.63 0.9  0.93 0.8  0.89 0.95 0.91 0.9  0.86 0.9 ]\n",
      "\n",
      "Average 10-Fold CV R2_score for test set: 0.867\n",
      "\n"
     ]
    }
   ],
   "source": [
    "print_score(mReg, X_train, y_train, X_test, y_test, train=True)\n",
    "print_score(mReg, X_train, y_train, X_test, y_test, train=False)"
   ]
  },
  {
   "cell_type": "code",
   "execution_count": 30,
   "metadata": {},
   "outputs": [],
   "source": [
    "y_pred=mReg.predict(X_test)"
   ]
  },
  {
   "cell_type": "code",
   "execution_count": 31,
   "metadata": {},
   "outputs": [],
   "source": [
    "# Reverse the log transformation with exponential\n",
    "y_pred_exp=np.exp(y_pred)\n",
    "y_test_exp=np.exp(y_test)"
   ]
  },
  {
   "cell_type": "code",
   "execution_count": 32,
   "metadata": {},
   "outputs": [
    {
     "data": {
      "text/html": [
       "<div>\n",
       "<style scoped>\n",
       "    .dataframe tbody tr th:only-of-type {\n",
       "        vertical-align: middle;\n",
       "    }\n",
       "\n",
       "    .dataframe tbody tr th {\n",
       "        vertical-align: top;\n",
       "    }\n",
       "\n",
       "    .dataframe thead th {\n",
       "        text-align: right;\n",
       "    }\n",
       "</style>\n",
       "<table border=\"1\" class=\"dataframe\">\n",
       "  <thead>\n",
       "    <tr style=\"text-align: right;\">\n",
       "      <th></th>\n",
       "      <th>Real_Value_LR_logy</th>\n",
       "      <th>Predicted_value_LR_logy</th>\n",
       "    </tr>\n",
       "  </thead>\n",
       "  <tbody>\n",
       "    <tr>\n",
       "      <th>49</th>\n",
       "      <td>74.180000</td>\n",
       "      <td>59.951064</td>\n",
       "    </tr>\n",
       "    <tr>\n",
       "      <th>584</th>\n",
       "      <td>66.006149</td>\n",
       "      <td>67.441929</td>\n",
       "    </tr>\n",
       "    <tr>\n",
       "      <th>82</th>\n",
       "      <td>68.300003</td>\n",
       "      <td>65.666076</td>\n",
       "    </tr>\n",
       "    <tr>\n",
       "      <th>305</th>\n",
       "      <td>61.099998</td>\n",
       "      <td>57.377559</td>\n",
       "    </tr>\n",
       "    <tr>\n",
       "      <th>109</th>\n",
       "      <td>63.799999</td>\n",
       "      <td>60.260718</td>\n",
       "    </tr>\n",
       "    <tr>\n",
       "      <th>...</th>\n",
       "      <td>...</td>\n",
       "      <td>...</td>\n",
       "    </tr>\n",
       "    <tr>\n",
       "      <th>182</th>\n",
       "      <td>66.400002</td>\n",
       "      <td>64.675104</td>\n",
       "    </tr>\n",
       "    <tr>\n",
       "      <th>495</th>\n",
       "      <td>64.808945</td>\n",
       "      <td>64.440507</td>\n",
       "    </tr>\n",
       "    <tr>\n",
       "      <th>411</th>\n",
       "      <td>67.000000</td>\n",
       "      <td>67.488002</td>\n",
       "    </tr>\n",
       "    <tr>\n",
       "      <th>18</th>\n",
       "      <td>72.099998</td>\n",
       "      <td>71.695969</td>\n",
       "    </tr>\n",
       "    <tr>\n",
       "      <th>428</th>\n",
       "      <td>55.500000</td>\n",
       "      <td>56.474929</td>\n",
       "    </tr>\n",
       "  </tbody>\n",
       "</table>\n",
       "<p>205 rows × 2 columns</p>\n",
       "</div>"
      ],
      "text/plain": [
       "     Real_Value_LR_logy  Predicted_value_LR_logy\n",
       "49            74.180000                59.951064\n",
       "584           66.006149                67.441929\n",
       "82            68.300003                65.666076\n",
       "305           61.099998                57.377559\n",
       "109           63.799999                60.260718\n",
       "..                  ...                      ...\n",
       "182           66.400002                64.675104\n",
       "495           64.808945                64.440507\n",
       "411           67.000000                67.488002\n",
       "18            72.099998                71.695969\n",
       "428           55.500000                56.474929\n",
       "\n",
       "[205 rows x 2 columns]"
      ]
     },
     "execution_count": 32,
     "metadata": {},
     "output_type": "execute_result"
    }
   ],
   "source": [
    "df_results2=pd.DataFrame({'Real_Value_LR_logy':y_test_exp,'Predicted_value_LR_logy':y_pred_exp})\n",
    "df_results2"
   ]
  },
  {
   "cell_type": "code",
   "execution_count": 33,
   "metadata": {},
   "outputs": [],
   "source": [
    "def concat_results(dataframe1, dataframe2):\n",
    "    dataframe_concat=pd.DataFrame()\n",
    "    dataframe_concat=pd.concat([dataframe1, dataframe2], axis=1, sort=False)\n",
    "    return dataframe_concat"
   ]
  },
  {
   "cell_type": "code",
   "execution_count": 34,
   "metadata": {},
   "outputs": [],
   "source": [
    "results_comp=concat_results(df_result,df_results2)"
   ]
  },
  {
   "cell_type": "code",
   "execution_count": 35,
   "metadata": {},
   "outputs": [
    {
     "data": {
      "text/html": [
       "<div>\n",
       "<style scoped>\n",
       "    .dataframe tbody tr th:only-of-type {\n",
       "        vertical-align: middle;\n",
       "    }\n",
       "\n",
       "    .dataframe tbody tr th {\n",
       "        vertical-align: top;\n",
       "    }\n",
       "\n",
       "    .dataframe thead th {\n",
       "        text-align: right;\n",
       "    }\n",
       "</style>\n",
       "<table border=\"1\" class=\"dataframe\">\n",
       "  <thead>\n",
       "    <tr style=\"text-align: right;\">\n",
       "      <th></th>\n",
       "      <th>Real_Value</th>\n",
       "      <th>Predicted_value_LR</th>\n",
       "      <th>Real_Value_LR_logy</th>\n",
       "      <th>Predicted_value_LR_logy</th>\n",
       "    </tr>\n",
       "  </thead>\n",
       "  <tbody>\n",
       "    <tr>\n",
       "      <th>49</th>\n",
       "      <td>74.180000</td>\n",
       "      <td>60.547202</td>\n",
       "      <td>74.180000</td>\n",
       "      <td>59.951064</td>\n",
       "    </tr>\n",
       "    <tr>\n",
       "      <th>584</th>\n",
       "      <td>66.006149</td>\n",
       "      <td>67.769890</td>\n",
       "      <td>66.006149</td>\n",
       "      <td>67.441929</td>\n",
       "    </tr>\n",
       "    <tr>\n",
       "      <th>82</th>\n",
       "      <td>68.300003</td>\n",
       "      <td>66.102487</td>\n",
       "      <td>68.300003</td>\n",
       "      <td>65.666076</td>\n",
       "    </tr>\n",
       "    <tr>\n",
       "      <th>305</th>\n",
       "      <td>61.099998</td>\n",
       "      <td>57.861212</td>\n",
       "      <td>61.099998</td>\n",
       "      <td>57.377559</td>\n",
       "    </tr>\n",
       "    <tr>\n",
       "      <th>109</th>\n",
       "      <td>63.799999</td>\n",
       "      <td>60.746936</td>\n",
       "      <td>63.799999</td>\n",
       "      <td>60.260718</td>\n",
       "    </tr>\n",
       "    <tr>\n",
       "      <th>...</th>\n",
       "      <td>...</td>\n",
       "      <td>...</td>\n",
       "      <td>...</td>\n",
       "      <td>...</td>\n",
       "    </tr>\n",
       "    <tr>\n",
       "      <th>182</th>\n",
       "      <td>66.400002</td>\n",
       "      <td>65.013604</td>\n",
       "      <td>66.400002</td>\n",
       "      <td>64.675104</td>\n",
       "    </tr>\n",
       "    <tr>\n",
       "      <th>495</th>\n",
       "      <td>64.808945</td>\n",
       "      <td>64.771538</td>\n",
       "      <td>64.808945</td>\n",
       "      <td>64.440507</td>\n",
       "    </tr>\n",
       "    <tr>\n",
       "      <th>411</th>\n",
       "      <td>67.000000</td>\n",
       "      <td>67.520169</td>\n",
       "      <td>67.000000</td>\n",
       "      <td>67.488002</td>\n",
       "    </tr>\n",
       "    <tr>\n",
       "      <th>18</th>\n",
       "      <td>72.099998</td>\n",
       "      <td>71.721267</td>\n",
       "      <td>72.099998</td>\n",
       "      <td>71.695969</td>\n",
       "    </tr>\n",
       "    <tr>\n",
       "      <th>428</th>\n",
       "      <td>55.500000</td>\n",
       "      <td>56.734517</td>\n",
       "      <td>55.500000</td>\n",
       "      <td>56.474929</td>\n",
       "    </tr>\n",
       "  </tbody>\n",
       "</table>\n",
       "<p>205 rows × 4 columns</p>\n",
       "</div>"
      ],
      "text/plain": [
       "     Real_Value  Predicted_value_LR  Real_Value_LR_logy  \\\n",
       "49    74.180000           60.547202           74.180000   \n",
       "584   66.006149           67.769890           66.006149   \n",
       "82    68.300003           66.102487           68.300003   \n",
       "305   61.099998           57.861212           61.099998   \n",
       "109   63.799999           60.746936           63.799999   \n",
       "..          ...                 ...                 ...   \n",
       "182   66.400002           65.013604           66.400002   \n",
       "495   64.808945           64.771538           64.808945   \n",
       "411   67.000000           67.520169           67.000000   \n",
       "18    72.099998           71.721267           72.099998   \n",
       "428   55.500000           56.734517           55.500000   \n",
       "\n",
       "     Predicted_value_LR_logy  \n",
       "49                 59.951064  \n",
       "584                67.441929  \n",
       "82                 65.666076  \n",
       "305                57.377559  \n",
       "109                60.260718  \n",
       "..                       ...  \n",
       "182                64.675104  \n",
       "495                64.440507  \n",
       "411                67.488002  \n",
       "18                 71.695969  \n",
       "428                56.474929  \n",
       "\n",
       "[205 rows x 4 columns]"
      ]
     },
     "execution_count": 35,
     "metadata": {},
     "output_type": "execute_result"
    }
   ],
   "source": [
    "results_comp"
   ]
  },
  {
   "cell_type": "markdown",
   "metadata": {},
   "source": [
    "OPTION 1.3. \n",
    "    - MIN MAX SCALER IN THE NON TARGET VARIABLES\n",
    "    - WITHOUT TREATING OUTLIERS\n",
    "    - TARGET VARIABLE NOT SCALED"
   ]
  },
  {
   "cell_type": "code",
   "execution_count": 36,
   "metadata": {},
   "outputs": [],
   "source": [
    "y=happy_df.Life_exp_age\n",
    "X=happy_df.drop(columns='Life_exp_age')"
   ]
  },
  {
   "cell_type": "code",
   "execution_count": 37,
   "metadata": {},
   "outputs": [],
   "source": [
    "#Transform the non target variable using MinMaxScaler "
   ]
  },
  {
   "cell_type": "code",
   "execution_count": 38,
   "metadata": {},
   "outputs": [],
   "source": [
    "from sklearn.preprocessing import MinMaxScaler\n",
    "scaler=MinMaxScaler()"
   ]
  },
  {
   "cell_type": "code",
   "execution_count": 39,
   "metadata": {},
   "outputs": [],
   "source": [
    "X_scaled=scaler.fit_transform(X)"
   ]
  },
  {
   "cell_type": "code",
   "execution_count": 40,
   "metadata": {},
   "outputs": [],
   "source": [
    "#split the data\n",
    "X_train, X_test, y_train, y_test=train_test_split(X_scaled,y,test_size=0.33,random_state=42)"
   ]
  },
  {
   "cell_type": "code",
   "execution_count": 41,
   "metadata": {},
   "outputs": [],
   "source": [
    "#instantiate the model\n",
    "mReg=LinearRegression()"
   ]
  },
  {
   "cell_type": "code",
   "execution_count": 42,
   "metadata": {},
   "outputs": [
    {
     "data": {
      "text/plain": [
       "LinearRegression()"
      ]
     },
     "execution_count": 42,
     "metadata": {},
     "output_type": "execute_result"
    }
   ],
   "source": [
    "mReg.fit(X_train, y_train)"
   ]
  },
  {
   "cell_type": "code",
   "execution_count": 43,
   "metadata": {},
   "outputs": [
    {
     "name": "stdout",
     "output_type": "stream",
     "text": [
      "Intercept of the lineal model 46.56721860007475\n",
      "The coefficient for the model are: [-0.43274839  9.32182804  0.18907974 23.46473436 -0.52399401  3.39599149\n",
      "  1.4502083 ]\n"
     ]
    }
   ],
   "source": [
    "print(\"Intercept of the lineal model\",mReg.intercept_)\n",
    "print(\"The coefficient for the model are:\", mReg.coef_)"
   ]
  },
  {
   "cell_type": "code",
   "execution_count": 44,
   "metadata": {},
   "outputs": [
    {
     "name": "stdout",
     "output_type": "stream",
     "text": [
      "Train Result:\n",
      "===========================================\n",
      "MAE: 1.6637\n",
      "\n",
      "MSE: 5.3413\n",
      "\n",
      "RMSE: 2.3111\n",
      "\n",
      "R^2: 0.8960\n",
      "\n",
      "================================================================\n",
      "Cross Validation R2_score for train set: [0.87 0.92 0.9  0.89 0.9  0.88 0.89 0.94 0.85 0.8 ]\n",
      "\n",
      "Average 10-Fold CV R2_score for train set: 0.885\n",
      "\n",
      "Test Result:\n",
      "===========================================\n",
      "MAE: 1.6438\n",
      "\n",
      "MSE: 5.5438\n",
      "\n",
      "RMSE: 2.3545\n",
      "\n",
      "R^2: 0.8817\n",
      "\n",
      "Cross Validation R2_score for test set: [0.64 0.89 0.93 0.78 0.89 0.96 0.92 0.9  0.85 0.91]\n",
      "\n",
      "Average 10-Fold CV R2_score for test set: 0.868\n",
      "\n"
     ]
    }
   ],
   "source": [
    "print_score(mReg, X_train, y_train, X_test, y_test, train=True)\n",
    "print_score(mReg, X_train, y_train, X_test, y_test, train=False)"
   ]
  },
  {
   "cell_type": "code",
   "execution_count": 45,
   "metadata": {},
   "outputs": [],
   "source": [
    "y_pred=mReg.predict(X_test)"
   ]
  },
  {
   "cell_type": "code",
   "execution_count": 46,
   "metadata": {},
   "outputs": [
    {
     "data": {
      "text/html": [
       "<div>\n",
       "<style scoped>\n",
       "    .dataframe tbody tr th:only-of-type {\n",
       "        vertical-align: middle;\n",
       "    }\n",
       "\n",
       "    .dataframe tbody tr th {\n",
       "        vertical-align: top;\n",
       "    }\n",
       "\n",
       "    .dataframe thead th {\n",
       "        text-align: right;\n",
       "    }\n",
       "</style>\n",
       "<table border=\"1\" class=\"dataframe\">\n",
       "  <thead>\n",
       "    <tr style=\"text-align: right;\">\n",
       "      <th></th>\n",
       "      <th>Real_Value_LR_minmax</th>\n",
       "      <th>Predicted_value_LR_minmax</th>\n",
       "    </tr>\n",
       "  </thead>\n",
       "  <tbody>\n",
       "    <tr>\n",
       "      <th>49</th>\n",
       "      <td>74.180000</td>\n",
       "      <td>60.547202</td>\n",
       "    </tr>\n",
       "    <tr>\n",
       "      <th>584</th>\n",
       "      <td>66.006149</td>\n",
       "      <td>67.769890</td>\n",
       "    </tr>\n",
       "    <tr>\n",
       "      <th>82</th>\n",
       "      <td>68.300003</td>\n",
       "      <td>66.102487</td>\n",
       "    </tr>\n",
       "    <tr>\n",
       "      <th>305</th>\n",
       "      <td>61.099998</td>\n",
       "      <td>57.861212</td>\n",
       "    </tr>\n",
       "    <tr>\n",
       "      <th>109</th>\n",
       "      <td>63.799999</td>\n",
       "      <td>60.746936</td>\n",
       "    </tr>\n",
       "    <tr>\n",
       "      <th>...</th>\n",
       "      <td>...</td>\n",
       "      <td>...</td>\n",
       "    </tr>\n",
       "    <tr>\n",
       "      <th>182</th>\n",
       "      <td>66.400002</td>\n",
       "      <td>65.013604</td>\n",
       "    </tr>\n",
       "    <tr>\n",
       "      <th>495</th>\n",
       "      <td>64.808945</td>\n",
       "      <td>64.771538</td>\n",
       "    </tr>\n",
       "    <tr>\n",
       "      <th>411</th>\n",
       "      <td>67.000000</td>\n",
       "      <td>67.520169</td>\n",
       "    </tr>\n",
       "    <tr>\n",
       "      <th>18</th>\n",
       "      <td>72.099998</td>\n",
       "      <td>71.721267</td>\n",
       "    </tr>\n",
       "    <tr>\n",
       "      <th>428</th>\n",
       "      <td>55.500000</td>\n",
       "      <td>56.734517</td>\n",
       "    </tr>\n",
       "  </tbody>\n",
       "</table>\n",
       "<p>205 rows × 2 columns</p>\n",
       "</div>"
      ],
      "text/plain": [
       "     Real_Value_LR_minmax  Predicted_value_LR_minmax\n",
       "49              74.180000                  60.547202\n",
       "584             66.006149                  67.769890\n",
       "82              68.300003                  66.102487\n",
       "305             61.099998                  57.861212\n",
       "109             63.799999                  60.746936\n",
       "..                    ...                        ...\n",
       "182             66.400002                  65.013604\n",
       "495             64.808945                  64.771538\n",
       "411             67.000000                  67.520169\n",
       "18              72.099998                  71.721267\n",
       "428             55.500000                  56.734517\n",
       "\n",
       "[205 rows x 2 columns]"
      ]
     },
     "execution_count": 46,
     "metadata": {},
     "output_type": "execute_result"
    }
   ],
   "source": [
    "df_results3=pd.DataFrame({'Real_Value_LR_minmax':y_test,'Predicted_value_LR_minmax':y_pred})\n",
    "df_results3"
   ]
  },
  {
   "cell_type": "code",
   "execution_count": 47,
   "metadata": {},
   "outputs": [
    {
     "data": {
      "text/html": [
       "<div>\n",
       "<style scoped>\n",
       "    .dataframe tbody tr th:only-of-type {\n",
       "        vertical-align: middle;\n",
       "    }\n",
       "\n",
       "    .dataframe tbody tr th {\n",
       "        vertical-align: top;\n",
       "    }\n",
       "\n",
       "    .dataframe thead th {\n",
       "        text-align: right;\n",
       "    }\n",
       "</style>\n",
       "<table border=\"1\" class=\"dataframe\">\n",
       "  <thead>\n",
       "    <tr style=\"text-align: right;\">\n",
       "      <th></th>\n",
       "      <th>Real_Value</th>\n",
       "      <th>Predicted_value_LR</th>\n",
       "      <th>Real_Value_LR_logy</th>\n",
       "      <th>Predicted_value_LR_logy</th>\n",
       "      <th>Real_Value_LR_minmax</th>\n",
       "      <th>Predicted_value_LR_minmax</th>\n",
       "    </tr>\n",
       "  </thead>\n",
       "  <tbody>\n",
       "    <tr>\n",
       "      <th>49</th>\n",
       "      <td>74.180000</td>\n",
       "      <td>60.547202</td>\n",
       "      <td>74.180000</td>\n",
       "      <td>59.951064</td>\n",
       "      <td>74.180000</td>\n",
       "      <td>60.547202</td>\n",
       "    </tr>\n",
       "    <tr>\n",
       "      <th>584</th>\n",
       "      <td>66.006149</td>\n",
       "      <td>67.769890</td>\n",
       "      <td>66.006149</td>\n",
       "      <td>67.441929</td>\n",
       "      <td>66.006149</td>\n",
       "      <td>67.769890</td>\n",
       "    </tr>\n",
       "    <tr>\n",
       "      <th>82</th>\n",
       "      <td>68.300003</td>\n",
       "      <td>66.102487</td>\n",
       "      <td>68.300003</td>\n",
       "      <td>65.666076</td>\n",
       "      <td>68.300003</td>\n",
       "      <td>66.102487</td>\n",
       "    </tr>\n",
       "    <tr>\n",
       "      <th>305</th>\n",
       "      <td>61.099998</td>\n",
       "      <td>57.861212</td>\n",
       "      <td>61.099998</td>\n",
       "      <td>57.377559</td>\n",
       "      <td>61.099998</td>\n",
       "      <td>57.861212</td>\n",
       "    </tr>\n",
       "    <tr>\n",
       "      <th>109</th>\n",
       "      <td>63.799999</td>\n",
       "      <td>60.746936</td>\n",
       "      <td>63.799999</td>\n",
       "      <td>60.260718</td>\n",
       "      <td>63.799999</td>\n",
       "      <td>60.746936</td>\n",
       "    </tr>\n",
       "    <tr>\n",
       "      <th>...</th>\n",
       "      <td>...</td>\n",
       "      <td>...</td>\n",
       "      <td>...</td>\n",
       "      <td>...</td>\n",
       "      <td>...</td>\n",
       "      <td>...</td>\n",
       "    </tr>\n",
       "    <tr>\n",
       "      <th>182</th>\n",
       "      <td>66.400002</td>\n",
       "      <td>65.013604</td>\n",
       "      <td>66.400002</td>\n",
       "      <td>64.675104</td>\n",
       "      <td>66.400002</td>\n",
       "      <td>65.013604</td>\n",
       "    </tr>\n",
       "    <tr>\n",
       "      <th>495</th>\n",
       "      <td>64.808945</td>\n",
       "      <td>64.771538</td>\n",
       "      <td>64.808945</td>\n",
       "      <td>64.440507</td>\n",
       "      <td>64.808945</td>\n",
       "      <td>64.771538</td>\n",
       "    </tr>\n",
       "    <tr>\n",
       "      <th>411</th>\n",
       "      <td>67.000000</td>\n",
       "      <td>67.520169</td>\n",
       "      <td>67.000000</td>\n",
       "      <td>67.488002</td>\n",
       "      <td>67.000000</td>\n",
       "      <td>67.520169</td>\n",
       "    </tr>\n",
       "    <tr>\n",
       "      <th>18</th>\n",
       "      <td>72.099998</td>\n",
       "      <td>71.721267</td>\n",
       "      <td>72.099998</td>\n",
       "      <td>71.695969</td>\n",
       "      <td>72.099998</td>\n",
       "      <td>71.721267</td>\n",
       "    </tr>\n",
       "    <tr>\n",
       "      <th>428</th>\n",
       "      <td>55.500000</td>\n",
       "      <td>56.734517</td>\n",
       "      <td>55.500000</td>\n",
       "      <td>56.474929</td>\n",
       "      <td>55.500000</td>\n",
       "      <td>56.734517</td>\n",
       "    </tr>\n",
       "  </tbody>\n",
       "</table>\n",
       "<p>205 rows × 6 columns</p>\n",
       "</div>"
      ],
      "text/plain": [
       "     Real_Value  Predicted_value_LR  Real_Value_LR_logy  \\\n",
       "49    74.180000           60.547202           74.180000   \n",
       "584   66.006149           67.769890           66.006149   \n",
       "82    68.300003           66.102487           68.300003   \n",
       "305   61.099998           57.861212           61.099998   \n",
       "109   63.799999           60.746936           63.799999   \n",
       "..          ...                 ...                 ...   \n",
       "182   66.400002           65.013604           66.400002   \n",
       "495   64.808945           64.771538           64.808945   \n",
       "411   67.000000           67.520169           67.000000   \n",
       "18    72.099998           71.721267           72.099998   \n",
       "428   55.500000           56.734517           55.500000   \n",
       "\n",
       "     Predicted_value_LR_logy  Real_Value_LR_minmax  Predicted_value_LR_minmax  \n",
       "49                 59.951064             74.180000                  60.547202  \n",
       "584                67.441929             66.006149                  67.769890  \n",
       "82                 65.666076             68.300003                  66.102487  \n",
       "305                57.377559             61.099998                  57.861212  \n",
       "109                60.260718             63.799999                  60.746936  \n",
       "..                       ...                   ...                        ...  \n",
       "182                64.675104             66.400002                  65.013604  \n",
       "495                64.440507             64.808945                  64.771538  \n",
       "411                67.488002             67.000000                  67.520169  \n",
       "18                 71.695969             72.099998                  71.721267  \n",
       "428                56.474929             55.500000                  56.734517  \n",
       "\n",
       "[205 rows x 6 columns]"
      ]
     },
     "execution_count": 47,
     "metadata": {},
     "output_type": "execute_result"
    }
   ],
   "source": [
    "results_comp=concat_results(results_comp,df_results3)\n",
    "results_comp"
   ]
  },
  {
   "cell_type": "markdown",
   "metadata": {},
   "source": [
    "OPTION 1.4.\n",
    "\n",
    "I can see that transforming the data we don't get better results. In this next step I'm going to apply Lasso and Ridge regression to see if we can improve the performance\n",
    "\n",
    "- RIDGE REGRESSION\n",
    "- WITHOUT TREATING OUTLIERS\n",
    "- RAW DATA"
   ]
  },
  {
   "cell_type": "code",
   "execution_count": 48,
   "metadata": {},
   "outputs": [],
   "source": [
    "y=happy_df.Life_exp_age\n",
    "X=happy_df.drop(columns='Life_exp_age')"
   ]
  },
  {
   "cell_type": "code",
   "execution_count": 49,
   "metadata": {},
   "outputs": [],
   "source": [
    "X_train, X_test, y_train, y_test=train_test_split(X,y,test_size=0.33,random_state=42)"
   ]
  },
  {
   "cell_type": "code",
   "execution_count": 50,
   "metadata": {},
   "outputs": [],
   "source": [
    "from sklearn.linear_model import Ridge\n",
    "mReg_ridge=Ridge()"
   ]
  },
  {
   "cell_type": "code",
   "execution_count": 51,
   "metadata": {},
   "outputs": [],
   "source": [
    "from sklearn.model_selection import GridSearchCV\n",
    "parameters={'alpha':[1,5,10,20,100]}\n",
    "ridge_reg=GridSearchCV(mReg_ridge,parameters,scoring='neg_mean_squared_error',cv=5)"
   ]
  },
  {
   "cell_type": "code",
   "execution_count": 52,
   "metadata": {},
   "outputs": [
    {
     "data": {
      "text/plain": [
       "GridSearchCV(cv=5, estimator=Ridge(), param_grid={'alpha': [1, 5, 10, 20, 100]},\n",
       "             scoring='neg_mean_squared_error')"
      ]
     },
     "execution_count": 52,
     "metadata": {},
     "output_type": "execute_result"
    }
   ],
   "source": [
    "ridge_reg.fit(X_train,y_train)"
   ]
  },
  {
   "cell_type": "code",
   "execution_count": 53,
   "metadata": {},
   "outputs": [
    {
     "data": {
      "text/plain": [
       "{'alpha': 1}"
      ]
     },
     "execution_count": 53,
     "metadata": {},
     "output_type": "execute_result"
    }
   ],
   "source": [
    "ridge_reg.best_params_"
   ]
  },
  {
   "cell_type": "code",
   "execution_count": 54,
   "metadata": {},
   "outputs": [],
   "source": [
    "parameters={'alpha':[0.1,0.25,0.5,0.75,1,2]}\n",
    "ridge_reg=GridSearchCV(mReg_ridge,parameters,scoring='neg_mean_squared_error',cv=5)"
   ]
  },
  {
   "cell_type": "code",
   "execution_count": 55,
   "metadata": {},
   "outputs": [
    {
     "data": {
      "text/plain": [
       "GridSearchCV(cv=5, estimator=Ridge(),\n",
       "             param_grid={'alpha': [0.1, 0.25, 0.5, 0.75, 1, 2]},\n",
       "             scoring='neg_mean_squared_error')"
      ]
     },
     "execution_count": 55,
     "metadata": {},
     "output_type": "execute_result"
    }
   ],
   "source": [
    "ridge_reg.fit(X_train,y_train)"
   ]
  },
  {
   "cell_type": "code",
   "execution_count": 56,
   "metadata": {},
   "outputs": [
    {
     "data": {
      "text/plain": [
       "{'alpha': 0.1}"
      ]
     },
     "execution_count": 56,
     "metadata": {},
     "output_type": "execute_result"
    }
   ],
   "source": [
    "ridge_reg.best_params_"
   ]
  },
  {
   "cell_type": "code",
   "execution_count": 57,
   "metadata": {},
   "outputs": [],
   "source": [
    "parameters={'alpha':[0.00001,0.0001,0.0001,0.001,0.01,0.1]}\n",
    "ridge_reg=GridSearchCV(mReg_ridge,parameters,scoring='neg_mean_squared_error',cv=5)"
   ]
  },
  {
   "cell_type": "code",
   "execution_count": 58,
   "metadata": {},
   "outputs": [
    {
     "data": {
      "text/plain": [
       "GridSearchCV(cv=5, estimator=Ridge(),\n",
       "             param_grid={'alpha': [1e-05, 0.0001, 0.0001, 0.001, 0.01, 0.1]},\n",
       "             scoring='neg_mean_squared_error')"
      ]
     },
     "execution_count": 58,
     "metadata": {},
     "output_type": "execute_result"
    }
   ],
   "source": [
    "ridge_reg.fit(X_train,y_train)"
   ]
  },
  {
   "cell_type": "code",
   "execution_count": 59,
   "metadata": {},
   "outputs": [
    {
     "data": {
      "text/plain": [
       "{'alpha': 0.1}"
      ]
     },
     "execution_count": 59,
     "metadata": {},
     "output_type": "execute_result"
    }
   ],
   "source": [
    "ridge_reg.best_params_"
   ]
  },
  {
   "cell_type": "code",
   "execution_count": 60,
   "metadata": {},
   "outputs": [],
   "source": [
    "parameters={'alpha':[0.1]}\n",
    "ridge_reg=GridSearchCV(mReg_ridge,parameters,scoring='neg_mean_squared_error',cv=5)"
   ]
  },
  {
   "cell_type": "code",
   "execution_count": 61,
   "metadata": {},
   "outputs": [
    {
     "data": {
      "text/plain": [
       "GridSearchCV(cv=5, estimator=Ridge(), param_grid={'alpha': [0.1]},\n",
       "             scoring='neg_mean_squared_error')"
      ]
     },
     "execution_count": 61,
     "metadata": {},
     "output_type": "execute_result"
    }
   ],
   "source": [
    "ridge_reg.fit(X_train,y_train)"
   ]
  },
  {
   "cell_type": "code",
   "execution_count": 62,
   "metadata": {},
   "outputs": [
    {
     "name": "stdout",
     "output_type": "stream",
     "text": [
      "Train Result:\n",
      "===========================================\n",
      "MAE: 1.6630\n",
      "\n",
      "MSE: 5.3424\n",
      "\n",
      "RMSE: 2.3114\n",
      "\n",
      "R^2: 0.8960\n",
      "\n",
      "================================================================\n",
      "Cross Validation R2_score for train set: [0.87 0.92 0.9  0.89 0.9  0.88 0.89 0.94 0.85 0.8 ]\n",
      "\n",
      "Average 10-Fold CV R2_score for train set: 0.885\n",
      "\n",
      "Test Result:\n",
      "===========================================\n",
      "MAE: 1.6394\n",
      "\n",
      "MSE: 5.5248\n",
      "\n",
      "RMSE: 2.3505\n",
      "\n",
      "R^2: 0.8821\n",
      "\n",
      "Cross Validation R2_score for test set: [0.64 0.89 0.93 0.78 0.89 0.96 0.92 0.91 0.85 0.91]\n",
      "\n",
      "Average 10-Fold CV R2_score for test set: 0.869\n",
      "\n"
     ]
    }
   ],
   "source": [
    "print_score(ridge_reg, X_train, y_train, X_test, y_test, train=True)\n",
    "print_score(ridge_reg, X_train, y_train, X_test, y_test, train=False)"
   ]
  },
  {
   "cell_type": "code",
   "execution_count": 63,
   "metadata": {},
   "outputs": [],
   "source": [
    "y_pred=ridge_reg.predict(X_test)"
   ]
  },
  {
   "cell_type": "code",
   "execution_count": 64,
   "metadata": {},
   "outputs": [
    {
     "data": {
      "text/html": [
       "<div>\n",
       "<style scoped>\n",
       "    .dataframe tbody tr th:only-of-type {\n",
       "        vertical-align: middle;\n",
       "    }\n",
       "\n",
       "    .dataframe tbody tr th {\n",
       "        vertical-align: top;\n",
       "    }\n",
       "\n",
       "    .dataframe thead th {\n",
       "        text-align: right;\n",
       "    }\n",
       "</style>\n",
       "<table border=\"1\" class=\"dataframe\">\n",
       "  <thead>\n",
       "    <tr style=\"text-align: right;\">\n",
       "      <th></th>\n",
       "      <th>Real_Value_Ridge</th>\n",
       "      <th>Predicted_value_Ridge</th>\n",
       "    </tr>\n",
       "  </thead>\n",
       "  <tbody>\n",
       "    <tr>\n",
       "      <th>49</th>\n",
       "      <td>74.180000</td>\n",
       "      <td>60.603196</td>\n",
       "    </tr>\n",
       "    <tr>\n",
       "      <th>584</th>\n",
       "      <td>66.006149</td>\n",
       "      <td>67.721506</td>\n",
       "    </tr>\n",
       "    <tr>\n",
       "      <th>82</th>\n",
       "      <td>68.300003</td>\n",
       "      <td>66.097093</td>\n",
       "    </tr>\n",
       "    <tr>\n",
       "      <th>305</th>\n",
       "      <td>61.099998</td>\n",
       "      <td>57.817265</td>\n",
       "    </tr>\n",
       "    <tr>\n",
       "      <th>109</th>\n",
       "      <td>63.799999</td>\n",
       "      <td>60.741589</td>\n",
       "    </tr>\n",
       "    <tr>\n",
       "      <th>...</th>\n",
       "      <td>...</td>\n",
       "      <td>...</td>\n",
       "    </tr>\n",
       "    <tr>\n",
       "      <th>182</th>\n",
       "      <td>66.400002</td>\n",
       "      <td>65.049258</td>\n",
       "    </tr>\n",
       "    <tr>\n",
       "      <th>495</th>\n",
       "      <td>64.808945</td>\n",
       "      <td>64.788504</td>\n",
       "    </tr>\n",
       "    <tr>\n",
       "      <th>411</th>\n",
       "      <td>67.000000</td>\n",
       "      <td>67.475222</td>\n",
       "    </tr>\n",
       "    <tr>\n",
       "      <th>18</th>\n",
       "      <td>72.099998</td>\n",
       "      <td>71.702818</td>\n",
       "    </tr>\n",
       "    <tr>\n",
       "      <th>428</th>\n",
       "      <td>55.500000</td>\n",
       "      <td>56.744898</td>\n",
       "    </tr>\n",
       "  </tbody>\n",
       "</table>\n",
       "<p>205 rows × 2 columns</p>\n",
       "</div>"
      ],
      "text/plain": [
       "     Real_Value_Ridge  Predicted_value_Ridge\n",
       "49          74.180000              60.603196\n",
       "584         66.006149              67.721506\n",
       "82          68.300003              66.097093\n",
       "305         61.099998              57.817265\n",
       "109         63.799999              60.741589\n",
       "..                ...                    ...\n",
       "182         66.400002              65.049258\n",
       "495         64.808945              64.788504\n",
       "411         67.000000              67.475222\n",
       "18          72.099998              71.702818\n",
       "428         55.500000              56.744898\n",
       "\n",
       "[205 rows x 2 columns]"
      ]
     },
     "execution_count": 64,
     "metadata": {},
     "output_type": "execute_result"
    }
   ],
   "source": [
    "df_results4=pd.DataFrame({'Real_Value_Ridge':y_test,'Predicted_value_Ridge':y_pred})\n",
    "df_results4"
   ]
  },
  {
   "cell_type": "code",
   "execution_count": 65,
   "metadata": {},
   "outputs": [
    {
     "data": {
      "text/html": [
       "<div>\n",
       "<style scoped>\n",
       "    .dataframe tbody tr th:only-of-type {\n",
       "        vertical-align: middle;\n",
       "    }\n",
       "\n",
       "    .dataframe tbody tr th {\n",
       "        vertical-align: top;\n",
       "    }\n",
       "\n",
       "    .dataframe thead th {\n",
       "        text-align: right;\n",
       "    }\n",
       "</style>\n",
       "<table border=\"1\" class=\"dataframe\">\n",
       "  <thead>\n",
       "    <tr style=\"text-align: right;\">\n",
       "      <th></th>\n",
       "      <th>Real_Value</th>\n",
       "      <th>Predicted_value_LR</th>\n",
       "      <th>Real_Value_LR_logy</th>\n",
       "      <th>Predicted_value_LR_logy</th>\n",
       "      <th>Real_Value_LR_minmax</th>\n",
       "      <th>Predicted_value_LR_minmax</th>\n",
       "      <th>Real_Value_Ridge</th>\n",
       "      <th>Predicted_value_Ridge</th>\n",
       "    </tr>\n",
       "  </thead>\n",
       "  <tbody>\n",
       "    <tr>\n",
       "      <th>49</th>\n",
       "      <td>74.180000</td>\n",
       "      <td>60.547202</td>\n",
       "      <td>74.180000</td>\n",
       "      <td>59.951064</td>\n",
       "      <td>74.180000</td>\n",
       "      <td>60.547202</td>\n",
       "      <td>74.180000</td>\n",
       "      <td>60.603196</td>\n",
       "    </tr>\n",
       "    <tr>\n",
       "      <th>584</th>\n",
       "      <td>66.006149</td>\n",
       "      <td>67.769890</td>\n",
       "      <td>66.006149</td>\n",
       "      <td>67.441929</td>\n",
       "      <td>66.006149</td>\n",
       "      <td>67.769890</td>\n",
       "      <td>66.006149</td>\n",
       "      <td>67.721506</td>\n",
       "    </tr>\n",
       "    <tr>\n",
       "      <th>82</th>\n",
       "      <td>68.300003</td>\n",
       "      <td>66.102487</td>\n",
       "      <td>68.300003</td>\n",
       "      <td>65.666076</td>\n",
       "      <td>68.300003</td>\n",
       "      <td>66.102487</td>\n",
       "      <td>68.300003</td>\n",
       "      <td>66.097093</td>\n",
       "    </tr>\n",
       "    <tr>\n",
       "      <th>305</th>\n",
       "      <td>61.099998</td>\n",
       "      <td>57.861212</td>\n",
       "      <td>61.099998</td>\n",
       "      <td>57.377559</td>\n",
       "      <td>61.099998</td>\n",
       "      <td>57.861212</td>\n",
       "      <td>61.099998</td>\n",
       "      <td>57.817265</td>\n",
       "    </tr>\n",
       "    <tr>\n",
       "      <th>109</th>\n",
       "      <td>63.799999</td>\n",
       "      <td>60.746936</td>\n",
       "      <td>63.799999</td>\n",
       "      <td>60.260718</td>\n",
       "      <td>63.799999</td>\n",
       "      <td>60.746936</td>\n",
       "      <td>63.799999</td>\n",
       "      <td>60.741589</td>\n",
       "    </tr>\n",
       "    <tr>\n",
       "      <th>...</th>\n",
       "      <td>...</td>\n",
       "      <td>...</td>\n",
       "      <td>...</td>\n",
       "      <td>...</td>\n",
       "      <td>...</td>\n",
       "      <td>...</td>\n",
       "      <td>...</td>\n",
       "      <td>...</td>\n",
       "    </tr>\n",
       "    <tr>\n",
       "      <th>182</th>\n",
       "      <td>66.400002</td>\n",
       "      <td>65.013604</td>\n",
       "      <td>66.400002</td>\n",
       "      <td>64.675104</td>\n",
       "      <td>66.400002</td>\n",
       "      <td>65.013604</td>\n",
       "      <td>66.400002</td>\n",
       "      <td>65.049258</td>\n",
       "    </tr>\n",
       "    <tr>\n",
       "      <th>495</th>\n",
       "      <td>64.808945</td>\n",
       "      <td>64.771538</td>\n",
       "      <td>64.808945</td>\n",
       "      <td>64.440507</td>\n",
       "      <td>64.808945</td>\n",
       "      <td>64.771538</td>\n",
       "      <td>64.808945</td>\n",
       "      <td>64.788504</td>\n",
       "    </tr>\n",
       "    <tr>\n",
       "      <th>411</th>\n",
       "      <td>67.000000</td>\n",
       "      <td>67.520169</td>\n",
       "      <td>67.000000</td>\n",
       "      <td>67.488002</td>\n",
       "      <td>67.000000</td>\n",
       "      <td>67.520169</td>\n",
       "      <td>67.000000</td>\n",
       "      <td>67.475222</td>\n",
       "    </tr>\n",
       "    <tr>\n",
       "      <th>18</th>\n",
       "      <td>72.099998</td>\n",
       "      <td>71.721267</td>\n",
       "      <td>72.099998</td>\n",
       "      <td>71.695969</td>\n",
       "      <td>72.099998</td>\n",
       "      <td>71.721267</td>\n",
       "      <td>72.099998</td>\n",
       "      <td>71.702818</td>\n",
       "    </tr>\n",
       "    <tr>\n",
       "      <th>428</th>\n",
       "      <td>55.500000</td>\n",
       "      <td>56.734517</td>\n",
       "      <td>55.500000</td>\n",
       "      <td>56.474929</td>\n",
       "      <td>55.500000</td>\n",
       "      <td>56.734517</td>\n",
       "      <td>55.500000</td>\n",
       "      <td>56.744898</td>\n",
       "    </tr>\n",
       "  </tbody>\n",
       "</table>\n",
       "<p>205 rows × 8 columns</p>\n",
       "</div>"
      ],
      "text/plain": [
       "     Real_Value  Predicted_value_LR  Real_Value_LR_logy  \\\n",
       "49    74.180000           60.547202           74.180000   \n",
       "584   66.006149           67.769890           66.006149   \n",
       "82    68.300003           66.102487           68.300003   \n",
       "305   61.099998           57.861212           61.099998   \n",
       "109   63.799999           60.746936           63.799999   \n",
       "..          ...                 ...                 ...   \n",
       "182   66.400002           65.013604           66.400002   \n",
       "495   64.808945           64.771538           64.808945   \n",
       "411   67.000000           67.520169           67.000000   \n",
       "18    72.099998           71.721267           72.099998   \n",
       "428   55.500000           56.734517           55.500000   \n",
       "\n",
       "     Predicted_value_LR_logy  Real_Value_LR_minmax  Predicted_value_LR_minmax  \\\n",
       "49                 59.951064             74.180000                  60.547202   \n",
       "584                67.441929             66.006149                  67.769890   \n",
       "82                 65.666076             68.300003                  66.102487   \n",
       "305                57.377559             61.099998                  57.861212   \n",
       "109                60.260718             63.799999                  60.746936   \n",
       "..                       ...                   ...                        ...   \n",
       "182                64.675104             66.400002                  65.013604   \n",
       "495                64.440507             64.808945                  64.771538   \n",
       "411                67.488002             67.000000                  67.520169   \n",
       "18                 71.695969             72.099998                  71.721267   \n",
       "428                56.474929             55.500000                  56.734517   \n",
       "\n",
       "     Real_Value_Ridge  Predicted_value_Ridge  \n",
       "49          74.180000              60.603196  \n",
       "584         66.006149              67.721506  \n",
       "82          68.300003              66.097093  \n",
       "305         61.099998              57.817265  \n",
       "109         63.799999              60.741589  \n",
       "..                ...                    ...  \n",
       "182         66.400002              65.049258  \n",
       "495         64.808945              64.788504  \n",
       "411         67.000000              67.475222  \n",
       "18          72.099998              71.702818  \n",
       "428         55.500000              56.744898  \n",
       "\n",
       "[205 rows x 8 columns]"
      ]
     },
     "execution_count": 65,
     "metadata": {},
     "output_type": "execute_result"
    }
   ],
   "source": [
    "results_comp=concat_results(results_comp,df_results4)\n",
    "results_comp"
   ]
  },
  {
   "cell_type": "markdown",
   "metadata": {},
   "source": [
    "OPTION 1.5.\n",
    "\n",
    "-LASSO REGRESSION  \n",
    "-WITHOUT TREATING OUTLIERS   \n",
    "-RAW DATA  "
   ]
  },
  {
   "cell_type": "code",
   "execution_count": 66,
   "metadata": {},
   "outputs": [],
   "source": [
    "y=happy_df.Life_exp_age\n",
    "X=happy_df.drop(columns='Life_exp_age')"
   ]
  },
  {
   "cell_type": "code",
   "execution_count": 67,
   "metadata": {},
   "outputs": [],
   "source": [
    "X_train, X_test, y_train, y_test=train_test_split(X,y,test_size=0.33,random_state=42)"
   ]
  },
  {
   "cell_type": "code",
   "execution_count": 68,
   "metadata": {},
   "outputs": [],
   "source": [
    "from sklearn.linear_model import Lasso\n",
    "mReg_lasso=Lasso()"
   ]
  },
  {
   "cell_type": "code",
   "execution_count": 69,
   "metadata": {},
   "outputs": [],
   "source": [
    "parameters={'alpha':[0.00001,0.0001,0.0001,0.001,0.01,0.1,0.25,0.5,0.75,1,5,10,20,100]}\n",
    "lasso_reg=GridSearchCV(mReg_lasso,parameters,scoring='neg_mean_squared_error',cv=5)"
   ]
  },
  {
   "cell_type": "code",
   "execution_count": 70,
   "metadata": {},
   "outputs": [
    {
     "data": {
      "text/plain": [
       "GridSearchCV(cv=5, estimator=Lasso(),\n",
       "             param_grid={'alpha': [1e-05, 0.0001, 0.0001, 0.001, 0.01, 0.1,\n",
       "                                   0.25, 0.5, 0.75, 1, 5, 10, 20, 100]},\n",
       "             scoring='neg_mean_squared_error')"
      ]
     },
     "execution_count": 70,
     "metadata": {},
     "output_type": "execute_result"
    }
   ],
   "source": [
    "lasso_reg.fit(X_train,y_train)"
   ]
  },
  {
   "cell_type": "code",
   "execution_count": 71,
   "metadata": {},
   "outputs": [
    {
     "data": {
      "text/plain": [
       "{'alpha': 0.01}"
      ]
     },
     "execution_count": 71,
     "metadata": {},
     "output_type": "execute_result"
    }
   ],
   "source": [
    "lasso_reg.best_params_"
   ]
  },
  {
   "cell_type": "code",
   "execution_count": 72,
   "metadata": {},
   "outputs": [],
   "source": [
    "parameters={'alpha':[0.01]}\n",
    "lasso_reg=GridSearchCV(mReg_lasso,parameters,scoring='neg_mean_squared_error',cv=5)"
   ]
  },
  {
   "cell_type": "code",
   "execution_count": 73,
   "metadata": {},
   "outputs": [
    {
     "data": {
      "text/plain": [
       "GridSearchCV(cv=5, estimator=Lasso(), param_grid={'alpha': [0.01]},\n",
       "             scoring='neg_mean_squared_error')"
      ]
     },
     "execution_count": 73,
     "metadata": {},
     "output_type": "execute_result"
    }
   ],
   "source": [
    "lasso_reg.fit(X_train,y_train)"
   ]
  },
  {
   "cell_type": "code",
   "execution_count": 74,
   "metadata": {},
   "outputs": [
    {
     "name": "stdout",
     "output_type": "stream",
     "text": [
      "Train Result:\n",
      "===========================================\n",
      "MAE: 1.6487\n",
      "\n",
      "MSE: 5.3686\n",
      "\n",
      "RMSE: 2.3170\n",
      "\n",
      "R^2: 0.8954\n",
      "\n",
      "================================================================\n",
      "Cross Validation R2_score for train set: [0.87 0.93 0.91 0.89 0.9  0.88 0.89 0.94 0.85 0.81]\n",
      "\n",
      "Average 10-Fold CV R2_score for train set: 0.886\n",
      "\n",
      "Test Result:\n",
      "===========================================\n",
      "MAE: 1.6250\n",
      "\n",
      "MSE: 5.4378\n",
      "\n",
      "RMSE: 2.3319\n",
      "\n",
      "R^2: 0.8839\n",
      "\n",
      "Cross Validation R2_score for test set: [0.64 0.89 0.93 0.78 0.88 0.96 0.92 0.91 0.86 0.91]\n",
      "\n",
      "Average 10-Fold CV R2_score for test set: 0.869\n",
      "\n"
     ]
    }
   ],
   "source": [
    "print_score(lasso_reg, X_train, y_train, X_test, y_test, train=True)\n",
    "print_score(lasso_reg, X_train, y_train, X_test, y_test, train=False)"
   ]
  },
  {
   "cell_type": "code",
   "execution_count": 75,
   "metadata": {},
   "outputs": [],
   "source": [
    "y_pred=lasso_reg.predict(X_test)"
   ]
  },
  {
   "cell_type": "code",
   "execution_count": 76,
   "metadata": {},
   "outputs": [
    {
     "data": {
      "text/html": [
       "<div>\n",
       "<style scoped>\n",
       "    .dataframe tbody tr th:only-of-type {\n",
       "        vertical-align: middle;\n",
       "    }\n",
       "\n",
       "    .dataframe tbody tr th {\n",
       "        vertical-align: top;\n",
       "    }\n",
       "\n",
       "    .dataframe thead th {\n",
       "        text-align: right;\n",
       "    }\n",
       "</style>\n",
       "<table border=\"1\" class=\"dataframe\">\n",
       "  <thead>\n",
       "    <tr style=\"text-align: right;\">\n",
       "      <th></th>\n",
       "      <th>Real_Value_Lasso</th>\n",
       "      <th>Predicted_value_Lasso</th>\n",
       "    </tr>\n",
       "  </thead>\n",
       "  <tbody>\n",
       "    <tr>\n",
       "      <th>49</th>\n",
       "      <td>74.180000</td>\n",
       "      <td>60.761295</td>\n",
       "    </tr>\n",
       "    <tr>\n",
       "      <th>584</th>\n",
       "      <td>66.006149</td>\n",
       "      <td>67.524233</td>\n",
       "    </tr>\n",
       "    <tr>\n",
       "      <th>82</th>\n",
       "      <td>68.300003</td>\n",
       "      <td>65.946420</td>\n",
       "    </tr>\n",
       "    <tr>\n",
       "      <th>305</th>\n",
       "      <td>61.099998</td>\n",
       "      <td>57.572981</td>\n",
       "    </tr>\n",
       "    <tr>\n",
       "      <th>109</th>\n",
       "      <td>63.799999</td>\n",
       "      <td>60.824182</td>\n",
       "    </tr>\n",
       "    <tr>\n",
       "      <th>...</th>\n",
       "      <td>...</td>\n",
       "      <td>...</td>\n",
       "    </tr>\n",
       "    <tr>\n",
       "      <th>182</th>\n",
       "      <td>66.400002</td>\n",
       "      <td>65.208360</td>\n",
       "    </tr>\n",
       "    <tr>\n",
       "      <th>495</th>\n",
       "      <td>64.808945</td>\n",
       "      <td>65.011466</td>\n",
       "    </tr>\n",
       "    <tr>\n",
       "      <th>411</th>\n",
       "      <td>67.000000</td>\n",
       "      <td>67.432745</td>\n",
       "    </tr>\n",
       "    <tr>\n",
       "      <th>18</th>\n",
       "      <td>72.099998</td>\n",
       "      <td>71.388997</td>\n",
       "    </tr>\n",
       "    <tr>\n",
       "      <th>428</th>\n",
       "      <td>55.500000</td>\n",
       "      <td>56.765699</td>\n",
       "    </tr>\n",
       "  </tbody>\n",
       "</table>\n",
       "<p>205 rows × 2 columns</p>\n",
       "</div>"
      ],
      "text/plain": [
       "     Real_Value_Lasso  Predicted_value_Lasso\n",
       "49          74.180000              60.761295\n",
       "584         66.006149              67.524233\n",
       "82          68.300003              65.946420\n",
       "305         61.099998              57.572981\n",
       "109         63.799999              60.824182\n",
       "..                ...                    ...\n",
       "182         66.400002              65.208360\n",
       "495         64.808945              65.011466\n",
       "411         67.000000              67.432745\n",
       "18          72.099998              71.388997\n",
       "428         55.500000              56.765699\n",
       "\n",
       "[205 rows x 2 columns]"
      ]
     },
     "execution_count": 76,
     "metadata": {},
     "output_type": "execute_result"
    }
   ],
   "source": [
    "df_results5=pd.DataFrame({'Real_Value_Lasso':y_test,'Predicted_value_Lasso':y_pred})\n",
    "df_results5"
   ]
  },
  {
   "cell_type": "code",
   "execution_count": 77,
   "metadata": {},
   "outputs": [
    {
     "data": {
      "text/html": [
       "<div>\n",
       "<style scoped>\n",
       "    .dataframe tbody tr th:only-of-type {\n",
       "        vertical-align: middle;\n",
       "    }\n",
       "\n",
       "    .dataframe tbody tr th {\n",
       "        vertical-align: top;\n",
       "    }\n",
       "\n",
       "    .dataframe thead th {\n",
       "        text-align: right;\n",
       "    }\n",
       "</style>\n",
       "<table border=\"1\" class=\"dataframe\">\n",
       "  <thead>\n",
       "    <tr style=\"text-align: right;\">\n",
       "      <th></th>\n",
       "      <th>Real_Value</th>\n",
       "      <th>Predicted_value_LR</th>\n",
       "      <th>Real_Value_LR_logy</th>\n",
       "      <th>Predicted_value_LR_logy</th>\n",
       "      <th>Real_Value_LR_minmax</th>\n",
       "      <th>Predicted_value_LR_minmax</th>\n",
       "      <th>Real_Value_Ridge</th>\n",
       "      <th>Predicted_value_Ridge</th>\n",
       "      <th>Real_Value_Lasso</th>\n",
       "      <th>Predicted_value_Lasso</th>\n",
       "    </tr>\n",
       "  </thead>\n",
       "  <tbody>\n",
       "    <tr>\n",
       "      <th>49</th>\n",
       "      <td>74.180000</td>\n",
       "      <td>60.547202</td>\n",
       "      <td>74.180000</td>\n",
       "      <td>59.951064</td>\n",
       "      <td>74.180000</td>\n",
       "      <td>60.547202</td>\n",
       "      <td>74.180000</td>\n",
       "      <td>60.603196</td>\n",
       "      <td>74.180000</td>\n",
       "      <td>60.761295</td>\n",
       "    </tr>\n",
       "    <tr>\n",
       "      <th>584</th>\n",
       "      <td>66.006149</td>\n",
       "      <td>67.769890</td>\n",
       "      <td>66.006149</td>\n",
       "      <td>67.441929</td>\n",
       "      <td>66.006149</td>\n",
       "      <td>67.769890</td>\n",
       "      <td>66.006149</td>\n",
       "      <td>67.721506</td>\n",
       "      <td>66.006149</td>\n",
       "      <td>67.524233</td>\n",
       "    </tr>\n",
       "    <tr>\n",
       "      <th>82</th>\n",
       "      <td>68.300003</td>\n",
       "      <td>66.102487</td>\n",
       "      <td>68.300003</td>\n",
       "      <td>65.666076</td>\n",
       "      <td>68.300003</td>\n",
       "      <td>66.102487</td>\n",
       "      <td>68.300003</td>\n",
       "      <td>66.097093</td>\n",
       "      <td>68.300003</td>\n",
       "      <td>65.946420</td>\n",
       "    </tr>\n",
       "    <tr>\n",
       "      <th>305</th>\n",
       "      <td>61.099998</td>\n",
       "      <td>57.861212</td>\n",
       "      <td>61.099998</td>\n",
       "      <td>57.377559</td>\n",
       "      <td>61.099998</td>\n",
       "      <td>57.861212</td>\n",
       "      <td>61.099998</td>\n",
       "      <td>57.817265</td>\n",
       "      <td>61.099998</td>\n",
       "      <td>57.572981</td>\n",
       "    </tr>\n",
       "    <tr>\n",
       "      <th>109</th>\n",
       "      <td>63.799999</td>\n",
       "      <td>60.746936</td>\n",
       "      <td>63.799999</td>\n",
       "      <td>60.260718</td>\n",
       "      <td>63.799999</td>\n",
       "      <td>60.746936</td>\n",
       "      <td>63.799999</td>\n",
       "      <td>60.741589</td>\n",
       "      <td>63.799999</td>\n",
       "      <td>60.824182</td>\n",
       "    </tr>\n",
       "    <tr>\n",
       "      <th>...</th>\n",
       "      <td>...</td>\n",
       "      <td>...</td>\n",
       "      <td>...</td>\n",
       "      <td>...</td>\n",
       "      <td>...</td>\n",
       "      <td>...</td>\n",
       "      <td>...</td>\n",
       "      <td>...</td>\n",
       "      <td>...</td>\n",
       "      <td>...</td>\n",
       "    </tr>\n",
       "    <tr>\n",
       "      <th>182</th>\n",
       "      <td>66.400002</td>\n",
       "      <td>65.013604</td>\n",
       "      <td>66.400002</td>\n",
       "      <td>64.675104</td>\n",
       "      <td>66.400002</td>\n",
       "      <td>65.013604</td>\n",
       "      <td>66.400002</td>\n",
       "      <td>65.049258</td>\n",
       "      <td>66.400002</td>\n",
       "      <td>65.208360</td>\n",
       "    </tr>\n",
       "    <tr>\n",
       "      <th>495</th>\n",
       "      <td>64.808945</td>\n",
       "      <td>64.771538</td>\n",
       "      <td>64.808945</td>\n",
       "      <td>64.440507</td>\n",
       "      <td>64.808945</td>\n",
       "      <td>64.771538</td>\n",
       "      <td>64.808945</td>\n",
       "      <td>64.788504</td>\n",
       "      <td>64.808945</td>\n",
       "      <td>65.011466</td>\n",
       "    </tr>\n",
       "    <tr>\n",
       "      <th>411</th>\n",
       "      <td>67.000000</td>\n",
       "      <td>67.520169</td>\n",
       "      <td>67.000000</td>\n",
       "      <td>67.488002</td>\n",
       "      <td>67.000000</td>\n",
       "      <td>67.520169</td>\n",
       "      <td>67.000000</td>\n",
       "      <td>67.475222</td>\n",
       "      <td>67.000000</td>\n",
       "      <td>67.432745</td>\n",
       "    </tr>\n",
       "    <tr>\n",
       "      <th>18</th>\n",
       "      <td>72.099998</td>\n",
       "      <td>71.721267</td>\n",
       "      <td>72.099998</td>\n",
       "      <td>71.695969</td>\n",
       "      <td>72.099998</td>\n",
       "      <td>71.721267</td>\n",
       "      <td>72.099998</td>\n",
       "      <td>71.702818</td>\n",
       "      <td>72.099998</td>\n",
       "      <td>71.388997</td>\n",
       "    </tr>\n",
       "    <tr>\n",
       "      <th>428</th>\n",
       "      <td>55.500000</td>\n",
       "      <td>56.734517</td>\n",
       "      <td>55.500000</td>\n",
       "      <td>56.474929</td>\n",
       "      <td>55.500000</td>\n",
       "      <td>56.734517</td>\n",
       "      <td>55.500000</td>\n",
       "      <td>56.744898</td>\n",
       "      <td>55.500000</td>\n",
       "      <td>56.765699</td>\n",
       "    </tr>\n",
       "  </tbody>\n",
       "</table>\n",
       "<p>205 rows × 10 columns</p>\n",
       "</div>"
      ],
      "text/plain": [
       "     Real_Value  Predicted_value_LR  Real_Value_LR_logy  \\\n",
       "49    74.180000           60.547202           74.180000   \n",
       "584   66.006149           67.769890           66.006149   \n",
       "82    68.300003           66.102487           68.300003   \n",
       "305   61.099998           57.861212           61.099998   \n",
       "109   63.799999           60.746936           63.799999   \n",
       "..          ...                 ...                 ...   \n",
       "182   66.400002           65.013604           66.400002   \n",
       "495   64.808945           64.771538           64.808945   \n",
       "411   67.000000           67.520169           67.000000   \n",
       "18    72.099998           71.721267           72.099998   \n",
       "428   55.500000           56.734517           55.500000   \n",
       "\n",
       "     Predicted_value_LR_logy  Real_Value_LR_minmax  Predicted_value_LR_minmax  \\\n",
       "49                 59.951064             74.180000                  60.547202   \n",
       "584                67.441929             66.006149                  67.769890   \n",
       "82                 65.666076             68.300003                  66.102487   \n",
       "305                57.377559             61.099998                  57.861212   \n",
       "109                60.260718             63.799999                  60.746936   \n",
       "..                       ...                   ...                        ...   \n",
       "182                64.675104             66.400002                  65.013604   \n",
       "495                64.440507             64.808945                  64.771538   \n",
       "411                67.488002             67.000000                  67.520169   \n",
       "18                 71.695969             72.099998                  71.721267   \n",
       "428                56.474929             55.500000                  56.734517   \n",
       "\n",
       "     Real_Value_Ridge  Predicted_value_Ridge  Real_Value_Lasso  \\\n",
       "49          74.180000              60.603196         74.180000   \n",
       "584         66.006149              67.721506         66.006149   \n",
       "82          68.300003              66.097093         68.300003   \n",
       "305         61.099998              57.817265         61.099998   \n",
       "109         63.799999              60.741589         63.799999   \n",
       "..                ...                    ...               ...   \n",
       "182         66.400002              65.049258         66.400002   \n",
       "495         64.808945              64.788504         64.808945   \n",
       "411         67.000000              67.475222         67.000000   \n",
       "18          72.099998              71.702818         72.099998   \n",
       "428         55.500000              56.744898         55.500000   \n",
       "\n",
       "     Predicted_value_Lasso  \n",
       "49               60.761295  \n",
       "584              67.524233  \n",
       "82               65.946420  \n",
       "305              57.572981  \n",
       "109              60.824182  \n",
       "..                     ...  \n",
       "182              65.208360  \n",
       "495              65.011466  \n",
       "411              67.432745  \n",
       "18               71.388997  \n",
       "428              56.765699  \n",
       "\n",
       "[205 rows x 10 columns]"
      ]
     },
     "execution_count": 77,
     "metadata": {},
     "output_type": "execute_result"
    }
   ],
   "source": [
    "results_comp=concat_results(results_comp,df_results5)\n",
    "results_comp"
   ]
  },
  {
   "cell_type": "markdown",
   "metadata": {},
   "source": [
    "OPTION 1.6.\n",
    "\n",
    "I can see that transforming the data we don't get better results. In this next step I'm going to apply Lasso and Ridge regression to see if we can improve the performance\n",
    "\n",
    "- LASSO REGRESSION\n",
    "- WITHOUT TREATING OUTLIERS\n",
    "- TARGET VARIABLE LOG TRANSFORMED"
   ]
  },
  {
   "cell_type": "code",
   "execution_count": 78,
   "metadata": {},
   "outputs": [],
   "source": [
    "y=happy_df.Life_exp_age\n",
    "X=happy_df.drop(columns='Life_exp_age')"
   ]
  },
  {
   "cell_type": "code",
   "execution_count": 79,
   "metadata": {},
   "outputs": [],
   "source": [
    "# LOG transform for the target variable"
   ]
  },
  {
   "cell_type": "code",
   "execution_count": 80,
   "metadata": {},
   "outputs": [],
   "source": [
    "y=np.log(y)"
   ]
  },
  {
   "cell_type": "code",
   "execution_count": 81,
   "metadata": {},
   "outputs": [],
   "source": [
    "#split the data"
   ]
  },
  {
   "cell_type": "code",
   "execution_count": 82,
   "metadata": {},
   "outputs": [],
   "source": [
    "X_train, X_test, y_train, y_test=train_test_split(X,y,test_size=0.33,random_state=42)"
   ]
  },
  {
   "cell_type": "code",
   "execution_count": 83,
   "metadata": {},
   "outputs": [],
   "source": [
    "#instantiate the model\n",
    "mReg_lasso=Lasso()"
   ]
  },
  {
   "cell_type": "code",
   "execution_count": 84,
   "metadata": {},
   "outputs": [],
   "source": [
    "parameters={'alpha':[0.00001,0.0001,0.0001,0.001,0.01,0.1,0.25,0.5,0.75,1,5,10,20,100]}\n",
    "lasso_reg=GridSearchCV(mReg_lasso,parameters,scoring='neg_mean_squared_error',cv=5)"
   ]
  },
  {
   "cell_type": "code",
   "execution_count": 85,
   "metadata": {},
   "outputs": [
    {
     "data": {
      "text/plain": [
       "GridSearchCV(cv=5, estimator=Lasso(),\n",
       "             param_grid={'alpha': [1e-05, 0.0001, 0.0001, 0.001, 0.01, 0.1,\n",
       "                                   0.25, 0.5, 0.75, 1, 5, 10, 20, 100]},\n",
       "             scoring='neg_mean_squared_error')"
      ]
     },
     "execution_count": 85,
     "metadata": {},
     "output_type": "execute_result"
    }
   ],
   "source": [
    "lasso_reg.fit(X_train,y_train)"
   ]
  },
  {
   "cell_type": "code",
   "execution_count": 86,
   "metadata": {},
   "outputs": [
    {
     "data": {
      "text/plain": [
       "{'alpha': 0.0001}"
      ]
     },
     "execution_count": 86,
     "metadata": {},
     "output_type": "execute_result"
    }
   ],
   "source": [
    "lasso_reg.best_params_"
   ]
  },
  {
   "cell_type": "code",
   "execution_count": 87,
   "metadata": {},
   "outputs": [],
   "source": [
    "parameters={'alpha':[0.0001]}\n",
    "lasso_reg=GridSearchCV(mReg_lasso,parameters,scoring='neg_mean_squared_error',cv=5)"
   ]
  },
  {
   "cell_type": "code",
   "execution_count": 88,
   "metadata": {},
   "outputs": [
    {
     "data": {
      "text/plain": [
       "GridSearchCV(cv=5, estimator=Lasso(), param_grid={'alpha': [0.0001]},\n",
       "             scoring='neg_mean_squared_error')"
      ]
     },
     "execution_count": 88,
     "metadata": {},
     "output_type": "execute_result"
    }
   ],
   "source": [
    "lasso_reg.fit(X_train,y_train)"
   ]
  },
  {
   "cell_type": "code",
   "execution_count": 89,
   "metadata": {},
   "outputs": [
    {
     "name": "stdout",
     "output_type": "stream",
     "text": [
      "Train Result:\n",
      "===========================================\n",
      "MAE: 0.0275\n",
      "\n",
      "MSE: 0.0015\n",
      "\n",
      "RMSE: 0.0383\n",
      "\n",
      "R^2: 0.8913\n",
      "\n",
      "================================================================\n",
      "Cross Validation R2_score for train set: [0.87 0.91 0.9  0.87 0.9  0.87 0.89 0.94 0.86 0.8 ]\n",
      "\n",
      "Average 10-Fold CV R2_score for train set: 0.881\n",
      "\n",
      "Test Result:\n",
      "===========================================\n",
      "MAE: 0.0266\n",
      "\n",
      "MSE: 0.0014\n",
      "\n",
      "RMSE: 0.0380\n",
      "\n",
      "R^2: 0.8792\n",
      "\n",
      "Cross Validation R2_score for test set: [0.63 0.9  0.93 0.8  0.89 0.95 0.92 0.9  0.86 0.9 ]\n",
      "\n",
      "Average 10-Fold CV R2_score for test set: 0.867\n",
      "\n"
     ]
    }
   ],
   "source": [
    "print_score(lasso_reg, X_train, y_train, X_test, y_test, train=True)\n",
    "print_score(lasso_reg, X_train, y_train, X_test, y_test, train=False)"
   ]
  },
  {
   "cell_type": "code",
   "execution_count": 90,
   "metadata": {},
   "outputs": [],
   "source": [
    "# we are not getting better results\n",
    "y_pred=lasso_reg.predict(X_test)"
   ]
  },
  {
   "cell_type": "code",
   "execution_count": 91,
   "metadata": {},
   "outputs": [],
   "source": [
    "y_pred_exp=np.exp(y_pred)\n",
    "y_test_exp=np.exp(y_test)"
   ]
  },
  {
   "cell_type": "code",
   "execution_count": 92,
   "metadata": {},
   "outputs": [
    {
     "data": {
      "text/html": [
       "<div>\n",
       "<style scoped>\n",
       "    .dataframe tbody tr th:only-of-type {\n",
       "        vertical-align: middle;\n",
       "    }\n",
       "\n",
       "    .dataframe tbody tr th {\n",
       "        vertical-align: top;\n",
       "    }\n",
       "\n",
       "    .dataframe thead th {\n",
       "        text-align: right;\n",
       "    }\n",
       "</style>\n",
       "<table border=\"1\" class=\"dataframe\">\n",
       "  <thead>\n",
       "    <tr style=\"text-align: right;\">\n",
       "      <th></th>\n",
       "      <th>Real_Value_Lasso</th>\n",
       "      <th>Predicted_value_Lasso_logy</th>\n",
       "    </tr>\n",
       "  </thead>\n",
       "  <tbody>\n",
       "    <tr>\n",
       "      <th>49</th>\n",
       "      <td>74.180000</td>\n",
       "      <td>60.135652</td>\n",
       "    </tr>\n",
       "    <tr>\n",
       "      <th>584</th>\n",
       "      <td>66.006149</td>\n",
       "      <td>67.322461</td>\n",
       "    </tr>\n",
       "    <tr>\n",
       "      <th>82</th>\n",
       "      <td>68.300003</td>\n",
       "      <td>65.602803</td>\n",
       "    </tr>\n",
       "    <tr>\n",
       "      <th>305</th>\n",
       "      <td>61.099998</td>\n",
       "      <td>57.073331</td>\n",
       "    </tr>\n",
       "    <tr>\n",
       "      <th>109</th>\n",
       "      <td>63.799999</td>\n",
       "      <td>60.343653</td>\n",
       "    </tr>\n",
       "    <tr>\n",
       "      <th>...</th>\n",
       "      <td>...</td>\n",
       "      <td>...</td>\n",
       "    </tr>\n",
       "    <tr>\n",
       "      <th>182</th>\n",
       "      <td>66.400002</td>\n",
       "      <td>64.805877</td>\n",
       "    </tr>\n",
       "    <tr>\n",
       "      <th>495</th>\n",
       "      <td>64.808945</td>\n",
       "      <td>64.640835</td>\n",
       "    </tr>\n",
       "    <tr>\n",
       "      <th>411</th>\n",
       "      <td>67.000000</td>\n",
       "      <td>67.380910</td>\n",
       "    </tr>\n",
       "    <tr>\n",
       "      <th>18</th>\n",
       "      <td>72.099998</td>\n",
       "      <td>71.473722</td>\n",
       "    </tr>\n",
       "    <tr>\n",
       "      <th>428</th>\n",
       "      <td>55.500000</td>\n",
       "      <td>56.542527</td>\n",
       "    </tr>\n",
       "  </tbody>\n",
       "</table>\n",
       "<p>205 rows × 2 columns</p>\n",
       "</div>"
      ],
      "text/plain": [
       "     Real_Value_Lasso  Predicted_value_Lasso_logy\n",
       "49          74.180000                   60.135652\n",
       "584         66.006149                   67.322461\n",
       "82          68.300003                   65.602803\n",
       "305         61.099998                   57.073331\n",
       "109         63.799999                   60.343653\n",
       "..                ...                         ...\n",
       "182         66.400002                   64.805877\n",
       "495         64.808945                   64.640835\n",
       "411         67.000000                   67.380910\n",
       "18          72.099998                   71.473722\n",
       "428         55.500000                   56.542527\n",
       "\n",
       "[205 rows x 2 columns]"
      ]
     },
     "execution_count": 92,
     "metadata": {},
     "output_type": "execute_result"
    }
   ],
   "source": [
    "df_results6=pd.DataFrame({'Real_Value_Lasso':y_test_exp,'Predicted_value_Lasso_logy':y_pred_exp})\n",
    "df_results6"
   ]
  },
  {
   "cell_type": "code",
   "execution_count": 93,
   "metadata": {},
   "outputs": [
    {
     "data": {
      "text/html": [
       "<div>\n",
       "<style scoped>\n",
       "    .dataframe tbody tr th:only-of-type {\n",
       "        vertical-align: middle;\n",
       "    }\n",
       "\n",
       "    .dataframe tbody tr th {\n",
       "        vertical-align: top;\n",
       "    }\n",
       "\n",
       "    .dataframe thead th {\n",
       "        text-align: right;\n",
       "    }\n",
       "</style>\n",
       "<table border=\"1\" class=\"dataframe\">\n",
       "  <thead>\n",
       "    <tr style=\"text-align: right;\">\n",
       "      <th></th>\n",
       "      <th>Real_Value</th>\n",
       "      <th>Predicted_value_LR</th>\n",
       "      <th>Real_Value_LR_logy</th>\n",
       "      <th>Predicted_value_LR_logy</th>\n",
       "      <th>Real_Value_LR_minmax</th>\n",
       "      <th>Predicted_value_LR_minmax</th>\n",
       "      <th>Real_Value_Ridge</th>\n",
       "      <th>Predicted_value_Ridge</th>\n",
       "      <th>Real_Value_Lasso</th>\n",
       "      <th>Predicted_value_Lasso</th>\n",
       "      <th>Real_Value_Lasso</th>\n",
       "      <th>Predicted_value_Lasso_logy</th>\n",
       "    </tr>\n",
       "  </thead>\n",
       "  <tbody>\n",
       "    <tr>\n",
       "      <th>49</th>\n",
       "      <td>74.180000</td>\n",
       "      <td>60.547202</td>\n",
       "      <td>74.180000</td>\n",
       "      <td>59.951064</td>\n",
       "      <td>74.180000</td>\n",
       "      <td>60.547202</td>\n",
       "      <td>74.180000</td>\n",
       "      <td>60.603196</td>\n",
       "      <td>74.180000</td>\n",
       "      <td>60.761295</td>\n",
       "      <td>74.180000</td>\n",
       "      <td>60.135652</td>\n",
       "    </tr>\n",
       "    <tr>\n",
       "      <th>584</th>\n",
       "      <td>66.006149</td>\n",
       "      <td>67.769890</td>\n",
       "      <td>66.006149</td>\n",
       "      <td>67.441929</td>\n",
       "      <td>66.006149</td>\n",
       "      <td>67.769890</td>\n",
       "      <td>66.006149</td>\n",
       "      <td>67.721506</td>\n",
       "      <td>66.006149</td>\n",
       "      <td>67.524233</td>\n",
       "      <td>66.006149</td>\n",
       "      <td>67.322461</td>\n",
       "    </tr>\n",
       "    <tr>\n",
       "      <th>82</th>\n",
       "      <td>68.300003</td>\n",
       "      <td>66.102487</td>\n",
       "      <td>68.300003</td>\n",
       "      <td>65.666076</td>\n",
       "      <td>68.300003</td>\n",
       "      <td>66.102487</td>\n",
       "      <td>68.300003</td>\n",
       "      <td>66.097093</td>\n",
       "      <td>68.300003</td>\n",
       "      <td>65.946420</td>\n",
       "      <td>68.300003</td>\n",
       "      <td>65.602803</td>\n",
       "    </tr>\n",
       "    <tr>\n",
       "      <th>305</th>\n",
       "      <td>61.099998</td>\n",
       "      <td>57.861212</td>\n",
       "      <td>61.099998</td>\n",
       "      <td>57.377559</td>\n",
       "      <td>61.099998</td>\n",
       "      <td>57.861212</td>\n",
       "      <td>61.099998</td>\n",
       "      <td>57.817265</td>\n",
       "      <td>61.099998</td>\n",
       "      <td>57.572981</td>\n",
       "      <td>61.099998</td>\n",
       "      <td>57.073331</td>\n",
       "    </tr>\n",
       "    <tr>\n",
       "      <th>109</th>\n",
       "      <td>63.799999</td>\n",
       "      <td>60.746936</td>\n",
       "      <td>63.799999</td>\n",
       "      <td>60.260718</td>\n",
       "      <td>63.799999</td>\n",
       "      <td>60.746936</td>\n",
       "      <td>63.799999</td>\n",
       "      <td>60.741589</td>\n",
       "      <td>63.799999</td>\n",
       "      <td>60.824182</td>\n",
       "      <td>63.799999</td>\n",
       "      <td>60.343653</td>\n",
       "    </tr>\n",
       "    <tr>\n",
       "      <th>...</th>\n",
       "      <td>...</td>\n",
       "      <td>...</td>\n",
       "      <td>...</td>\n",
       "      <td>...</td>\n",
       "      <td>...</td>\n",
       "      <td>...</td>\n",
       "      <td>...</td>\n",
       "      <td>...</td>\n",
       "      <td>...</td>\n",
       "      <td>...</td>\n",
       "      <td>...</td>\n",
       "      <td>...</td>\n",
       "    </tr>\n",
       "    <tr>\n",
       "      <th>182</th>\n",
       "      <td>66.400002</td>\n",
       "      <td>65.013604</td>\n",
       "      <td>66.400002</td>\n",
       "      <td>64.675104</td>\n",
       "      <td>66.400002</td>\n",
       "      <td>65.013604</td>\n",
       "      <td>66.400002</td>\n",
       "      <td>65.049258</td>\n",
       "      <td>66.400002</td>\n",
       "      <td>65.208360</td>\n",
       "      <td>66.400002</td>\n",
       "      <td>64.805877</td>\n",
       "    </tr>\n",
       "    <tr>\n",
       "      <th>495</th>\n",
       "      <td>64.808945</td>\n",
       "      <td>64.771538</td>\n",
       "      <td>64.808945</td>\n",
       "      <td>64.440507</td>\n",
       "      <td>64.808945</td>\n",
       "      <td>64.771538</td>\n",
       "      <td>64.808945</td>\n",
       "      <td>64.788504</td>\n",
       "      <td>64.808945</td>\n",
       "      <td>65.011466</td>\n",
       "      <td>64.808945</td>\n",
       "      <td>64.640835</td>\n",
       "    </tr>\n",
       "    <tr>\n",
       "      <th>411</th>\n",
       "      <td>67.000000</td>\n",
       "      <td>67.520169</td>\n",
       "      <td>67.000000</td>\n",
       "      <td>67.488002</td>\n",
       "      <td>67.000000</td>\n",
       "      <td>67.520169</td>\n",
       "      <td>67.000000</td>\n",
       "      <td>67.475222</td>\n",
       "      <td>67.000000</td>\n",
       "      <td>67.432745</td>\n",
       "      <td>67.000000</td>\n",
       "      <td>67.380910</td>\n",
       "    </tr>\n",
       "    <tr>\n",
       "      <th>18</th>\n",
       "      <td>72.099998</td>\n",
       "      <td>71.721267</td>\n",
       "      <td>72.099998</td>\n",
       "      <td>71.695969</td>\n",
       "      <td>72.099998</td>\n",
       "      <td>71.721267</td>\n",
       "      <td>72.099998</td>\n",
       "      <td>71.702818</td>\n",
       "      <td>72.099998</td>\n",
       "      <td>71.388997</td>\n",
       "      <td>72.099998</td>\n",
       "      <td>71.473722</td>\n",
       "    </tr>\n",
       "    <tr>\n",
       "      <th>428</th>\n",
       "      <td>55.500000</td>\n",
       "      <td>56.734517</td>\n",
       "      <td>55.500000</td>\n",
       "      <td>56.474929</td>\n",
       "      <td>55.500000</td>\n",
       "      <td>56.734517</td>\n",
       "      <td>55.500000</td>\n",
       "      <td>56.744898</td>\n",
       "      <td>55.500000</td>\n",
       "      <td>56.765699</td>\n",
       "      <td>55.500000</td>\n",
       "      <td>56.542527</td>\n",
       "    </tr>\n",
       "  </tbody>\n",
       "</table>\n",
       "<p>205 rows × 12 columns</p>\n",
       "</div>"
      ],
      "text/plain": [
       "     Real_Value  Predicted_value_LR  Real_Value_LR_logy  \\\n",
       "49    74.180000           60.547202           74.180000   \n",
       "584   66.006149           67.769890           66.006149   \n",
       "82    68.300003           66.102487           68.300003   \n",
       "305   61.099998           57.861212           61.099998   \n",
       "109   63.799999           60.746936           63.799999   \n",
       "..          ...                 ...                 ...   \n",
       "182   66.400002           65.013604           66.400002   \n",
       "495   64.808945           64.771538           64.808945   \n",
       "411   67.000000           67.520169           67.000000   \n",
       "18    72.099998           71.721267           72.099998   \n",
       "428   55.500000           56.734517           55.500000   \n",
       "\n",
       "     Predicted_value_LR_logy  Real_Value_LR_minmax  Predicted_value_LR_minmax  \\\n",
       "49                 59.951064             74.180000                  60.547202   \n",
       "584                67.441929             66.006149                  67.769890   \n",
       "82                 65.666076             68.300003                  66.102487   \n",
       "305                57.377559             61.099998                  57.861212   \n",
       "109                60.260718             63.799999                  60.746936   \n",
       "..                       ...                   ...                        ...   \n",
       "182                64.675104             66.400002                  65.013604   \n",
       "495                64.440507             64.808945                  64.771538   \n",
       "411                67.488002             67.000000                  67.520169   \n",
       "18                 71.695969             72.099998                  71.721267   \n",
       "428                56.474929             55.500000                  56.734517   \n",
       "\n",
       "     Real_Value_Ridge  Predicted_value_Ridge  Real_Value_Lasso  \\\n",
       "49          74.180000              60.603196         74.180000   \n",
       "584         66.006149              67.721506         66.006149   \n",
       "82          68.300003              66.097093         68.300003   \n",
       "305         61.099998              57.817265         61.099998   \n",
       "109         63.799999              60.741589         63.799999   \n",
       "..                ...                    ...               ...   \n",
       "182         66.400002              65.049258         66.400002   \n",
       "495         64.808945              64.788504         64.808945   \n",
       "411         67.000000              67.475222         67.000000   \n",
       "18          72.099998              71.702818         72.099998   \n",
       "428         55.500000              56.744898         55.500000   \n",
       "\n",
       "     Predicted_value_Lasso  Real_Value_Lasso  Predicted_value_Lasso_logy  \n",
       "49               60.761295         74.180000                   60.135652  \n",
       "584              67.524233         66.006149                   67.322461  \n",
       "82               65.946420         68.300003                   65.602803  \n",
       "305              57.572981         61.099998                   57.073331  \n",
       "109              60.824182         63.799999                   60.343653  \n",
       "..                     ...               ...                         ...  \n",
       "182              65.208360         66.400002                   64.805877  \n",
       "495              65.011466         64.808945                   64.640835  \n",
       "411              67.432745         67.000000                   67.380910  \n",
       "18               71.388997         72.099998                   71.473722  \n",
       "428              56.765699         55.500000                   56.542527  \n",
       "\n",
       "[205 rows x 12 columns]"
      ]
     },
     "execution_count": 93,
     "metadata": {},
     "output_type": "execute_result"
    }
   ],
   "source": [
    "results_comp=concat_results(results_comp,df_results6)\n",
    "results_comp"
   ]
  },
  {
   "cell_type": "code",
   "execution_count": null,
   "metadata": {},
   "outputs": [],
   "source": [
    "# GET THE BEST PREDICTION , for the presentatition"
   ]
  },
  {
   "cell_type": "code",
   "execution_count": 102,
   "metadata": {},
   "outputs": [],
   "source": [
    "ml_regression_lasso=results_comp[['Real_Value','Predicted_value_Lasso']]"
   ]
  },
  {
   "cell_type": "code",
   "execution_count": 103,
   "metadata": {},
   "outputs": [
    {
     "data": {
      "text/html": [
       "<div>\n",
       "<style scoped>\n",
       "    .dataframe tbody tr th:only-of-type {\n",
       "        vertical-align: middle;\n",
       "    }\n",
       "\n",
       "    .dataframe tbody tr th {\n",
       "        vertical-align: top;\n",
       "    }\n",
       "\n",
       "    .dataframe thead th {\n",
       "        text-align: right;\n",
       "    }\n",
       "</style>\n",
       "<table border=\"1\" class=\"dataframe\">\n",
       "  <thead>\n",
       "    <tr style=\"text-align: right;\">\n",
       "      <th></th>\n",
       "      <th>Real_Value</th>\n",
       "      <th>Predicted_value_Lasso</th>\n",
       "    </tr>\n",
       "  </thead>\n",
       "  <tbody>\n",
       "    <tr>\n",
       "      <th>49</th>\n",
       "      <td>74.180000</td>\n",
       "      <td>60.761295</td>\n",
       "    </tr>\n",
       "    <tr>\n",
       "      <th>584</th>\n",
       "      <td>66.006149</td>\n",
       "      <td>67.524233</td>\n",
       "    </tr>\n",
       "    <tr>\n",
       "      <th>82</th>\n",
       "      <td>68.300003</td>\n",
       "      <td>65.946420</td>\n",
       "    </tr>\n",
       "    <tr>\n",
       "      <th>305</th>\n",
       "      <td>61.099998</td>\n",
       "      <td>57.572981</td>\n",
       "    </tr>\n",
       "    <tr>\n",
       "      <th>109</th>\n",
       "      <td>63.799999</td>\n",
       "      <td>60.824182</td>\n",
       "    </tr>\n",
       "    <tr>\n",
       "      <th>...</th>\n",
       "      <td>...</td>\n",
       "      <td>...</td>\n",
       "    </tr>\n",
       "    <tr>\n",
       "      <th>182</th>\n",
       "      <td>66.400002</td>\n",
       "      <td>65.208360</td>\n",
       "    </tr>\n",
       "    <tr>\n",
       "      <th>495</th>\n",
       "      <td>64.808945</td>\n",
       "      <td>65.011466</td>\n",
       "    </tr>\n",
       "    <tr>\n",
       "      <th>411</th>\n",
       "      <td>67.000000</td>\n",
       "      <td>67.432745</td>\n",
       "    </tr>\n",
       "    <tr>\n",
       "      <th>18</th>\n",
       "      <td>72.099998</td>\n",
       "      <td>71.388997</td>\n",
       "    </tr>\n",
       "    <tr>\n",
       "      <th>428</th>\n",
       "      <td>55.500000</td>\n",
       "      <td>56.765699</td>\n",
       "    </tr>\n",
       "  </tbody>\n",
       "</table>\n",
       "<p>205 rows × 2 columns</p>\n",
       "</div>"
      ],
      "text/plain": [
       "     Real_Value  Predicted_value_Lasso\n",
       "49    74.180000              60.761295\n",
       "584   66.006149              67.524233\n",
       "82    68.300003              65.946420\n",
       "305   61.099998              57.572981\n",
       "109   63.799999              60.824182\n",
       "..          ...                    ...\n",
       "182   66.400002              65.208360\n",
       "495   64.808945              65.011466\n",
       "411   67.000000              67.432745\n",
       "18    72.099998              71.388997\n",
       "428   55.500000              56.765699\n",
       "\n",
       "[205 rows x 2 columns]"
      ]
     },
     "execution_count": 103,
     "metadata": {},
     "output_type": "execute_result"
    }
   ],
   "source": [
    "ml_regression_lasso"
   ]
  },
  {
   "cell_type": "code",
   "execution_count": 104,
   "metadata": {},
   "outputs": [],
   "source": [
    "ml_regression_lasso.to_csv('best ml_regression.csv',index=False)"
   ]
  }
 ],
 "metadata": {
  "kernelspec": {
   "display_name": "Python 3",
   "language": "python",
   "name": "python3"
  },
  "language_info": {
   "codemirror_mode": {
    "name": "ipython",
    "version": 3
   },
   "file_extension": ".py",
   "mimetype": "text/x-python",
   "name": "python",
   "nbconvert_exporter": "python",
   "pygments_lexer": "ipython3",
   "version": "3.8.2"
  }
 },
 "nbformat": 4,
 "nbformat_minor": 4
}
